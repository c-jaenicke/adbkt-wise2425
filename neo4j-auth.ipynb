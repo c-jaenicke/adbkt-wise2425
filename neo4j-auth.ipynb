{
 "cells": [
  {
   "cell_type": "code",
   "metadata": {
    "ExecuteTime": {
     "end_time": "2024-11-01T14:41:18.360870Z",
     "start_time": "2024-11-01T14:41:18.359007Z"
    }
   },
   "source": [
    "from neo4j import GraphDatabase\n",
    "import cred_neo4j as c\n",
    "import pandas as pd"
   ],
   "outputs": [],
   "execution_count": 25
  },
  {
   "cell_type": "code",
   "metadata": {
    "ExecuteTime": {
     "end_time": "2024-11-01T14:41:18.381902Z",
     "start_time": "2024-11-01T14:41:18.363626Z"
    }
   },
   "source": "driver = GraphDatabase.driver(c.neo4j_host, auth=(c.neo4j_userid, c.neo4j_password))",
   "outputs": [],
   "execution_count": 26
  },
  {
   "cell_type": "code",
   "metadata": {
    "ExecuteTime": {
     "end_time": "2024-11-01T14:41:18.416796Z",
     "start_time": "2024-11-01T14:41:18.406425Z"
    }
   },
   "source": [
    "def resetDb():\n",
    "    q1 = \"\"\"\n",
    "    match (n) detach delete n\n",
    "    \"\"\"\n",
    "\n",
    "    q2 = \"\"\"\n",
    "    create \n",
    "      // ----------------------------------------\n",
    "      // Admins, Gruppen, Gruppenstruktur\n",
    "      // ----------------------------------------\n",
    "      (a1:Admin {name: 'a1'}),\n",
    "      (a2:Admin {name: 'a2'}),\n",
    "      (g1:Gruppe {name: 'g1'}),\n",
    "      (g2:Gruppe {name: 'g2'}),\n",
    "      (g3:Gruppe {name: 'g3'}),\n",
    "      (a1)-[:ING]->(g1),\n",
    "      (a1)-[:ING]->(g3),\n",
    "      (a2)-[:ING]->(g2),\n",
    "      (a2)-[:ING]->(g3),\n",
    "      // ----------------------------------------\n",
    "      // Unternehmen, Unternehmenstrutur\n",
    "      // ----------------------------------------\n",
    "      (u1:Unternehmen {name: 'u1'}),\n",
    "      (u11:Unternehmen {name: 'u11'}),\n",
    "      (u111:Unternehmen {name: 'u111'}),\n",
    "      (u112:Unternehmen {name: 'u112'}),\n",
    "      (u1111:Unternehmen {name: 'u1111'}),\n",
    "      (u1112:Unternehmen {name: 'u1112'}),\n",
    "      (u12:Unternehmen {name: 'u12'}),\n",
    "      (u121:Unternehmen {name: 'u121'}),\n",
    "      (u122:Unternehmen {name: 'u122'}),\n",
    "      (u11)-[:SUB]->(u1),\n",
    "      (u12)-[:SUB]->(u1),\n",
    "      (u111)-[:SUB]->(u11),\n",
    "      (u1111)-[:SUB]->(u111),\n",
    "      (u1112)-[:SUB]->(u111),\n",
    "      (u112)-[:SUB]->(u11),\n",
    "      (u121)-[:SUB]->(u12),\n",
    "      (u122)-[:SUB]->(u12)\n",
    "    \"\"\"\n",
    "\n",
    "    with driver.session() as session:\n",
    "        session.run(q1)\n",
    "        session.run(q2)\n",
    "\n",
    "\n",
    "# dict um ueberschreibung von rechten zu ueberpruefen\n",
    "rights_lookup = {\n",
    "    \"AI\": [\"AI\", \"DI\", \"A\", \"D\"],\n",
    "    \"DI\": [\"DI\", \"A\", \"D\"],\n",
    "    \"A\": [\"A\", \"D\"],\n",
    "    \"D\": []\n",
    "}\n",
    "\n",
    "\n",
    "def setAuth(gruppe, unternehmen, auth):\n",
    "    with driver.session() as session:\n",
    "        # erhalte alle mitglieder der gegebenen gruppe\n",
    "        query = f\"\"\"\n",
    "        MATCH (g:Gruppe {{name: '{gruppe}'}})<-[:ING]-(a:Admin)\n",
    "        RETURN a.name;\n",
    "        \"\"\"\n",
    "        res = session.run(query)\n",
    "        df_group = pd.DataFrame(res.data())\n",
    "        #print(f\"Admins in Gruppe {gruppe}:\\n{df_group}\")\n",
    "\n",
    "        # teste ob auth anweisung mehr als ein zeichen hat\n",
    "        # wenn ja, aenderungen von mehreren beziehungen\n",
    "        if len(auth) > 1:\n",
    "            # iteriere ueber gefundene admins\n",
    "            for index, row in df_group.iterrows():\n",
    "                admin_name = row['a.name']\n",
    "\n",
    "                # sammle derzeitige berechtigungen für benutzer\n",
    "                query = f\"\"\"\n",
    "                    MATCH (a:Admin {{name: '{admin_name}'}})-[acc:ACCS]->(u:Unternehmen)\n",
    "                    RETURN a.name as admin, acc.val as accesstype, u.name as access\n",
    "                \"\"\"\n",
    "                res = session.run(query)\n",
    "                df_accessrecords = pd.DataFrame(res.data())\n",
    "\n",
    "                # wenn keine beziehungen bestehen, lege beziehung an mit gegebenem auth\n",
    "                if df_accessrecords.empty:\n",
    "                    query = f\"\"\"\n",
    "                        MATCH (h1:Unternehmen {{name: '{unternehmen}'}})<-[:SUB*0..]-(sub:Unternehmen)\n",
    "                        WITH DISTINCT sub AS subs\n",
    "                \n",
    "                        MATCH (a:Admin {{name: '{row['a.name']}'}})\n",
    "                        UNWIND subs AS sub\n",
    "                \n",
    "                        MERGE (a)-[acc:ACCS {{val: '{auth}'}}]->(sub) \n",
    "                    \"\"\"\n",
    "                    session.run(query)\n",
    "\n",
    "                # wenn beziehungen bestehen, weiter zu aenderung von beziehungen\n",
    "                else:\n",
    "                    # erhalte alle bestehenden berechtigungen ab spezifizieren unternehmen\n",
    "                    query = f\"\"\"\n",
    "                        MATCH (u:Unternehmen {{name: '{unternehmen}'}})<-[:SUB*0..]-(sub:Unternehmen)\n",
    "                        WITH DISTINCT sub AS subs\n",
    "\n",
    "                        MATCH (a:Admin {{name: '{admin_name}'}})-[acc:ACCS]->(sub)\n",
    "                        UNWIND subs AS sub2\n",
    "\n",
    "                        RETURN sub2.name AS access, acc.val AS accesstype\n",
    "                    \"\"\"\n",
    "                    res = session.run(query)\n",
    "                    df_current_auth = pd.DataFrame(res.data())\n",
    "\n",
    "                    for index, row in df_current_auth.iterrows():\n",
    "                        # teste ob existierender auth ueberschrieben werden darf\n",
    "                        # wenn ja, ueberschreiben\n",
    "                        # wenn nein, tue nichts\n",
    "                        if auth in rights_lookup[row['accesstype']]:\n",
    "                            query = f\"\"\"\n",
    "                                MATCH (a:Admin {{name: '{admin_name}'}})-[acc:ACCS]->(u:Unternehmen {{name: '{row['access']}'}})\n",
    "                                SET acc.val = '{auth}'\n",
    "                            \"\"\"\n",
    "                            session.run(query)\n",
    "\n",
    "        # wenn nein, nur einzelne beziehung aaendern\n",
    "        else:\n",
    "            for index, row in df_group.iterrows():\n",
    "                admin_name = row['a.name']\n",
    "                query = f\"\"\"\n",
    "                    MATCH (a:Admin {{name: '{admin_name}'}})-[acc:ACCS]->(u:Unternehmen {{name: '{unternehmen}'}})\n",
    "                    RETURN a.name as admin, acc.val as accesstype, u.name as access\n",
    "                \"\"\"\n",
    "                res = session.run(query)\n",
    "                df_accessrecords = pd.DataFrame(res.data())\n",
    "\n",
    "                if df_accessrecords.empty:\n",
    "                    query = f\"\"\"\n",
    "                        MATCH (a:Admin {{name: '{admin_name}'}}-[acc:ACCS]->(u:Unternehmen {{name: '{unternehmen}'}})\n",
    "                        MERGE (a)-[acc:ACCS {{val: '{auth}'}}]->(u) \n",
    "                    \"\"\"\n",
    "                    session.run(query)\n",
    "\n",
    "                else:\n",
    "                    for index, row in df_accessrecords.iterrows():\n",
    "                        # teste ob existierender auth ueberschrieben werden darf\n",
    "                        if auth in rights_lookup[row['accesstype']]:\n",
    "                            query = f\"\"\"\n",
    "                                MATCH (a:Admin {{name: '{admin_name}'}})-[acc:ACCS]->(u:Unternehmen {{name: '{unternehmen}'}})\n",
    "                                SET acc.val = '{auth}'\n",
    "                            \"\"\"\n",
    "                            session.run(query)\n",
    "\n",
    "\n",
    "def unsetAuth(gruppe, unternehmen, auth):\n",
    "    pass\n",
    "\n",
    "\n",
    "def showAuth():\n",
    "    with driver.session() as session:\n",
    "        # erhalte alle beziehungen wo wert nicht D oder DI ist\n",
    "        query = \"\"\"\n",
    "            MATCH (a:Admin)-[acc:ACCS]->(u:Unternehmen)\n",
    "            WHERE NOT acc.val IN ['D', 'DI']\n",
    "            RETURN a.name as admin, u.name as access, acc.val as accesstype\n",
    "            ORDER BY admin, access;\n",
    "        \"\"\"\n",
    "        res = session.run(query)\n",
    "        print(f\"Derzeit gültige Rechte:\\n{pd.DataFrame(res.data())}\")\n",
    "\n",
    "\n"
   ],
   "outputs": [],
   "execution_count": 27
  },
  {
   "cell_type": "code",
   "metadata": {
    "ExecuteTime": {
     "end_time": "2024-11-01T14:41:18.787339Z",
     "start_time": "2024-11-01T14:41:18.460364Z"
    }
   },
   "source": [
    "resetDb()"
   ],
   "outputs": [],
   "execution_count": 28
  },
  {
   "cell_type": "code",
   "metadata": {
    "ExecuteTime": {
     "end_time": "2024-11-01T14:41:19.207026Z",
     "start_time": "2024-11-01T14:41:18.796356Z"
    }
   },
   "source": [
    "# Beispiel 1\n",
    "setAuth(\"g3\", \"u1\", \"AI\")\n",
    "# unsetAuth(\"g3\", \"u1\", \"AI\")\n",
    "showAuth()"
   ],
   "outputs": [
    {
     "name": "stdout",
     "output_type": "stream",
     "text": [
      "Derzeit gültige Rechte:\n",
      "   admin access accesstype\n",
      "0     a1     u1         AI\n",
      "1     a1    u11         AI\n",
      "2     a1   u111         AI\n",
      "3     a1  u1111         AI\n",
      "4     a1  u1112         AI\n",
      "5     a1   u112         AI\n",
      "6     a1    u12         AI\n",
      "7     a1   u121         AI\n",
      "8     a1   u122         AI\n",
      "9     a2     u1         AI\n",
      "10    a2    u11         AI\n",
      "11    a2   u111         AI\n",
      "12    a2  u1111         AI\n",
      "13    a2  u1112         AI\n",
      "14    a2   u112         AI\n",
      "15    a2    u12         AI\n",
      "16    a2   u121         AI\n",
      "17    a2   u122         AI\n"
     ]
    }
   ],
   "execution_count": 29
  },
  {
   "cell_type": "code",
   "metadata": {
    "ExecuteTime": {
     "end_time": "2024-11-01T14:41:22.446546Z",
     "start_time": "2024-11-01T14:41:19.277849Z"
    }
   },
   "source": [
    "# Beispiel 2\n",
    "setAuth(\"g1\", \"u12\", \"DI\")\n",
    "setAuth(\"g2\", \"u11\", \"DI\")\n",
    "# unsetAuth(\"g1\", \"u12\", \"DI\")\n",
    "# unsetAuth(\"g2\", \"u11\", \"DI\")\n",
    "showAuth()"
   ],
   "outputs": [
    {
     "name": "stdout",
     "output_type": "stream",
     "text": [
      "Derzeit gültige Rechte:\n",
      "  admin access accesstype\n",
      "0    a1     u1         AI\n",
      "1    a1    u11         AI\n",
      "2    a1   u111         AI\n",
      "3    a1  u1111         AI\n",
      "4    a1  u1112         AI\n",
      "5    a1   u112         AI\n",
      "6    a2     u1         AI\n",
      "7    a2    u12         AI\n",
      "8    a2   u121         AI\n",
      "9    a2   u122         AI\n"
     ]
    }
   ],
   "execution_count": 30
  },
  {
   "cell_type": "code",
   "metadata": {
    "ExecuteTime": {
     "end_time": "2024-11-01T14:41:23.758151Z",
     "start_time": "2024-11-01T14:41:22.457247Z"
    }
   },
   "source": [
    "# Beispiel 3\n",
    "setAuth(\"g1\", \"u111\", \"DI\")\n",
    "# unsetAuth(\"g1\", \"u111\", \"DI\")\n",
    "showAuth()"
   ],
   "outputs": [
    {
     "name": "stdout",
     "output_type": "stream",
     "text": [
      "Derzeit gültige Rechte:\n",
      "  admin access accesstype\n",
      "0    a1     u1         AI\n",
      "1    a1    u11         AI\n",
      "2    a1   u112         AI\n",
      "3    a2     u1         AI\n",
      "4    a2    u12         AI\n",
      "5    a2   u121         AI\n",
      "6    a2   u122         AI\n"
     ]
    }
   ],
   "execution_count": 31
  },
  {
   "cell_type": "code",
   "metadata": {
    "ExecuteTime": {
     "end_time": "2024-11-01T14:41:24.018671Z",
     "start_time": "2024-11-01T14:41:23.775547Z"
    }
   },
   "source": [
    "# Beispiel 4\n",
    "setAuth(\"g1\", \"u1111\", \"A\")\n",
    "# unsetAuth(\"g1\", \"u1111\", \"A\")\n",
    "showAuth()"
   ],
   "outputs": [
    {
     "name": "stdout",
     "output_type": "stream",
     "text": [
      "Derzeit gültige Rechte:\n",
      "  admin access accesstype\n",
      "0    a1     u1         AI\n",
      "1    a1    u11         AI\n",
      "2    a1  u1111          A\n",
      "3    a1   u112         AI\n",
      "4    a2     u1         AI\n",
      "5    a2    u12         AI\n",
      "6    a2   u121         AI\n",
      "7    a2   u122         AI\n"
     ]
    }
   ],
   "execution_count": 32
  },
  {
   "cell_type": "code",
   "metadata": {
    "ExecuteTime": {
     "end_time": "2024-11-01T14:41:24.264770Z",
     "start_time": "2024-11-01T14:41:24.023519Z"
    }
   },
   "source": [
    "# Beispiel 5\n",
    "setAuth(\"g2\", \"u12\", \"D\")\n",
    "# unsetAuth(\"g2\", \"u12\", \"D\")\n",
    "showAuth()"
   ],
   "outputs": [
    {
     "name": "stdout",
     "output_type": "stream",
     "text": [
      "Derzeit gültige Rechte:\n",
      "  admin access accesstype\n",
      "0    a1     u1         AI\n",
      "1    a1    u11         AI\n",
      "2    a1  u1111          A\n",
      "3    a1   u112         AI\n",
      "4    a2     u1         AI\n",
      "5    a2   u121         AI\n",
      "6    a2   u122         AI\n"
     ]
    }
   ],
   "execution_count": 33
  },
  {
   "cell_type": "code",
   "metadata": {
    "ExecuteTime": {
     "end_time": "2024-11-01T14:41:24.671057Z",
     "start_time": "2024-11-01T14:41:24.329267Z"
    }
   },
   "source": [
    "# Beispiel 6\n",
    "setAuth(\"g3\", \"u1\", \"D\")\n",
    "# unsetAuth(\"g3\", \"u1\", \"D\")\n",
    "showAuth()"
   ],
   "outputs": [
    {
     "name": "stdout",
     "output_type": "stream",
     "text": [
      "Derzeit gültige Rechte:\n",
      "  admin access accesstype\n",
      "0    a1    u11         AI\n",
      "1    a1  u1111          A\n",
      "2    a1   u112         AI\n",
      "3    a2   u121         AI\n",
      "4    a2   u122         AI\n"
     ]
    }
   ],
   "execution_count": 34
  }
 ],
 "metadata": {
  "kernelspec": {
   "display_name": "base",
   "language": "python",
   "name": "python3"
  },
  "language_info": {
   "codemirror_mode": {
    "name": "ipython",
    "version": 3
   },
   "file_extension": ".py",
   "mimetype": "text/x-python",
   "name": "python",
   "nbconvert_exporter": "python",
   "pygments_lexer": "ipython3",
   "version": "3.10.10"
  },
  "orig_nbformat": 4
 },
 "nbformat": 4,
 "nbformat_minor": 2
}
