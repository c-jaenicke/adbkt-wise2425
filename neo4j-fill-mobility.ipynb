{
 "cells": [
  {
   "cell_type": "markdown",
   "metadata": {},
   "source": [
    "# Import / Config"
   ]
  },
  {
   "cell_type": "code",
   "metadata": {
    "ExecuteTime": {
     "end_time": "2024-11-08T12:28:32.807689Z",
     "start_time": "2024-11-08T12:28:32.805182Z"
    }
   },
   "source": [
    "import pandas as pd\n",
    "from sqlalchemy import create_engine\n",
    "from neo4j import GraphDatabase\n",
    "\n",
    "import cred_pg as c\n",
    "import cred_neo4j as cc"
   ],
   "outputs": [],
   "execution_count": 11
  },
  {
   "cell_type": "markdown",
   "metadata": {},
   "source": [
    "## Postgres"
   ]
  },
  {
   "cell_type": "code",
   "metadata": {
    "ExecuteTime": {
     "end_time": "2024-11-08T12:28:32.831598Z",
     "start_time": "2024-11-08T12:28:32.811434Z"
    }
   },
   "source": [
    "engine = create_engine(\n",
    "    f'postgresql+psycopg://{c.pg_userid}:{c.pg_password}@{c.pg_host}/{c.pg_db}', \n",
    "    connect_args = {\n",
    "        'options': '-c search_path=${user},ugeobln,ugm,uinsta,umisc,umobility,usozmed,public', \n",
    "        'keepalives_idle': 120},\n",
    "    pool_size=1, \n",
    "    max_overflow=0,\n",
    "    execution_options={ 'isolation_level': 'AUTOCOMMIT' }\n",
    ")"
   ],
   "outputs": [],
   "execution_count": 12
  },
  {
   "cell_type": "code",
   "metadata": {
    "ExecuteTime": {
     "end_time": "2024-11-08T12:28:32.859630Z",
     "start_time": "2024-11-08T12:28:32.857501Z"
    }
   },
   "source": [
    "# engine.dispose()"
   ],
   "outputs": [],
   "execution_count": 13
  },
  {
   "cell_type": "code",
   "metadata": {
    "ExecuteTime": {
     "end_time": "2024-11-08T12:28:34.969047Z",
     "start_time": "2024-11-08T12:28:32.903823Z"
    }
   },
   "source": [
    "with engine.connect() as con:\n",
    "    haltestelle_pdf = pd.read_sql_query(\"select * from haltestelle\", con)\n",
    "    segment_pdf = pd.read_sql_query(\"select * from segment\", con)\n",
    "    linie_pdf = pd.read_sql_query(\"select * from linie\", con)\n",
    "    unterlinie_pdf = pd.read_sql_query(\"select * from unterlinie\", con)\n",
    "    abschnitt_pdf = pd.read_sql_query(\"select * from abschnitt\", con)"
   ],
   "outputs": [],
   "execution_count": 14
  },
  {
   "cell_type": "code",
   "metadata": {
    "ExecuteTime": {
     "end_time": "2024-11-08T12:28:34.988588Z",
     "start_time": "2024-11-08T12:28:34.981970Z"
    }
   },
   "source": [
    "abschnitt_pdf.info()"
   ],
   "outputs": [
    {
     "name": "stdout",
     "output_type": "stream",
     "text": [
      "<class 'pandas.core.frame.DataFrame'>\n",
      "RangeIndex: 570 entries, 0 to 569\n",
      "Data columns (total 5 columns):\n",
      " #   Column  Non-Null Count  Dtype \n",
      "---  ------  --------------  ----- \n",
      " 0   ulid    570 non-null    int64 \n",
      " 1   nr      570 non-null    int64 \n",
      " 2   hid_a   570 non-null    int64 \n",
      " 3   hid_b   570 non-null    int64 \n",
      " 4   haelt   570 non-null    object\n",
      "dtypes: int64(4), object(1)\n",
      "memory usage: 22.4+ KB\n"
     ]
    }
   ],
   "execution_count": 15
  },
  {
   "cell_type": "markdown",
   "metadata": {},
   "source": [
    "## neo4j"
   ]
  },
  {
   "cell_type": "code",
   "metadata": {
    "ExecuteTime": {
     "end_time": "2024-11-08T12:28:44.648542Z",
     "start_time": "2024-11-08T12:28:35.083464Z"
    }
   },
   "source": [
    "cypher_create_stop = 'CREATE (h:Haltestelle {hid: $hid, bez: $bez, lat:$lat, lng:$lng})'\n",
    "with GraphDatabase.driver(cc.neo4j_host, auth=(cc.neo4j_userid, cc.neo4j_password)) as driver:\n",
    "    with driver.session() as session:\n",
    "        for r in haltestelle_pdf.itertuples(index=False):\n",
    "            session.run(cypher_create_stop, hid=r.hid, bez=r.bez, lat=r.lat, lng=r.lng)"
   ],
   "outputs": [],
   "execution_count": 16
  },
  {
   "cell_type": "code",
   "metadata": {
    "ExecuteTime": {
     "end_time": "2024-11-08T12:28:46.346409Z",
     "start_time": "2024-11-08T12:28:44.659177Z"
    }
   },
   "source": [
    "cypher_create_linie = 'CREATE (l:Linie {lid: $lid, bez: $bez})'\n",
    "with GraphDatabase.driver(cc.neo4j_host, auth=(cc.neo4j_userid, cc.neo4j_password)) as driver:\n",
    "    with driver.session() as session:\n",
    "        for r in linie_pdf.itertuples(index=False):\n",
    "            session.run(cypher_create_linie, lid=r.lid, bez=r.bez)"
   ],
   "outputs": [],
   "execution_count": 17
  },
  {
   "cell_type": "code",
   "metadata": {
    "ExecuteTime": {
     "end_time": "2024-11-08T12:28:53.496341Z",
     "start_time": "2024-11-08T12:28:46.361783Z"
    }
   },
   "source": [
    "cypher_create_segment = '''\n",
    "MATCH (ha:Haltestelle), (hb:Haltestelle)\n",
    "WHERE ha.hid=$hid_a AND hb.hid=$hid_b\n",
    "CREATE (s:Segment {hid_a: ha.hid, hid_b: hb.hid, laengeInMeter: $laengeInMeter})\n",
    "CREATE (s) -[:ProjSegA]-> (ha)\n",
    "CREATE (s) -[:ProjSegB]-> (hb)\n",
    "'''\n",
    "with GraphDatabase.driver(cc.neo4j_host, auth=(cc.neo4j_userid, cc.neo4j_password)) as driver:\n",
    "    with driver.session() as session:\n",
    "        for r in segment_pdf.itertuples(index=False):\n",
    "            session.run(cypher_create_segment, hid_a=r.hid_a, hid_b=r.hid_b, laengeInMeter=r.laenge_in_meter)"
   ],
   "outputs": [],
   "execution_count": 18
  },
  {
   "cell_type": "code",
   "metadata": {
    "ExecuteTime": {
     "end_time": "2024-11-08T12:28:56.894727Z",
     "start_time": "2024-11-08T12:28:53.511997Z"
    }
   },
   "source": [
    "cypher_create_unterlinie = '''\n",
    "MATCH (l:Linie)\n",
    "WHERE l.lid=$lid\n",
    "CREATE (ul:Unterlinie {ulid: $ulid})\n",
    "CREATE (ul) -[:InL]-> (l)\n",
    "'''\n",
    "with GraphDatabase.driver(cc.neo4j_host, auth=(cc.neo4j_userid, cc.neo4j_password)) as driver:\n",
    "    with driver.session() as session:\n",
    "        for r in unterlinie_pdf.itertuples(index=False):\n",
    "            session.run(cypher_create_unterlinie, ulid=r.ulid, lid=r.lid)"
   ],
   "outputs": [],
   "execution_count": 19
  },
  {
   "cell_type": "code",
   "metadata": {
    "ExecuteTime": {
     "end_time": "2024-11-08T13:18:25.964236Z",
     "start_time": "2024-11-08T13:18:06.636915Z"
    }
   },
   "source": [
    "cypher_create_abschnitt = '''\n",
    "MATCH (ha:Haltestelle), (hb:Haltestelle), (ul:Unterlinie)\n",
    "WHERE ha.hid=$hid_a AND hb.hid=$hid_b AND ul.ulid=$ulid\n",
    "CREATE (a:Abschnitt {nr: $nr, haelt: $haelt})\n",
    "CREATE (a) -[:InUL]-> (ul)\n",
    "CREATE (a) -[:ProjAbA]-> (ha)\n",
    "CREATE (a) -[:ProjAbB]-> (hb)\n",
    "'''\n",
    "with GraphDatabase.driver(cc.neo4j_host, auth=(cc.neo4j_userid, cc.neo4j_password)) as driver:\n",
    "    with driver.session() as session:\n",
    "        for r in abschnitt_pdf.itertuples(index=False):\n",
    "            session.run(cypher_create_abschnitt, ulid=r.ulid, nr=r.nr, hid_a=r.hid_a, hid_b=r.hid_b, haelt=r.haelt)"
   ],
   "outputs": [],
   "execution_count": 21
  }
 ],
 "metadata": {
  "kernelspec": {
   "display_name": "Python 3 (ipykernel)",
   "language": "python",
   "name": "python3"
  },
  "language_info": {
   "codemirror_mode": {
    "name": "ipython",
    "version": 3
   },
   "file_extension": ".py",
   "mimetype": "text/x-python",
   "name": "python",
   "nbconvert_exporter": "python",
   "pygments_lexer": "ipython3",
   "version": "3.12.6"
  },
  "vscode": {
   "interpreter": {
    "hash": "2d6fa041adfecd6e27df7d45c6447a3fc1437381c85a5efcc15b960708d9d702"
   }
  }
 },
 "nbformat": 4,
 "nbformat_minor": 4
}
