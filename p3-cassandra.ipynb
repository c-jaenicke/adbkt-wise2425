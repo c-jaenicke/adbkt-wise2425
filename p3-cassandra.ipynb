{
 "cells": [
  {
   "metadata": {},
   "cell_type": "markdown",
   "source": "## Setup Environment",
   "id": "a1897f0bfbe20e6c"
  },
  {
   "metadata": {
    "ExecuteTime": {
     "end_time": "2024-10-29T06:43:53.211707Z",
     "start_time": "2024-10-29T06:43:52.581508Z"
    }
   },
   "cell_type": "code",
   "source": [
    "from cassandra.cluster import Cluster\n",
    "from cassandra.query import dict_factory\n",
    "\n",
    "import cred_cassandra as c\n",
    "\n",
    "cluster = Cluster([c.host])\n",
    "session = cluster.connect(keyspace='tourdelight')\n",
    "session.row_factory = dict_factory"
   ],
   "id": "1475a7d0cdbb32de",
   "outputs": [],
   "execution_count": 8
  },
  {
   "metadata": {},
   "cell_type": "markdown",
   "source": "## Setup Tables and Data",
   "id": "638cefe1c9f31179"
  },
  {
   "metadata": {
    "ExecuteTime": {
     "end_time": "2024-10-29T06:43:53.230664Z",
     "start_time": "2024-10-29T06:43:53.216219Z"
    }
   },
   "cell_type": "code",
   "source": [
    "def pretty_resultset_table(result_set):\n",
    "    rows = [row for row in result_set]\n",
    "\n",
    "    if not rows:\n",
    "        return \"No data available\"\n",
    "\n",
    "    column_names = rows[0].keys()\n",
    "\n",
    "    column_widths = {col: max(len(str(col)), max(len(str(row[col])) for row in rows)) for col in column_names}\n",
    "\n",
    "    header = \" | \".join(f\"{col.ljust(column_widths[col])}\" for col in column_names)\n",
    "    separator = \"-+-\".join(\"-\" * column_widths[col] for col in column_names)\n",
    "\n",
    "    formatted_rows = []\n",
    "    for row in rows:\n",
    "        formatted_row = \" | \".join(str(row[col]).ljust(column_widths[col]) for col in column_names)\n",
    "        formatted_rows.append(formatted_row)\n",
    "\n",
    "    table = \"\\n\".join([header, separator] + formatted_rows)\n",
    "    print(table)\n",
    "\n",
    "\n",
    "def drop_all_tables():\n",
    "    query = \"SELECT table_name FROM system_schema.tables WHERE keyspace_name = 'tourdelight';\"\n",
    "    rows = session.execute(query)\n",
    "    for row in rows:\n",
    "        query = f\"DROP TABLE IF EXISTS {row[\"table_name\"]};\"\n",
    "        session.execute(query)\n",
    "\n",
    "\n",
    "def init_tables():\n",
    "    query = \"\"\"\n",
    "    CREATE TABLE IF NOT EXISTS region (\n",
    "    rid int,\n",
    "    name text,\n",
    "    primary key (rid)\n",
    "    );\n",
    "    \"\"\"\n",
    "    session.execute(query)\n",
    "\n",
    "    query = \"\"\"\n",
    "    CREATE TABLE IF NOT EXISTS tour (\n",
    "    tid int,\n",
    "    descr text,\n",
    "    duration int,\n",
    "    distance int,\n",
    "    ascent text,\n",
    "    descent text,\n",
    "    primary key (tid)\n",
    "    )\n",
    "    \"\"\"\n",
    "    session.execute(query)\n",
    "\n",
    "    query = \"\"\"\n",
    "    CREATE TABLE IF NOT EXISTS user (\n",
    "    uid int,\n",
    "    email text,\n",
    "    name text,\n",
    "    city text,\n",
    "    country text,\n",
    "    primary key (uid)\n",
    "    )\n",
    "    \"\"\"\n",
    "    session.execute(query)\n",
    "\n",
    "    query = \"\"\"\n",
    "    CREATE TABLE IF NOT EXISTS tour_by_region (\n",
    "    tid int,\n",
    "    rid int,\n",
    "    r_name text,\n",
    "    t_descr text,\n",
    "    t_duration int,\n",
    "    t_distance int,\n",
    "    primary key (rid, tid)\n",
    "    )\n",
    "    \"\"\"\n",
    "    session.execute(query)\n",
    "\n",
    "    query = \"\"\"\n",
    "    CREATE TABLE IF NOT EXISTS tour_by_user_rating (\n",
    "    tid int,\n",
    "    uid int,\n",
    "    rating int,\n",
    "    primary key (tid, uid, rating)\n",
    "    )\n",
    "    WITH CLUSTERING ORDER BY (uid ASC, rating DESC)\n",
    "    \"\"\"\n",
    "    session.execute(query)\n",
    "\n",
    "    query = \"\"\"\n",
    "    CREATE TABLE IF NOT EXISTS tour_by_diff_activity (\n",
    "    tid int,\n",
    "    rid int,\n",
    "    difficulty text,\n",
    "    activity text,\n",
    "    t_descr text,\n",
    "    t_duration int,\n",
    "    t_distance int,\n",
    "    primary key ((tid, rid), activity, difficulty)\n",
    "    )\n",
    "    \"\"\"\n",
    "    session.execute(query)\n",
    "\n",
    "\n",
    "def fill_example_values():\n",
    "    # fill regions\n",
    "    queries = [\n",
    "        \"INSERT INTO region(rid, name) VALUES (1, 'Schrammsteine')\",\n",
    "        \"INSERT INTO region(rid, name) VALUES (2, 'Lilienstein')\",\n",
    "        \"INSERT INTO region(rid, name) VALUES (3, 'Festung Königstein')\",\n",
    "        \"INSERT INTO region(rid, name) VALUES (4, 'Bastei')\",\n",
    "        \"INSERT INTO region(rid, name) VALUES (5, 'Pfaffenstein')\"\n",
    "    ]\n",
    "\n",
    "    # fill tours\n",
    "    queries.extend([\n",
    "        \"INSERT INTO tour(tid, ascent, descent, descr, distance, duration) VALUES(1, '50.9335, 14.15', '50.9340, 14.18', 'Leichte Wanderung durch die Schrammsteine', 2500, 90);\",\n",
    "        \"INSERT INTO tour(tid, ascent, descent, descr, distance, duration) VALUES(2, '50.9342, 14.16', '50.9360, 14.20', 'Felsenpfad zum Aussichtspunkt in den Schrammsteinen', 3200, 120);\",\n",
    "        \"INSERT INTO tour(tid, ascent, descent, descr, distance, duration) VALUES(3, '50.9195, 14.08', '50.9200, 14.11', 'Rundtour um den Lilienstein', 4000, 140);\",\n",
    "        \"INSERT INTO tour(tid, ascent, descent, descr, distance, duration) VALUES(4, '50.9180, 14.10', '50.9205, 14.12', 'Aufstieg zur Spitze des Liliensteins', 1800, 60);\",\n",
    "        \"INSERT INTO tour(tid, ascent, descent, descr, distance, duration) VALUES(5, '50.9233, 14.05', '50.9240, 14.07', 'Historische Tour zur Festung Königstein', 2700, 100);\",\n",
    "        \"INSERT INTO tour(tid, ascent, descent, descr, distance, duration) VALUES(6, '50.9240, 14.04', '50.9260, 14.06', 'Panoramaweg rund um die Festung Königstein', 3400, 120);\",\n",
    "        \"INSERT INTO tour(tid, ascent, descent, descr, distance, duration) VALUES(7, '50.9675, 14.08', '50.9680, 14.10', 'Wanderung zur Bastei-Brücke', 2000, 70);\",\n",
    "        \"INSERT INTO tour(tid, ascent, descent, descr, distance, duration) VALUES(8, '50.9650, 14.07', '50.9670, 14.09', 'Ausgiebige Bastei-Rundtour', 4500, 160);\",\n",
    "        \"INSERT INTO tour(tid, ascent, descent, descr, distance, duration) VALUES(9, '50.9285, 14.22', '50.9300, 14.25', 'Wanderung zum Pfaffenstein', 2300, 85);\",\n",
    "        \"INSERT INTO tour(tid, ascent, descent, descr, distance, duration) VALUES(10, '50.9290, 14.23', '50.9310, 14.26', 'Höhenpfad mit Blick auf den Pfaffenstein', 3000, 110);\"\n",
    "    ])\n",
    "\n",
    "    # fill user\n",
    "    queries.extend([\n",
    "        \"INSERT INTO user(uid, city, country, email, name) VALUES(1, 'Dresden', 'Deutschland', 'maria.schmidt@example.com', 'Maria Schmidt');\",\n",
    "        \"INSERT INTO user(uid, city, country, email, name) VALUES(2, 'Pirna', 'Deutschland', 'lars.mueller@example.com', 'Lars Müller');\",\n",
    "        \"INSERT INTO user(uid, city, country, email, name) VALUES(3, 'Leipzig', 'Deutschland', 'anja.bauer@example.com', 'Anja Bauer');\",\n",
    "        \"INSERT INTO user(uid, city, country, email, name) VALUES(4, 'Berlin', 'Deutschland', 'thomas.schulz@example.com', 'Thomas Schulz');\",\n",
    "        \"INSERT INTO user(uid, city, country, email, name) VALUES(5, 'Hamburg', 'Deutschland', 'julia.fischer@example.com', 'Julia Fischer');\",\n",
    "        \"INSERT INTO user(uid, city, country, email, name) VALUES(6, 'Köln', 'Deutschland', 'marc.wagner@example.com', 'Marc Wagner');\",\n",
    "        \"INSERT INTO user(uid, city, country, email, name) VALUES(7, 'Stuttgart', 'Deutschland', 'sabrina.mayer@example.com', 'Sabrina Mayer');\",\n",
    "        \"INSERT INTO user(uid, city, country, email, name) VALUES(8, 'München', 'Deutschland', 'alex.klein@example.com', 'Alex Klein');\",\n",
    "        \"INSERT INTO user(uid, city, country, email, name) VALUES(9, 'Frankfurt', 'Deutschland', 'nina.hoffmann@example.com', 'Nina Hoffmann');\",\n",
    "        \"INSERT INTO user(uid, city, country, email, name) VALUES(10, 'Bremen', 'Deutschland', 'robert.weber@example.com', 'Robert Weber');\"\n",
    "    ])\n",
    "\n",
    "    # fill tour by region\n",
    "    queries.extend([\n",
    "        \"INSERT INTO tour_by_region(rid, tid, r_name, t_descr, t_distance, t_duration) VALUES(1, 1, 'Schrammsteine', 'Leichte Wanderung durch die Schrammsteine', 2500, 90);\",\n",
    "        \"INSERT INTO tour_by_region(rid, tid, r_name, t_descr, t_distance, t_duration) VALUES(1, 2, 'Schrammsteine', 'Felsenpfad zum Aussichtspunkt in den Schrammsteinen', 3200, 120);\",\n",
    "        \"INSERT INTO tour_by_region(rid, tid, r_name, t_descr, t_distance, t_duration) VALUES(2, 3, 'Lilienstein', 'Rundtour um den Lilienstein', 4000, 140);\",\n",
    "        \"INSERT INTO tour_by_region(rid, tid, r_name, t_descr, t_distance, t_duration) VALUES(2, 4, 'Lilienstein', 'Aufstieg zur Spitze des Liliensteins', 1800, 60);\",\n",
    "        \"INSERT INTO tour_by_region(rid, tid, r_name, t_descr, t_distance, t_duration) VALUES(3, 5, 'Festung Königstein', 'Historische Tour zur Festung Königstein', 2700, 100);\",\n",
    "        \"INSERT INTO tour_by_region(rid, tid, r_name, t_descr, t_distance, t_duration) VALUES(3, 6, 'Festung Königstein', 'Panoramaweg rund um die Festung Königstein', 3400, 120);\",\n",
    "        \"INSERT INTO tour_by_region(rid, tid, r_name, t_descr, t_distance, t_duration) VALUES(4, 7, 'Bastei', 'Wanderung zur Bastei-Brücke', 2000, 70);\",\n",
    "        \"INSERT INTO tour_by_region(rid, tid, r_name, t_descr, t_distance, t_duration) VALUES(4, 8, 'Bastei', 'Ausgiebige Bastei-Rundtour', 4500, 160);\",\n",
    "        \"INSERT INTO tour_by_region(rid, tid, r_name, t_descr, t_distance, t_duration) VALUES(5, 9, 'Pfaffenstein', 'Wanderung zum Pfaffenstein', 2300, 85);\",\n",
    "        \"INSERT INTO tour_by_region(rid, tid, r_name, t_descr, t_distance, t_duration) VALUES(5, 10, 'Pfaffenstein', 'Höhenpfad mit Blick auf den Pfaffenstein', 3000, 110);\"\n",
    "    ])\n",
    "\n",
    "    # fill tour by user rating\n",
    "    queries.extend([\n",
    "        \"INSERT INTO tour_by_user_rating(tid, uid, rating) VALUES(1, 1, 4);\",\n",
    "        \"INSERT INTO tour_by_user_rating(tid, uid, rating) VALUES(1, 2, 5);\",\n",
    "        \"INSERT INTO tour_by_user_rating(tid, uid, rating) VALUES(1, 3, 3);\",\n",
    "        \"INSERT INTO tour_by_user_rating(tid, uid, rating) VALUES(2, 4, 5);\",\n",
    "        \"INSERT INTO tour_by_user_rating(tid, uid, rating) VALUES(2, 5, 4);\",\n",
    "        \"INSERT INTO tour_by_user_rating(tid, uid, rating) VALUES(2, 6, 3);\",\n",
    "        \"INSERT INTO tour_by_user_rating(tid, uid, rating) VALUES(3, 7, 5);\",\n",
    "        \"INSERT INTO tour_by_user_rating(tid, uid, rating) VALUES(3, 8, 4);\",\n",
    "        \"INSERT INTO tour_by_user_rating(tid, uid, rating) VALUES(3, 9, 3);\",\n",
    "        \"INSERT INTO tour_by_user_rating(tid, uid, rating) VALUES(4, 10, 4);\",\n",
    "        \"INSERT INTO tour_by_user_rating(tid, uid, rating) VALUES(4, 1, 3);\",\n",
    "        \"INSERT INTO tour_by_user_rating(tid, uid, rating) VALUES(4, 2, 5);\",\n",
    "        \"INSERT INTO tour_by_user_rating(tid, uid, rating) VALUES(5, 3, 4);\",\n",
    "        \"INSERT INTO tour_by_user_rating(tid, uid, rating) VALUES(5, 4, 3);\",\n",
    "        \"INSERT INTO tour_by_user_rating(tid, uid, rating) VALUES(5, 5, 5);\",\n",
    "        \"INSERT INTO tour_by_user_rating(tid, uid, rating) VALUES(6, 6, 4);\",\n",
    "        \"INSERT INTO tour_by_user_rating(tid, uid, rating) VALUES(6, 7, 5);\",\n",
    "        \"INSERT INTO tour_by_user_rating(tid, uid, rating) VALUES(6, 8, 3);\",\n",
    "        \"INSERT INTO tour_by_user_rating(tid, uid, rating) VALUES(7, 9, 4);\",\n",
    "        \"INSERT INTO tour_by_user_rating(tid, uid, rating) VALUES(7, 10, 3);\",\n",
    "        \"INSERT INTO tour_by_user_rating(tid, uid, rating) VALUES(7, 1, 5);\",\n",
    "        \"INSERT INTO tour_by_user_rating(tid, uid, rating) VALUES(8, 2, 4);\",\n",
    "        \"INSERT INTO tour_by_user_rating(tid, uid, rating) VALUES(8, 3, 5);\",\n",
    "        \"INSERT INTO tour_by_user_rating(tid, uid, rating) VALUES(8, 4, 3);\",\n",
    "        \"INSERT INTO tour_by_user_rating(tid, uid, rating) VALUES(9, 5, 4);\",\n",
    "        \"INSERT INTO tour_by_user_rating(tid, uid, rating) VALUES(9, 6, 3);\",\n",
    "        \"INSERT INTO tour_by_user_rating(tid, uid, rating) VALUES(9, 7, 5);\",\n",
    "        \"INSERT INTO tour_by_user_rating(tid, uid, rating) VALUES(10, 8, 4);\",\n",
    "        \"INSERT INTO tour_by_user_rating(tid, uid, rating) VALUES(10, 9, 5);\",\n",
    "        \"INSERT INTO tour_by_user_rating(tid, uid, rating) VALUES(10, 10, 3);\"\n",
    "    ])\n",
    "\n",
    "    # fill tour by difficulty and activity \n",
    "    queries.extend([\n",
    "        \"INSERT INTO tour_by_diff_activity(rid, tid, difficulty, activity, t_descr, t_duration, t_distance) VALUES(1, 1, 'leicht', 'wanderung', 'Leichte Wanderung durch die Schrammsteine', 90, 2500);\",\n",
    "        \"INSERT INTO tour_by_diff_activity(rid, tid, difficulty, activity, t_descr, t_duration, t_distance) VALUES(1, 2, 'mittel', 'wanderung', 'Felsenpfad zum Aussichtspunkt in den Schrammsteinen', 120, 3200);\",\n",
    "        \"INSERT INTO tour_by_diff_activity(rid, tid, difficulty, activity, t_descr, t_duration, t_distance) VALUES(2, 3, 'leicht', 'wanderung', 'Rundtour um den Lilienstein', 140, 4000);\",\n",
    "        \"INSERT INTO tour_by_diff_activity(rid, tid, difficulty, activity, t_descr, t_duration, t_distance) VALUES(2, 4, 'mittel', 'bergwanderung', 'Aufstieg zur Spitze des Liliensteins', 60, 1800);\",\n",
    "        \"INSERT INTO tour_by_diff_activity(rid, tid, difficulty, activity, t_descr, t_duration, t_distance) VALUES(3, 5, 'mittel', 'bergwanderung', 'Historische Tour zur Festung Königstein', 100, 2700);\",\n",
    "        \"INSERT INTO tour_by_diff_activity(rid, tid, difficulty, activity, t_descr, t_duration, t_distance) VALUES(3, 6, 'schwer', 'bergwanderung', 'Panoramaweg rund um die Festung Königstein', 120, 3400);\",\n",
    "        \"INSERT INTO tour_by_diff_activity(rid, tid, difficulty, activity, t_descr, t_duration, t_distance) VALUES(4, 7, 'leicht', 'wanderung', 'Wanderung zur Bastei-Brücke', 70, 2000);\",\n",
    "        \"INSERT INTO tour_by_diff_activity(rid, tid, difficulty, activity, t_descr, t_duration, t_distance) VALUES(4, 8, 'schwer', 'bergwanderung', 'Ausgiebige Bastei-Rundtour', 160, 4500);\",\n",
    "        \"INSERT INTO tour_by_diff_activity(rid, tid, difficulty, activity, t_descr, t_duration, t_distance) VALUES(5, 9, 'mittel', 'wanderung', 'Wanderung zum Pfaffenstein', 85, 2300);\",\n",
    "        \"INSERT INTO tour_by_diff_activity(rid, tid, difficulty, activity, t_descr, t_duration, t_distance) VALUES(5, 10, 'schwer', 'bergwanderung', 'Höhenpfad mit Blick auf den Pfaffenstein', 110, 3000);\"\n",
    "    ])\n",
    "\n",
    "    for query in queries:\n",
    "        #print(f\"fill_example_value: running query: {query}\")\n",
    "        session.execute(query)\n",
    "\n"
   ],
   "id": "81113a5a-0048-48b7-975d-899efe24c676",
   "outputs": [],
   "execution_count": 9
  },
  {
   "metadata": {
    "ExecuteTime": {
     "end_time": "2024-10-29T06:43:58.463464Z",
     "start_time": "2024-10-29T06:43:53.273634Z"
    }
   },
   "cell_type": "code",
   "source": [
    "drop_all_tables()\n",
    "init_tables()\n",
    "fill_example_values()"
   ],
   "id": "f23aab7bd9ee50fb",
   "outputs": [],
   "execution_count": 10
  },
  {
   "metadata": {},
   "cell_type": "markdown",
   "source": "## Add New Entry Functions",
   "id": "3c27fd3182de6c77"
  },
  {
   "metadata": {
    "ExecuteTime": {
     "end_time": "2024-10-29T06:43:58.474062Z",
     "start_time": "2024-10-29T06:43:58.469335Z"
    }
   },
   "cell_type": "code",
   "source": [
    "def add_new_region(rid, name):\n",
    "    query = f\"INSERT INTO region(rid, name) VALUES({rid}, '{name}');\"\n",
    "    session.execute(query)\n",
    "\n",
    "\n",
    "def add_new_tour(tid, ascent, descent, descr, distance, duration, rid, r_name, activity, difficulty):\n",
    "    query = f\"INSERT INTO tour(tid, ascent, descent, descr, distance, duration) VALUES({tid}, '{ascent}', '{descent}', '{descr}', {distance}, {duration});\"\n",
    "    session.execute(query)\n",
    "\n",
    "    query = f\"INSERT INTO tour_by_region(rid, tid, r_name, t_descr, t_distance, t_duration) VALUES ({rid}, {tid}, '{r_name}', '{descr}', {distance}, {duration});\"\n",
    "    session.execute(query)\n",
    "\n",
    "    query = f\"INSERT INTO tour_by_diff_activity(tid, rid, activity, difficulty, t_descr, t_distance, t_duration) VALUES ({tid}, {rid}, '{activity}', '{difficulty}', '{descr}', {distance}, {duration});\"\n",
    "    session.execute(query)\n",
    "\n",
    "\n",
    "def add_new_user_rating(tid, uid, rating):\n",
    "    query = f\"INSERT INTO tour_by_user_rating(tid, uid, rating) VALUES({tid}, {uid}, {rating});\"\n",
    "    session.execute(query)\n",
    "\n",
    "\n",
    "def add_new_user(uid, city, country, email, name):\n",
    "    query = f\"INSERT INTO user(uid, city, country, email, name) VALUES({uid}, '{city}', '{country}', '{email}', '{name}');\"\n",
    "    session.execute(query)\n",
    "\n",
    "\n",
    "def get_tables():\n",
    "    query = \"SELECT table_name FROM system_schema.tables WHERE keyspace_name = 'tourdelight';\"\n",
    "    rows = session.execute(query)\n",
    "    for row in rows:\n",
    "        print(f\"\\n{row['table_name']}:\")\n",
    "        query = f\"SELECT * FROM {row['table_name']}\"\";\"\n",
    "        pretty_resultset_table(session.execute(query))\n",
    "\n",
    "\n",
    "def get_table(table_name):\n",
    "    print(f\"\\n{table_name}:\")\n",
    "    query = f\"SELECT * FROM {table_name};\"\n",
    "    pretty_resultset_table(session.execute(query))\n"
   ],
   "id": "c2693dbbdaf0baee",
   "outputs": [],
   "execution_count": 11
  },
  {
   "metadata": {},
   "cell_type": "markdown",
   "source": "## Update Entry Functions",
   "id": "1df17ab2850d2cd7"
  },
  {
   "metadata": {
    "ExecuteTime": {
     "end_time": "2024-10-29T06:43:58.518809Z",
     "start_time": "2024-10-29T06:43:58.514952Z"
    }
   },
   "cell_type": "code",
   "source": [
    "def update_tour_description(tid, rid, descr, activity, difficulty):\n",
    "    query = f\"UPDATE tour SET descr = '{descr}' WHERE tid = {tid};\"\n",
    "    session.execute(query)\n",
    "\n",
    "    query = f\"UPDATE tour_by_region SET t_descr = '{descr}' WHERE tid = {tid} AND rid = {rid};\"\n",
    "    session.execute(query)\n",
    "\n",
    "    query = f\"UPDATE tour_by_diff_activity SET t_descr = '{descr}' WHERE tid = {tid} AND rid = {rid} AND activity = '{activity}' AND difficulty = '{difficulty}';\"\n",
    "    session.execute(query)\n"
   ],
   "id": "4d108b32c87a0113",
   "outputs": [],
   "execution_count": 12
  },
  {
   "metadata": {},
   "cell_type": "markdown",
   "source": "## Print All Tables",
   "id": "2004b6fad6a2724c"
  },
  {
   "metadata": {
    "ExecuteTime": {
     "end_time": "2024-10-29T06:43:58.786291Z",
     "start_time": "2024-10-29T06:43:58.573323Z"
    }
   },
   "cell_type": "code",
   "source": "get_tables()",
   "id": "746accdb8e42786d",
   "outputs": [
    {
     "name": "stdout",
     "output_type": "stream",
     "text": [
      "\n",
      "region:\n",
      "rid | name              \n",
      "----+-------------------\n",
      "5   | Pfaffenstein      \n",
      "1   | Schrammsteine     \n",
      "2   | Lilienstein       \n",
      "4   | Bastei            \n",
      "3   | Festung Königstein\n",
      "\n",
      "tour:\n",
      "tid | ascent         | descent        | descr                                               | distance | duration\n",
      "----+----------------+----------------+-----------------------------------------------------+----------+---------\n",
      "5   | 50.9233, 14.05 | 50.9240, 14.07 | Historische Tour zur Festung Königstein             | 2700     | 100     \n",
      "10  | 50.9290, 14.23 | 50.9310, 14.26 | Höhenpfad mit Blick auf den Pfaffenstein            | 3000     | 110     \n",
      "1   | 50.9335, 14.15 | 50.9340, 14.18 | Leichte Wanderung durch die Schrammsteine           | 2500     | 90      \n",
      "8   | 50.9650, 14.07 | 50.9670, 14.09 | Ausgiebige Bastei-Rundtour                          | 4500     | 160     \n",
      "2   | 50.9342, 14.16 | 50.9360, 14.20 | Felsenpfad zum Aussichtspunkt in den Schrammsteinen | 3200     | 120     \n",
      "4   | 50.9180, 14.10 | 50.9205, 14.12 | Aufstieg zur Spitze des Liliensteins                | 1800     | 60      \n",
      "7   | 50.9675, 14.08 | 50.9680, 14.10 | Wanderung zur Bastei-Brücke                         | 2000     | 70      \n",
      "6   | 50.9240, 14.04 | 50.9260, 14.06 | Panoramaweg rund um die Festung Königstein          | 3400     | 120     \n",
      "9   | 50.9285, 14.22 | 50.9300, 14.25 | Wanderung zum Pfaffenstein                          | 2300     | 85      \n",
      "3   | 50.9195, 14.08 | 50.9200, 14.11 | Rundtour um den Lilienstein                         | 4000     | 140     \n",
      "\n",
      "tour_by_diff_activity:\n",
      "tid | rid | activity      | difficulty | t_descr                                             | t_distance | t_duration\n",
      "----+-----+---------------+------------+-----------------------------------------------------+------------+-----------\n",
      "5   | 3   | bergwanderung | mittel     | Historische Tour zur Festung Königstein             | 2700       | 100       \n",
      "10  | 5   | bergwanderung | schwer     | Höhenpfad mit Blick auf den Pfaffenstein            | 3000       | 110       \n",
      "8   | 4   | bergwanderung | schwer     | Ausgiebige Bastei-Rundtour                          | 4500       | 160       \n",
      "2   | 1   | wanderung     | mittel     | Felsenpfad zum Aussichtspunkt in den Schrammsteinen | 3200       | 120       \n",
      "4   | 2   | bergwanderung | mittel     | Aufstieg zur Spitze des Liliensteins                | 1800       | 60        \n",
      "7   | 4   | wanderung     | leicht     | Wanderung zur Bastei-Brücke                         | 2000       | 70        \n",
      "1   | 1   | wanderung     | leicht     | Leichte Wanderung durch die Schrammsteine           | 2500       | 90        \n",
      "3   | 2   | wanderung     | leicht     | Rundtour um den Lilienstein                         | 4000       | 140       \n",
      "6   | 3   | bergwanderung | schwer     | Panoramaweg rund um die Festung Königstein          | 3400       | 120       \n",
      "9   | 5   | wanderung     | mittel     | Wanderung zum Pfaffenstein                          | 2300       | 85        \n",
      "\n",
      "tour_by_region:\n",
      "rid | tid | r_name             | t_descr                                             | t_distance | t_duration\n",
      "----+-----+--------------------+-----------------------------------------------------+------------+-----------\n",
      "5   | 9   | Pfaffenstein       | Wanderung zum Pfaffenstein                          | 2300       | 85        \n",
      "5   | 10  | Pfaffenstein       | Höhenpfad mit Blick auf den Pfaffenstein            | 3000       | 110       \n",
      "1   | 1   | Schrammsteine      | Leichte Wanderung durch die Schrammsteine           | 2500       | 90        \n",
      "1   | 2   | Schrammsteine      | Felsenpfad zum Aussichtspunkt in den Schrammsteinen | 3200       | 120       \n",
      "2   | 3   | Lilienstein        | Rundtour um den Lilienstein                         | 4000       | 140       \n",
      "2   | 4   | Lilienstein        | Aufstieg zur Spitze des Liliensteins                | 1800       | 60        \n",
      "4   | 7   | Bastei             | Wanderung zur Bastei-Brücke                         | 2000       | 70        \n",
      "4   | 8   | Bastei             | Ausgiebige Bastei-Rundtour                          | 4500       | 160       \n",
      "3   | 5   | Festung Königstein | Historische Tour zur Festung Königstein             | 2700       | 100       \n",
      "3   | 6   | Festung Königstein | Panoramaweg rund um die Festung Königstein          | 3400       | 120       \n",
      "\n",
      "tour_by_user_rating:\n",
      "tid | uid | rating\n",
      "----+-----+-------\n",
      "5   | 3   | 4     \n",
      "5   | 4   | 3     \n",
      "5   | 5   | 5     \n",
      "10  | 8   | 4     \n",
      "10  | 9   | 5     \n",
      "10  | 10  | 3     \n",
      "1   | 1   | 4     \n",
      "1   | 2   | 5     \n",
      "1   | 3   | 3     \n",
      "8   | 2   | 4     \n",
      "8   | 3   | 5     \n",
      "8   | 4   | 3     \n",
      "2   | 4   | 5     \n",
      "2   | 5   | 4     \n",
      "2   | 6   | 3     \n",
      "4   | 1   | 3     \n",
      "4   | 2   | 5     \n",
      "4   | 10  | 4     \n",
      "7   | 1   | 5     \n",
      "7   | 9   | 4     \n",
      "7   | 10  | 3     \n",
      "6   | 6   | 4     \n",
      "6   | 7   | 5     \n",
      "6   | 8   | 3     \n",
      "9   | 5   | 4     \n",
      "9   | 6   | 3     \n",
      "9   | 7   | 5     \n",
      "3   | 7   | 5     \n",
      "3   | 8   | 4     \n",
      "3   | 9   | 3     \n",
      "\n",
      "user:\n",
      "uid | city      | country     | email                     | name         \n",
      "----+-----------+-------------+---------------------------+--------------\n",
      "5   | Hamburg   | Deutschland | julia.fischer@example.com | Julia Fischer\n",
      "10  | Bremen    | Deutschland | robert.weber@example.com  | Robert Weber \n",
      "1   | Dresden   | Deutschland | maria.schmidt@example.com | Maria Schmidt\n",
      "8   | München   | Deutschland | alex.klein@example.com    | Alex Klein   \n",
      "2   | Pirna     | Deutschland | lars.mueller@example.com  | Lars Müller  \n",
      "4   | Berlin    | Deutschland | thomas.schulz@example.com | Thomas Schulz\n",
      "7   | Stuttgart | Deutschland | sabrina.mayer@example.com | Sabrina Mayer\n",
      "6   | Köln      | Deutschland | marc.wagner@example.com   | Marc Wagner  \n",
      "9   | Frankfurt | Deutschland | nina.hoffmann@example.com | Nina Hoffmann\n",
      "3   | Leipzig   | Deutschland | anja.bauer@example.com    | Anja Bauer   \n"
     ]
    }
   ],
   "execution_count": 13
  },
  {
   "metadata": {},
   "cell_type": "markdown",
   "source": "## Add new Entries",
   "id": "39cc4cc46dcfc6db"
  },
  {
   "metadata": {
    "ExecuteTime": {
     "end_time": "2024-10-29T06:43:59.094976Z",
     "start_time": "2024-10-29T06:43:58.794092Z"
    }
   },
   "cell_type": "code",
   "source": [
    "add_new_region(6, \"Tierpark\")\n",
    "add_new_tour(tid=11, ascent=\"52.4923, 13.5241\", descent=\"52.4944, 13.5254\", descr=\"HTW Berlin Straße zur Mensa\",\n",
    "             distance=\"300\", duration=\"5\", rid=6, r_name=\"Tierpark\", activity=\"wanderung\", difficulty=\"leicht\")\n",
    "\n",
    "add_new_user(11, \"Berlin\", \"Deutschland\", \"<EMAIL>\", \"Marie Mustermann\")\n",
    "add_new_user_rating(11, 11, 5)\n",
    "\n",
    "get_table(\"tour\")\n",
    "update_tour_description(tid=11, rid=6, descr=\"Andere Beschreibung\", activity=\"wanderung\", difficulty=\"leicht\")"
   ],
   "id": "7fc98b815285e5d",
   "outputs": [
    {
     "name": "stdout",
     "output_type": "stream",
     "text": [
      "\n",
      "tour:\n",
      "tid | ascent           | descent          | descr                                               | distance | duration\n",
      "----+------------------+------------------+-----------------------------------------------------+----------+---------\n",
      "5   | 50.9233, 14.05   | 50.9240, 14.07   | Historische Tour zur Festung Königstein             | 2700     | 100     \n",
      "10  | 50.9290, 14.23   | 50.9310, 14.26   | Höhenpfad mit Blick auf den Pfaffenstein            | 3000     | 110     \n",
      "11  | 52.4923, 13.5241 | 52.4944, 13.5254 | HTW Berlin Straße zur Mensa                         | 300      | 5       \n",
      "1   | 50.9335, 14.15   | 50.9340, 14.18   | Leichte Wanderung durch die Schrammsteine           | 2500     | 90      \n",
      "8   | 50.9650, 14.07   | 50.9670, 14.09   | Ausgiebige Bastei-Rundtour                          | 4500     | 160     \n",
      "2   | 50.9342, 14.16   | 50.9360, 14.20   | Felsenpfad zum Aussichtspunkt in den Schrammsteinen | 3200     | 120     \n",
      "4   | 50.9180, 14.10   | 50.9205, 14.12   | Aufstieg zur Spitze des Liliensteins                | 1800     | 60      \n",
      "7   | 50.9675, 14.08   | 50.9680, 14.10   | Wanderung zur Bastei-Brücke                         | 2000     | 70      \n",
      "6   | 50.9240, 14.04   | 50.9260, 14.06   | Panoramaweg rund um die Festung Königstein          | 3400     | 120     \n",
      "9   | 50.9285, 14.22   | 50.9300, 14.25   | Wanderung zum Pfaffenstein                          | 2300     | 85      \n",
      "3   | 50.9195, 14.08   | 50.9200, 14.11   | Rundtour um den Lilienstein                         | 4000     | 140     \n"
     ]
    }
   ],
   "execution_count": 14
  },
  {
   "metadata": {
    "ExecuteTime": {
     "end_time": "2024-10-29T06:43:59.134811Z",
     "start_time": "2024-10-29T06:43:59.102594Z"
    }
   },
   "cell_type": "code",
   "source": "get_table(\"tour\")",
   "id": "14640511c5292828",
   "outputs": [
    {
     "name": "stdout",
     "output_type": "stream",
     "text": [
      "\n",
      "tour:\n",
      "tid | ascent           | descent          | descr                                               | distance | duration\n",
      "----+------------------+------------------+-----------------------------------------------------+----------+---------\n",
      "5   | 50.9233, 14.05   | 50.9240, 14.07   | Historische Tour zur Festung Königstein             | 2700     | 100     \n",
      "10  | 50.9290, 14.23   | 50.9310, 14.26   | Höhenpfad mit Blick auf den Pfaffenstein            | 3000     | 110     \n",
      "11  | 52.4923, 13.5241 | 52.4944, 13.5254 | Andere Beschreibung                                 | 300      | 5       \n",
      "1   | 50.9335, 14.15   | 50.9340, 14.18   | Leichte Wanderung durch die Schrammsteine           | 2500     | 90      \n",
      "8   | 50.9650, 14.07   | 50.9670, 14.09   | Ausgiebige Bastei-Rundtour                          | 4500     | 160     \n",
      "2   | 50.9342, 14.16   | 50.9360, 14.20   | Felsenpfad zum Aussichtspunkt in den Schrammsteinen | 3200     | 120     \n",
      "4   | 50.9180, 14.10   | 50.9205, 14.12   | Aufstieg zur Spitze des Liliensteins                | 1800     | 60      \n",
      "7   | 50.9675, 14.08   | 50.9680, 14.10   | Wanderung zur Bastei-Brücke                         | 2000     | 70      \n",
      "6   | 50.9240, 14.04   | 50.9260, 14.06   | Panoramaweg rund um die Festung Königstein          | 3400     | 120     \n",
      "9   | 50.9285, 14.22   | 50.9300, 14.25   | Wanderung zum Pfaffenstein                          | 2300     | 85      \n",
      "3   | 50.9195, 14.08   | 50.9200, 14.11   | Rundtour um den Lilienstein                         | 4000     | 140     \n"
     ]
    }
   ],
   "execution_count": 15
  },
  {
   "metadata": {
    "ExecuteTime": {
     "end_time": "2024-10-29T06:43:59.209677Z",
     "start_time": "2024-10-29T06:43:59.207737Z"
    }
   },
   "cell_type": "code",
   "source": "",
   "id": "3d4e0f7a7dced2a",
   "outputs": [],
   "execution_count": null
  },
  {
   "metadata": {
    "ExecuteTime": {
     "end_time": "2024-10-29T06:43:59.255802Z",
     "start_time": "2024-10-29T06:43:59.253654Z"
    }
   },
   "cell_type": "code",
   "source": "",
   "id": "1c7194fc1f80ae7e",
   "outputs": [],
   "execution_count": null
  },
  {
   "metadata": {
    "ExecuteTime": {
     "end_time": "2024-10-29T06:43:59.304984Z",
     "start_time": "2024-10-29T06:43:59.303510Z"
    }
   },
   "cell_type": "code",
   "source": "",
   "id": "b2b0de98d1f0e1b4",
   "outputs": [],
   "execution_count": null
  },
  {
   "metadata": {
    "ExecuteTime": {
     "end_time": "2024-10-29T06:43:59.352217Z",
     "start_time": "2024-10-29T06:43:59.350414Z"
    }
   },
   "cell_type": "code",
   "source": "",
   "id": "7ce7168fb08f3501",
   "outputs": [],
   "execution_count": null
  },
  {
   "metadata": {
    "ExecuteTime": {
     "end_time": "2024-10-29T06:43:59.401920Z",
     "start_time": "2024-10-29T06:43:59.400030Z"
    }
   },
   "cell_type": "code",
   "source": "",
   "id": "ffb208271ebe0fbf",
   "outputs": [],
   "execution_count": null
  }
 ],
 "metadata": {
  "kernelspec": {
   "display_name": "Python 3 (ipykernel)",
   "language": "python",
   "name": "python3"
  },
  "language_info": {
   "codemirror_mode": {
    "name": "ipython",
    "version": 3
   },
   "file_extension": ".py",
   "mimetype": "text/x-python",
   "name": "python",
   "nbconvert_exporter": "python",
   "pygments_lexer": "ipython3",
   "version": "3.12.6"
  }
 },
 "nbformat": 4,
 "nbformat_minor": 5
}
