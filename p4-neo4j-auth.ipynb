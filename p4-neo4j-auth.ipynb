{
 "cells": [
  {
   "cell_type": "code",
   "metadata": {
    "ExecuteTime": {
     "end_time": "2024-11-06T06:37:17.159734Z",
     "start_time": "2024-11-06T06:37:17.156762Z"
    }
   },
   "source": [
    "from neo4j import GraphDatabase\n",
    "import cred_neo4j as c\n",
    "import pandas as pd"
   ],
   "outputs": [],
   "execution_count": 11
  },
  {
   "cell_type": "code",
   "metadata": {
    "ExecuteTime": {
     "end_time": "2024-11-06T06:37:17.208205Z",
     "start_time": "2024-11-06T06:37:17.205250Z"
    }
   },
   "source": "driver = GraphDatabase.driver(c.neo4j_host, auth=(c.neo4j_userid, c.neo4j_password))",
   "outputs": [],
   "execution_count": 12
  },
  {
   "cell_type": "code",
   "metadata": {
    "ExecuteTime": {
     "end_time": "2024-11-06T06:37:17.266182Z",
     "start_time": "2024-11-06T06:37:17.258706Z"
    }
   },
   "source": [
    "def resetDb():\n",
    "    q1 = \"\"\"\n",
    "    match (n) detach delete n\n",
    "    \"\"\"\n",
    "\n",
    "    q2 = \"\"\"\n",
    "    create \n",
    "      // ----------------------------------------\n",
    "      // Admins, Gruppen, Gruppenstruktur\n",
    "      // ----------------------------------------\n",
    "      (a1:Admin {name: 'a1'}),\n",
    "      (a2:Admin {name: 'a2'}),\n",
    "      (g1:Gruppe {name: 'g1'}),\n",
    "      (g2:Gruppe {name: 'g2'}),\n",
    "      (g3:Gruppe {name: 'g3'}),\n",
    "      (a1)-[:ING]->(g1),\n",
    "      (a1)-[:ING]->(g3),\n",
    "      (a2)-[:ING]->(g2),\n",
    "      (a2)-[:ING]->(g3),\n",
    "      // ----------------------------------------\n",
    "      // Unternehmen, Unternehmenstrutur\n",
    "      // ----------------------------------------\n",
    "      (u1:Unternehmen {name: 'u1'}),\n",
    "      (u11:Unternehmen {name: 'u11'}),\n",
    "      (u111:Unternehmen {name: 'u111'}),\n",
    "      (u112:Unternehmen {name: 'u112'}),\n",
    "      (u1111:Unternehmen {name: 'u1111'}),\n",
    "      (u1112:Unternehmen {name: 'u1112'}),\n",
    "      (u12:Unternehmen {name: 'u12'}),\n",
    "      (u121:Unternehmen {name: 'u121'}),\n",
    "      (u122:Unternehmen {name: 'u122'}),\n",
    "      (u11)-[:SUB]->(u1),\n",
    "      (u12)-[:SUB]->(u1),\n",
    "      (u111)-[:SUB]->(u11),\n",
    "      (u1111)-[:SUB]->(u111),\n",
    "      (u1112)-[:SUB]->(u111),\n",
    "      (u112)-[:SUB]->(u11),\n",
    "      (u121)-[:SUB]->(u12),\n",
    "      (u122)-[:SUB]->(u12)\n",
    "    \"\"\"\n",
    "\n",
    "    with driver.session() as session:\n",
    "        session.run(q1)\n",
    "        session.run(q2)\n",
    "\n",
    "\n",
    "# Lookup Tabelle um Rechte zu vergleichen, was ist möglich wenn Auth X gesetzt wurde?\n",
    "rights_lookup = {\n",
    "    \"AI\": [\"AI\", \"DI\", \"A\", \"D\"],\n",
    "    \"DI\": [\"DI\", \"A\", \"D\"],\n",
    "    \"A\": [\"A\", \"D\"],\n",
    "    \"D\": []\n",
    "}\n",
    "\n",
    "\n",
    "# Erhalte nutzer in der gegebenen gruppe\n",
    "def get_users_in_group(gruppe):\n",
    "    with driver.session() as session:\n",
    "        query = f\"\"\"\n",
    "        MATCH (g:Gruppe {{name: '{gruppe}'}})<-[:ING]-(a:Admin)\n",
    "        RETURN a.name;\n",
    "        \"\"\"\n",
    "        res = session.run(query)\n",
    "        return pd.DataFrame(res.data())\n",
    "\n",
    "\n",
    "def setAuth(gruppe, unternehmen, auth):\n",
    "    with driver.session() as session:\n",
    "        df_group = pd.DataFrame(get_users_in_group(gruppe))\n",
    "\n",
    "        # Teste ob Auth Anweisung mehr als ein Buchstaben hat\n",
    "        # Wenn ja, muss Pfad variabler Länge genutzt werden.\n",
    "        if len(auth) > 1:\n",
    "            # Iteriere über gefundene Admins\n",
    "            for index, row in df_group.iterrows():\n",
    "                admin_name = row['a.name']\n",
    "\n",
    "                # sammle derzeitige berechtigungen für benutzer\n",
    "                query = f\"\"\"\n",
    "                    MATCH (a:Admin {{name: '{admin_name}'}})-[acc:ACCS]->(u:Unternehmen)\n",
    "                    RETURN a.name as admin, acc.val as accesstype, u.name as access\n",
    "                \"\"\"\n",
    "                res = session.run(query)\n",
    "                df_accessrecords = pd.DataFrame(res.data())\n",
    "                #print(f\"\\nBestehende Rechte für admin {admin_name}:\\n{df_accessrecords}\")\n",
    "\n",
    "                # Erstelle neue Auth Beziehung wenn nicht vorhanden\n",
    "                query = f\"\"\"\n",
    "                    MATCH (h1:Unternehmen {{name: '{unternehmen}'}})<-[:SUB*0..]-(sub:Unternehmen)\n",
    "                    WITH DISTINCT sub AS subs\n",
    "                \n",
    "                    MATCH (a:Admin {{name: '{row['a.name']}'}})\n",
    "                    UNWIND subs AS sub\n",
    "                \n",
    "                    MERGE (a)-[acc:ACCS]->(sub)\n",
    "                    ON CREATE SET acc.val = '{auth}'\n",
    "                \"\"\"\n",
    "                session.run(query)\n",
    "\n",
    "                # Sammle alle bestehenden Beziehungen\n",
    "                query = f\"\"\"\n",
    "                    MATCH (u:Unternehmen {{name: '{unternehmen}'}})<-[:SUB*0..]-(sub:Unternehmen)\n",
    "                    WITH DISTINCT sub AS subs\n",
    "\n",
    "                    MATCH (a:Admin {{name: '{admin_name}'}})-[acc:ACCS]->(sub)\n",
    "                    UNWIND subs AS sub2\n",
    "\n",
    "                    RETURN sub2.name AS access, acc.val AS accesstype\n",
    "                \"\"\"\n",
    "                res = session.run(query)\n",
    "                df_current_auth = pd.DataFrame(res.data())\n",
    "                \n",
    "                # Iteriere über alle bestehenden Beziehungen\n",
    "                for index, row in df_current_auth.iterrows():\n",
    "                    # Teste ob bestehender Auth gemäß Lookup Tabelle überschrieben werden darf\n",
    "                    if auth in rights_lookup[row['accesstype']]:\n",
    "                        query = f\"\"\"\n",
    "                            MATCH (a:Admin {{name: '{admin_name}'}})-[acc:ACCS]->(u:Unternehmen {{name: '{row['access']}'}})\n",
    "                            SET acc.val = '{auth}'\n",
    "                        \"\"\"\n",
    "                        session.run(query)\n",
    "\n",
    "        # Wenn nein, muss nur einzelne Beziehung angelegt oder aktualisiert werden\n",
    "        else:\n",
    "            for index, row in df_group.iterrows():\n",
    "                admin_name = row['a.name']\n",
    "                query = f\"\"\"\n",
    "                    MATCH (a:Admin {{name: '{admin_name}'}})-[acc:ACCS]->(u:Unternehmen {{name: '{unternehmen}'}})\n",
    "                    RETURN a.name as admin, acc.val as accesstype, u.name as access\n",
    "                \"\"\"\n",
    "                res = session.run(query)\n",
    "                df_accessrecords = pd.DataFrame(res.data())\n",
    "\n",
    "                if df_accessrecords.empty:\n",
    "                    query = f\"\"\"\n",
    "                        MATCH (a:Admin {{name: '{admin_name}'}})-[acc:ACCS]->(u:Unternehmen {{name: '{unternehmen}'}})\n",
    "                        MERGE (a)-[:ACCS {{val: '{auth}'}}]->(u) \n",
    "                    \"\"\"\n",
    "                    session.run(query)\n",
    "\n",
    "                else:\n",
    "                    for index, row in df_accessrecords.iterrows():\n",
    "                        # teste ob existierender auth ueberschrieben werden darf\n",
    "                        if auth in rights_lookup[row['accesstype']]:\n",
    "                            query = f\"\"\"\n",
    "                                MATCH (a:Admin {{name: '{admin_name}'}})-[acc:ACCS]->(u:Unternehmen {{name: '{unternehmen}'}})\n",
    "                                SET acc.val = '{auth}'\n",
    "                            \"\"\"\n",
    "                            session.run(query)\n",
    "\n",
    "\n",
    "def unsetAuth(gruppe, unternehmen, auth):\n",
    "    with driver.session() as session:\n",
    "        df_admins = pd.DataFrame(get_users_in_group(gruppe))\n",
    "\n",
    "        if len(auth) > 1:\n",
    "            for index, row in df_admins.iterrows():\n",
    "                admin_name = row['a.name']\n",
    "                query = f\"\"\"\n",
    "                    MATCH (u:Unternehmen {{name: '{unternehmen}'}})<-[:SUB*0..]-(sub:Unternehmen)\n",
    "                    WITH DISTINCT sub AS subs\n",
    "\n",
    "                    MATCH (a:Admin {{name: '{admin_name}'}})-[acc:ACCS {{val: '{auth}'}}]->(sub)\n",
    "\n",
    "                    DELETE acc\n",
    "                \"\"\"\n",
    "                session.run(query)\n",
    "\n",
    "        else:\n",
    "            for index, row in df_admins.iterrows():\n",
    "                admin_name = row['a.name']\n",
    "                query = f\"\"\"\n",
    "                    MATCH (a:Admin {{name: '{admin_name}'}})-[acc:ACCS {{val: '{auth}'}}]->(u:Unternehmen {{name: '{unternehmen}'}})\n",
    "                    DELETE acc\n",
    "                \"\"\"\n",
    "                session.run(query)\n",
    "\n",
    "\n",
    "def showAuth(debug=False):\n",
    "    with driver.session() as session:\n",
    "        # erhalte alle beziehungen wo wert nicht D oder DI ist\n",
    "        if debug:\n",
    "            query = \"\"\"\n",
    "                MATCH (a:Admin)-[acc:ACCS]->(u:Unternehmen)\n",
    "                RETURN a.name as admin, u.name as access, acc.val as accesstype\n",
    "                ORDER BY admin, access;\n",
    "            \"\"\"\n",
    "\n",
    "        else:\n",
    "            query = \"\"\"\n",
    "                MATCH (a:Admin)-[acc:ACCS]->(u:Unternehmen)\n",
    "                WHERE acc.val IN ['A', 'AI']\n",
    "                RETURN a.name as admin, u.name as access\n",
    "                ORDER BY admin, access;\n",
    "            \"\"\"\n",
    "        res = session.run(query)\n",
    "        df = pd.DataFrame(res.data())\n",
    "        print(f\"\\nDerzeit gültige Rechte ('A' oder 'AI'):\\n{df}\")\n"
   ],
   "outputs": [],
   "execution_count": 13
  },
  {
   "cell_type": "code",
   "metadata": {
    "ExecuteTime": {
     "end_time": "2024-11-06T06:37:17.630132Z",
     "start_time": "2024-11-06T06:37:17.305219Z"
    }
   },
   "source": [
    "resetDb()"
   ],
   "outputs": [],
   "execution_count": 14
  },
  {
   "cell_type": "code",
   "metadata": {
    "ExecuteTime": {
     "end_time": "2024-11-06T06:37:23.181562Z",
     "start_time": "2024-11-06T06:37:17.637147Z"
    }
   },
   "source": [
    "# Beispiel 1\n",
    "setAuth(\"g3\", \"u1\", \"AI\")\n",
    "showAuth()\n",
    "#unsetAuth(\"g3\", \"u1\", \"AI\")\n",
    "#showAuth()"
   ],
   "outputs": [
    {
     "name": "stdout",
     "output_type": "stream",
     "text": [
      "\n",
      "Derzeit gültige Rechte ('A' oder 'AI'):\n",
      "   admin access\n",
      "0     a1     u1\n",
      "1     a1    u11\n",
      "2     a1   u111\n",
      "3     a1  u1111\n",
      "4     a1  u1112\n",
      "5     a1   u112\n",
      "6     a1    u12\n",
      "7     a1   u121\n",
      "8     a1   u122\n",
      "9     a2     u1\n",
      "10    a2    u11\n",
      "11    a2   u111\n",
      "12    a2  u1111\n",
      "13    a2  u1112\n",
      "14    a2   u112\n",
      "15    a2    u12\n",
      "16    a2   u121\n",
      "17    a2   u122\n"
     ]
    }
   ],
   "execution_count": 15
  },
  {
   "cell_type": "code",
   "metadata": {
    "jupyter": {
     "is_executing": true
    },
    "ExecuteTime": {
     "start_time": "2024-11-06T06:37:23.221888Z"
    }
   },
   "source": [
    "# Beispiel 2\n",
    "setAuth(\"g1\", \"u12\", \"DI\")\n",
    "setAuth(\"g2\", \"u11\", \"DI\")\n",
    "#unsetAuth(\"g1\", \"u12\", \"DI\")\n",
    "#unsetAuth(\"g2\", \"u11\", \"DI\")\n",
    "#showAuth(True)\n",
    "showAuth()"
   ],
   "outputs": [],
   "execution_count": null
  },
  {
   "cell_type": "code",
   "metadata": {
    "ExecuteTime": {
     "end_time": "2024-11-06T06:22:35.166270Z",
     "start_time": "2024-11-06T06:22:33.976883Z"
    }
   },
   "source": [
    "# Beispiel 3\n",
    "setAuth(\"g1\", \"u111\", \"DI\")\n",
    "# unsetAuth(\"g1\", \"u111\", \"DI\")\n",
    "showAuth()"
   ],
   "outputs": [
    {
     "name": "stdout",
     "output_type": "stream",
     "text": [
      "\n",
      "Derzeit gültige Rechte ('A' oder 'AI'):\n",
      "  admin access\n",
      "0    a1     u1\n",
      "1    a1    u11\n",
      "2    a1   u112\n",
      "3    a2     u1\n",
      "4    a2    u12\n",
      "5    a2   u121\n",
      "6    a2   u122\n"
     ]
    }
   ],
   "execution_count": 7
  },
  {
   "cell_type": "code",
   "metadata": {
    "ExecuteTime": {
     "end_time": "2024-11-06T06:22:35.478734Z",
     "start_time": "2024-11-06T06:22:35.171979Z"
    }
   },
   "source": [
    "# Beispiel 4\n",
    "setAuth(\"g1\", \"u1111\", \"A\")\n",
    "# unsetAuth(\"g1\", \"u1111\", \"A\")\n",
    "showAuth()"
   ],
   "outputs": [
    {
     "name": "stdout",
     "output_type": "stream",
     "text": [
      "\n",
      "Derzeit gültige Rechte ('A' oder 'AI'):\n",
      "  admin access\n",
      "0    a1     u1\n",
      "1    a1    u11\n",
      "2    a1  u1111\n",
      "3    a1   u112\n",
      "4    a2     u1\n",
      "5    a2    u12\n",
      "6    a2   u121\n",
      "7    a2   u122\n"
     ]
    }
   ],
   "execution_count": 8
  },
  {
   "cell_type": "code",
   "metadata": {
    "ExecuteTime": {
     "end_time": "2024-11-06T06:22:35.785036Z",
     "start_time": "2024-11-06T06:22:35.486511Z"
    }
   },
   "source": [
    "# Beispiel 5\n",
    "setAuth(\"g2\", \"u12\", \"D\")\n",
    "# unsetAuth(\"g2\", \"u12\", \"D\")\n",
    "showAuth()"
   ],
   "outputs": [
    {
     "name": "stdout",
     "output_type": "stream",
     "text": [
      "\n",
      "Derzeit gültige Rechte ('A' oder 'AI'):\n",
      "  admin access\n",
      "0    a1     u1\n",
      "1    a1    u11\n",
      "2    a1  u1111\n",
      "3    a1   u112\n",
      "4    a2     u1\n",
      "5    a2   u121\n",
      "6    a2   u122\n"
     ]
    }
   ],
   "execution_count": 9
  },
  {
   "cell_type": "code",
   "metadata": {
    "ExecuteTime": {
     "end_time": "2024-11-06T06:22:36.151623Z",
     "start_time": "2024-11-06T06:22:35.792556Z"
    }
   },
   "source": [
    "# Beispiel 6\n",
    "setAuth(\"g3\", \"u1\", \"D\")\n",
    "# unsetAuth(\"g3\", \"u1\", \"D\")\n",
    "showAuth()"
   ],
   "outputs": [
    {
     "name": "stdout",
     "output_type": "stream",
     "text": [
      "\n",
      "Derzeit gültige Rechte ('A' oder 'AI'):\n",
      "  admin access\n",
      "0    a1    u11\n",
      "1    a1  u1111\n",
      "2    a1   u112\n",
      "3    a2   u121\n",
      "4    a2   u122\n"
     ]
    }
   ],
   "execution_count": 10
  }
 ],
 "metadata": {
  "kernelspec": {
   "display_name": "base",
   "language": "python",
   "name": "python3"
  },
  "language_info": {
   "codemirror_mode": {
    "name": "ipython",
    "version": 3
   },
   "file_extension": ".py",
   "mimetype": "text/x-python",
   "name": "python",
   "nbconvert_exporter": "python",
   "pygments_lexer": "ipython3",
   "version": "3.10.10"
  },
  "orig_nbformat": 4
 },
 "nbformat": 4,
 "nbformat_minor": 2
}
