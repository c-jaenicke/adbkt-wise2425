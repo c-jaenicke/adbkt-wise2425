{
 "cells": [
  {
   "cell_type": "markdown",
   "metadata": {
    "id": "pxBJnkCLF-D9"
   },
   "source": [
    "## Import / Config"
   ]
  },
  {
   "cell_type": "code",
   "metadata": {
    "id": "zOiYLJKIF-D_",
    "ExecuteTime": {
     "end_time": "2024-11-08T17:25:57.966903Z",
     "start_time": "2024-11-08T17:25:57.963833Z"
    }
   },
   "source": [
    "import pandas as pd\n",
    "from sqlalchemy import create_engine, text\n",
    "from neo4j import GraphDatabase\n",
    "import cred_pg as c\n",
    "import cred_neo4j as cc"
   ],
   "outputs": [],
   "execution_count": 9
  },
  {
   "cell_type": "markdown",
   "metadata": {
    "id": "iBrddgrAF-EC"
   },
   "source": [
    "## Engine"
   ]
  },
  {
   "cell_type": "code",
   "metadata": {
    "id": "PKldKjuiF-EF",
    "ExecuteTime": {
     "end_time": "2024-11-08T17:25:58.002322Z",
     "start_time": "2024-11-08T17:25:57.975553Z"
    }
   },
   "source": [
    "# Postgres Driver erstellen\n",
    "engine_postgres = create_engine(\n",
    "    f'postgresql+psycopg://{c.pg_userid}:{c.pg_password}@{c.pg_host}/{c.pg_db}',\n",
    "    connect_args={'options': '-c search_path=$user,ugeobln,umisc,umobility,usozmed,public', 'keepalives_idle': 120},\n",
    "    pool_size=1,\n",
    "    max_overflow=0,\n",
    "    execution_options={'isolation_level': 'AUTOCOMMIT'}\n",
    ")\n",
    "\n",
    "# Neo4j Driver erstellen\n",
    "engine_neo4j = GraphDatabase.driver(cc.neo4j_host, auth=(cc.neo4j_userid, cc.neo4j_password))\n"
   ],
   "outputs": [],
   "execution_count": 10
  },
  {
   "cell_type": "code",
   "metadata": {
    "ExecuteTime": {
     "end_time": "2024-11-08T17:25:58.023910Z",
     "start_time": "2024-11-08T17:25:58.021671Z"
    }
   },
   "source": [
    "# engine.dispose()"
   ],
   "outputs": [],
   "execution_count": 11
  },
  {
   "cell_type": "markdown",
   "metadata": {
    "id": "-xWpZ5ISF-EF"
   },
   "source": [
    "## Code"
   ]
  },
  {
   "cell_type": "code",
   "metadata": {
    "id": "6ePxvEimF-EG",
    "ExecuteTime": {
     "end_time": "2024-11-08T17:25:58.077969Z",
     "start_time": "2024-11-08T17:25:58.068649Z"
    }
   },
   "source": [
    "def get_closest_station(lat_lng):\n",
    "    # Erhalte am naechsten gelegene Station, basieren auf Latitude und Longitude\n",
    "    with engine_postgres.connect() as con:\n",
    "        query = f\"\"\"\n",
    "            SELECT hid, bez,\n",
    "                ST_Distance(\n",
    "                pos,\n",
    "                'SRID=4326;POINT({lat_lng[1]} {lat_lng[0]})'::geography\n",
    "            ) AS distanz_in_meter\n",
    "        FROM haltestelle\n",
    "        ORDER BY distanz_in_meter ASC\n",
    "        LIMIT 1;\n",
    "        \"\"\"\n",
    "        df = pd.read_sql_query(text(query), con)\n",
    "        return df\n",
    "\n",
    "\n",
    "def get_path_start_finish(station_start, station_ziel):\n",
    "    # Erhalte Pfad der zu fahren ist, basierend auf Start und Endhaltestelle\n",
    "    with engine_neo4j.session() as session:\n",
    "        query = f\"\"\"\n",
    "            MATCH (h1:Haltestelle {{bez: '{station_start.iloc[0][\"bez\"]}'}}), (h2:Haltestelle {{bez: '{station_ziel.iloc[0][\"bez\"]}'}})\n",
    "            CALL gds.shortestPath.dijkstra.stream('bubahn', {{\n",
    "                sourceNode: h1,\n",
    "                targetNode: h2\n",
    "                }})\n",
    "            YIELD index, sourceNode, targetNode, nodeIds\n",
    "            with [nodeId IN nodeIds | gds.util.asNode(nodeId)] AS p\n",
    "            UNWIND p as station\n",
    "            RETURN station.bez as bez, station.hid as hid;\n",
    "        \"\"\"\n",
    "        res = session.run(query)\n",
    "        return pd.DataFrame(res.data())\n",
    "\n",
    "\n",
    "def get_seg_between_stations(station_a_id, station_b_id):\n",
    "    # Erhalte Segment zwischen zwei Stationen\n",
    "    with engine_postgres.connect() as con:\n",
    "        query = f\"\"\"\n",
    "            SELECT uu.ulid, ul.bez\n",
    "            FROM umobility.abschnitt AS ua\n",
    "                INNER JOIN umobility.unterlinie AS uu ON ua.ulid = uu.ulid\n",
    "                INNER JOIN umobility.linie AS ul ON uu.lid = ul.lid\n",
    "            WHERE hid_a = '{station_a_id}'\n",
    "                AND hid_b = '{station_b_id}';\n",
    "        \"\"\"\n",
    "        df = pd.read_sql_query(text(query), con)\n",
    "        return df\n",
    "\n",
    "\n",
    "def get_departure_time(station_id, time, ulid, date):\n",
    "    # Erhalte Abfahrstzeit einer Station, zu einem Zeitpunkt, an einem Datum, mit einer bestimmten ULID\n",
    "    with engine_postgres.connect() as con:\n",
    "        query = f\"\"\"\n",
    "            SELECT halt.zeit_abfahrt as zeit\n",
    "            FROM umobility.zeitplan AS zeitplan\n",
    "                INNER JOIN umobility.fahrt AS fahrt ON zeitplan.zpid = fahrt.zpid\n",
    "                INNER JOIN umobility.halt AS halt ON fahrt.fid = halt.fid\n",
    "            WHERE ('{date}' BETWEEN zeitplan.datum_beginn AND zeitplan.datum_ende)\n",
    "                AND halt.hid = '{station_id}'\n",
    "                AND halt.zeit_abfahrt > '{time}'\n",
    "                AND fahrt.ulid = {ulid}\n",
    "            ORDER BY halt.zeit_abfahrt ASC\n",
    "            LIMIT 1;\n",
    "        \"\"\"\n",
    "        df = pd.read_sql_query(text(query), con)\n",
    "        return df.iloc[0][\"zeit\"]\n",
    "\n",
    "\n",
    "def get_arrival_time(station_id, time, ulid, date):\n",
    "    # Erhalte Startzeit einer Station, zu einem Zeitpunkt, an einem Datum, mit einer bestimmten ULID\n",
    "    with engine_postgres.connect() as con:\n",
    "        query = f\"\"\"\n",
    "            SELECT halt.zeit_ankunft as zeit\n",
    "            FROM umobility.zeitplan AS zeitplan\n",
    "                INNER JOIN umobility.fahrt AS fahrt ON zeitplan.zpid = fahrt.zpid\n",
    "                INNER JOIN umobility.halt AS halt ON fahrt.fid = halt.fid\n",
    "            WHERE ('{date}' BETWEEN zeitplan.datum_beginn AND zeitplan.datum_ende)\n",
    "                AND halt.hid = '{station_id}'\n",
    "                AND halt.zeit_ankunft > '{time}'\n",
    "                AND fahrt.ulid = {ulid}\n",
    "            ORDER BY halt.zeit_ankunft ASC\n",
    "            LIMIT 1;\n",
    "        \"\"\"\n",
    "        df = pd.read_sql_query(text(query), con)\n",
    "        return df.iloc[0][\"zeit\"]\n",
    "\n",
    "\n",
    "def fahrverbindung(lat_lng_start, lat_lng_ziel, startdatum, startzeit):\n",
    "    # Erhalte nachste Startstation\n",
    "    station_start = get_closest_station(lat_lng_start)\n",
    "    print(f\"Starthaltestelle\\n{station_start}\")\n",
    "\n",
    "    # Erhalte naechste Zielstation\n",
    "    station_ziel = get_closest_station(lat_lng_ziel)\n",
    "    print(f\"\\nZielhaltestelle\\n{station_ziel}\")\n",
    "\n",
    "    # Erhalte Pfad der gefahren werden muss\n",
    "    pfad = get_path_start_finish(station_start, station_ziel)\n",
    "\n",
    "    results = []\n",
    "\n",
    "    line_prev = \"\"\n",
    "    time_current = \"\"\n",
    "\n",
    "    # Iteriere über Eintraege im Pfad und erstelle dict eintrag in results liste\n",
    "    for i in range(len(pfad) - 1):\n",
    "        line_info = get_seg_between_stations(pfad.iloc[i][\"hid\"], pfad.iloc[i + 1][\"hid\"])\n",
    "        line = line_info.iloc[0][\"bez\"]\n",
    "        line_ulid = line_info.iloc[0][\"ulid\"]\n",
    "\n",
    "        # Ueberpruefe ob Linie gewechselt wird\n",
    "        if line_prev != \"\":\n",
    "            if line_prev == line:\n",
    "                umstieg = \"nein\"\n",
    "            else:\n",
    "                umstieg = \"ja\"\n",
    "                line_prev = line\n",
    "        else:\n",
    "            line_prev = line\n",
    "            umstieg = \"nein\"\n",
    "\n",
    "        # Aktualisiere Zeit basierend auf fortschritt\n",
    "        if time_current == \"\":\n",
    "            time_current = startzeit\n",
    "\n",
    "        time_departure = get_departure_time(pfad.iloc[i][\"hid\"], time_current, line_ulid, startdatum)\n",
    "        time_current = time_departure\n",
    "        time_arrival = get_arrival_time(pfad.iloc[i + 1][\"hid\"], time_current, line_ulid, startdatum)\n",
    "        time_current = time_arrival\n",
    "\n",
    "        # Erstelle Eintrag fuer Liste\n",
    "        table_entry = {\n",
    "            \"hid1\": f\"{pfad.iloc[i][\"hid\"]}\",\n",
    "            \"hid2\": f\"{pfad.iloc[i + 1][\"hid\"]}\",\n",
    "            \"von\": f\"{pfad.iloc[i][\"bez\"]}\",\n",
    "            \"nach\": f\"{pfad.iloc[i + 1][\"bez\"]}\",\n",
    "            \"U\": f\"{line}\",\n",
    "            \"Abfahrt\": f\"{time_departure}\",\n",
    "            \"Ankunft\": f\"{time_arrival}\",\n",
    "            \"Umstieg\": f\"{umstieg}\",\n",
    "        }\n",
    "\n",
    "        results.append(table_entry)\n",
    "\n",
    "    df_result = pd.DataFrame(results)\n",
    "    print(f\"\\nVerbindung\\n{df_result}\")\n",
    "\n",
    "    return"
   ],
   "outputs": [],
   "execution_count": 12
  },
  {
   "cell_type": "markdown",
   "metadata": {
    "id": "teFkAhNlF-EH"
   },
   "source": [
    "## Ausführung"
   ]
  },
  {
   "cell_type": "markdown",
   "metadata": {},
   "source": [
    "### Eberbacher Str. 1 nach Meierottostraße 10"
   ]
  },
  {
   "cell_type": "code",
   "metadata": {
    "id": "0VTp5rmkF-EI",
    "ExecuteTime": {
     "end_time": "2024-11-08T17:25:59.669935Z",
     "start_time": "2024-11-08T17:25:58.127337Z"
    }
   },
   "source": "fahrverbindung([52.473176, 13.313740], [52.4969134, 13.327166], \"2021-04-01\", \"11:00:00\")",
   "outputs": [
    {
     "name": "stdout",
     "output_type": "stream",
     "text": [
      "Starthaltestelle\n",
      "     hid               bez  distanz_in_meter\n",
      "0  10291  RüdesheimerPlatz         90.804351\n",
      "\n",
      "Zielhaltestelle\n",
      "     hid          bez  distanz_in_meter\n",
      "0  10303  SpichernStr        236.990577\n",
      "\n",
      "Verbindung\n",
      "    hid1   hid2                von               nach   U   Abfahrt   Ankunft  \\\n",
      "0  10291  10152   RüdesheimerPlatz  HeidelbergerPlatz  U3  11:00:46  11:01:39   \n",
      "1  10152  10209  HeidelbergerPlatz  FehrbellinerPlatz  U3  11:02:09  11:03:30   \n",
      "2  10209  10229  FehrbellinerPlatz  Hohenzollernplatz  U3  11:04:00  11:04:51   \n",
      "3  10229  10303  Hohenzollernplatz        SpichernStr  U3  11:05:21  11:05:57   \n",
      "\n",
      "  Umstieg  \n",
      "0    nein  \n",
      "1    nein  \n",
      "2    nein  \n",
      "3    nein  \n"
     ]
    }
   ],
   "execution_count": 13
  },
  {
   "cell_type": "markdown",
   "metadata": {},
   "source": [
    "### Eberbacher Str. 1 nach Ballenstedter Str. 6"
   ]
  },
  {
   "cell_type": "code",
   "metadata": {
    "ExecuteTime": {
     "end_time": "2024-11-08T17:26:00.185868Z",
     "start_time": "2024-11-08T17:25:59.678791Z"
    }
   },
   "source": "fahrverbindung([52.473176, 13.313740], [52.494833, 13.3038814], \"2021-04-01\", \"11:00:00\")",
   "outputs": [
    {
     "name": "stdout",
     "output_type": "stream",
     "text": [
      "Starthaltestelle\n",
      "     hid               bez  distanz_in_meter\n",
      "0  10291  RüdesheimerPlatz         90.804351\n",
      "\n",
      "Zielhaltestelle\n",
      "     hid            bez  distanz_in_meter\n",
      "0  10242  KonstanzerStr         444.20619\n",
      "\n",
      "Verbindung\n",
      "    hid1   hid2                von               nach   U   Abfahrt   Ankunft  \\\n",
      "0  10291  10152   RüdesheimerPlatz  HeidelbergerPlatz  U3  11:00:46  11:01:39   \n",
      "1  10152  10209  HeidelbergerPlatz  FehrbellinerPlatz  U3  11:02:09  11:03:30   \n",
      "2  10209  10242  FehrbellinerPlatz      KonstanzerStr  U7  11:04:29  11:05:01   \n",
      "\n",
      "  Umstieg  \n",
      "0    nein  \n",
      "1    nein  \n",
      "2      ja  \n"
     ]
    }
   ],
   "execution_count": 14
  },
  {
   "cell_type": "markdown",
   "metadata": {},
   "source": []
  },
  {
   "cell_type": "markdown",
   "metadata": {},
   "source": [
    "### Eberbacher Str. 1 nach Elsastraße 2"
   ]
  },
  {
   "cell_type": "code",
   "metadata": {
    "ExecuteTime": {
     "end_time": "2024-11-08T17:26:01.268342Z",
     "start_time": "2024-11-08T17:26:00.194526Z"
    }
   },
   "source": "fahrverbindung([52.473176, 13.313740], [52.4752505, 13.3308319], \"2021-04-01\", \"11:00:00\")",
   "outputs": [
    {
     "name": "stdout",
     "output_type": "stream",
     "text": [
      "Starthaltestelle\n",
      "     hid               bez  distanz_in_meter\n",
      "0  10291  RüdesheimerPlatz         90.804351\n",
      "\n",
      "Zielhaltestelle\n",
      "     hid          bez  distanz_in_meter\n",
      "0  10148  Bundesplatz        261.707791\n",
      "\n",
      "Verbindung\n",
      "    hid1   hid2                von               nach   U   Abfahrt   Ankunft  \\\n",
      "0  10291  10152   RüdesheimerPlatz  HeidelbergerPlatz  U3  11:00:46  11:01:39   \n",
      "1  10152  10209  HeidelbergerPlatz  FehrbellinerPlatz  U3  11:02:09  11:03:30   \n",
      "2  10209  10195  FehrbellinerPlatz          BlisseStr  U7  11:05:31  11:06:10   \n",
      "3  10195  10189          BlisseStr        BerlinerStr  U7  11:06:40  11:07:29   \n",
      "4  10189  10148        BerlinerStr        Bundesplatz  U9  11:09:45  11:10:57   \n",
      "\n",
      "  Umstieg  \n",
      "0    nein  \n",
      "1    nein  \n",
      "2      ja  \n",
      "3    nein  \n",
      "4      ja  \n"
     ]
    }
   ],
   "execution_count": 15
  }
 ],
 "metadata": {
  "colab": {
   "collapsed_sections": [],
   "name": "geo.ipynb",
   "provenance": [
    {
     "file_id": "1jr4U_2zk8cMRw1Q7-eBGxvo1TMCse-En",
     "timestamp": 1647340194270
    },
    {
     "file_id": "1t3N8KcE1ggy-TAJSplTKHvu08o4PyUr0",
     "timestamp": 1647339680510
    }
   ]
  },
  "kernelspec": {
   "display_name": "Python 3 (ipykernel)",
   "language": "python",
   "name": "python3"
  },
  "language_info": {
   "codemirror_mode": {
    "name": "ipython",
    "version": 3
   },
   "file_extension": ".py",
   "mimetype": "text/x-python",
   "name": "python",
   "nbconvert_exporter": "python",
   "pygments_lexer": "ipython3",
   "version": "3.12.6"
  },
  "vscode": {
   "interpreter": {
    "hash": "2d6fa041adfecd6e27df7d45c6447a3fc1437381c85a5efcc15b960708d9d702"
   }
  }
 },
 "nbformat": 4,
 "nbformat_minor": 4
}
