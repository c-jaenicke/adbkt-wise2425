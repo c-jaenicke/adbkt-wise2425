{
 "cells": [
  {
   "cell_type": "code",
   "metadata": {
    "ExecuteTime": {
     "end_time": "2024-11-13T11:58:14.310805Z",
     "start_time": "2024-11-13T11:58:14.308180Z"
    }
   },
   "source": [
    "from graphql.parser import GraphQLParser\n",
    "import graphql.language.ast as ast\n",
    "\n",
    "parser = GraphQLParser()"
   ],
   "outputs": [],
   "execution_count": 157
  },
  {
   "metadata": {
    "ExecuteTime": {
     "end_time": "2024-11-13T12:29:42.802790Z",
     "start_time": "2024-11-13T12:29:42.798377Z"
    }
   },
   "cell_type": "code",
   "source": [
    "def graphql_eval(query):\n",
    "    # Parse die gegebene Query\n",
    "    ast = parser.parse(query)\n",
    "    #print(ast)\n",
    "    \n",
    "    op = ast.definitions[0]\n",
    "    for selection in op.selections:\n",
    "        print(f\"\\n{selection}\")\n",
    "        print(f\"table name: {selection.name}\")\n",
    "\n",
    "        print(\"arguments:\")\n",
    "        for argument in selection.arguments:\n",
    "            print(f\"\\t{argument.name} = {argument.value}\")\n",
    "        \n",
    "        print(\"selection:\")\n",
    "        for selection in selection.selections:\n",
    "            print(f\"\\t{selection.name}\")\n",
    "    \n",
    "    return"
   ],
   "outputs": [],
   "execution_count": 198
  },
  {
   "metadata": {
    "ExecuteTime": {
     "end_time": "2024-11-13T12:29:44.334358Z",
     "start_time": "2024-11-13T12:29:44.330862Z"
    }
   },
   "cell_type": "code",
   "source": [
    "# Query 1\n",
    "graphql_eval(\"\"\"\n",
    "query {\n",
    "  kunde(kid: \"10001\") {\n",
    "    name\n",
    "    titel\n",
    "  }\n",
    "}\n",
    "\"\"\")"
   ],
   "outputs": [
    {
     "name": "stdout",
     "output_type": "stream",
     "text": [
      "\n",
      "<Field: name=kunde, arguments=[<Argument: name=kid, value=10001>], selections=[<Field: name=name>, <Field: name=titel>]>\n",
      "table name: kunde\n",
      "arguments:\n",
      "\tkid = 10001\n",
      "selection:\n",
      "\tname\n",
      "\ttitel\n"
     ]
    }
   ],
   "execution_count": 199
  },
  {
   "metadata": {
    "ExecuteTime": {
     "end_time": "2024-11-13T12:29:54.337610Z",
     "start_time": "2024-11-13T12:29:54.334569Z"
    }
   },
   "cell_type": "code",
   "source": [
    "# Query 2\n",
    "graphql_eval(\"\"\"\n",
    "query {\n",
    "  kunde(kid: \"10001\") {\n",
    "    name\n",
    "    bestellung {\n",
    "      bestelldatum\n",
    "      gesamtpreis\n",
    "    }\n",
    "  }\n",
    "}\n",
    "\"\"\")"
   ],
   "outputs": [
    {
     "name": "stdout",
     "output_type": "stream",
     "text": [
      "\n",
      "<Field: name=kunde, arguments=[<Argument: name=kid, value=10001>], selections=[<Field: name=name>, <Field: name=bestellung, selections=[<Field: name=bestelldatum>, <Field: name=gesamtpreis>]>]>\n",
      "table name: kunde\n",
      "arguments:\n",
      "\tkid = 10001\n",
      "selection:\n",
      "\tname\n",
      "\tbestellung\n"
     ]
    }
   ],
   "execution_count": 201
  },
  {
   "metadata": {
    "ExecuteTime": {
     "end_time": "2024-11-13T11:58:14.502942Z",
     "start_time": "2024-11-13T11:58:14.500239Z"
    }
   },
   "cell_type": "code",
   "source": [
    "# Query 3\n",
    "graphql_eval(\"\"\"\n",
    "query {\n",
    "  kunde(kid: \"10001\") {\n",
    "    name\n",
    "    bestellung (bestelldatum: \"2019-01-31\") {\n",
    "      bestelldatum\n",
    "      gesamtpreis\n",
    "    }\n",
    "  }\n",
    "}\n",
    "\"\"\")"
   ],
   "outputs": [
    {
     "name": "stdout",
     "output_type": "stream",
     "text": [
      "\n",
      "definition 0: <Query: selections=[<Field: name=kunde, arguments=[<Argument: name=kid, value=10001>], selections=[<Field: name=name>, <Field: name=bestellung, arguments=[<Argument: name=bestelldatum, value=2019-01-31>], selections=[<Field: name=bestelldatum>, <Field: name=gesamtpreis>]>]>]>\n",
      "\n",
      "selections[0]: <Field: name=kunde, arguments=[<Argument: name=kid, value=10001>], selections=[<Field: name=name>, <Field: name=bestellung, arguments=[<Argument: name=bestelldatum, value=2019-01-31>], selections=[<Field: name=bestelldatum>, <Field: name=gesamtpreis>]>]>\n",
      "\n",
      "underselections: [<Field: name=name>, <Field: name=bestellung, arguments=[<Argument: name=bestelldatum, value=2019-01-31>], selections=[<Field: name=bestelldatum>, <Field: name=gesamtpreis>]>]\n",
      "\n",
      "arguments: [<Argument: name=kid, value=10001>]\n",
      "\n",
      "selection:<Field: name=name>\n",
      "\n",
      "selection:<Field: name=bestellung, arguments=[<Argument: name=bestelldatum, value=2019-01-31>], selections=[<Field: name=bestelldatum>, <Field: name=gesamtpreis>]>\n"
     ]
    }
   ],
   "execution_count": 161
  },
  {
   "metadata": {
    "ExecuteTime": {
     "end_time": "2024-11-13T11:58:14.558131Z",
     "start_time": "2024-11-13T11:58:14.555473Z"
    }
   },
   "cell_type": "code",
   "source": [
    "# Query 4\n",
    "graphql_eval(\"\"\"\n",
    "query {\n",
    "  kunde(kid: \"10001\") {\n",
    "    name\n",
    "    bestellung {\n",
    "      produkte {\n",
    "          bez\n",
    "          laenge\n",
    "      }\n",
    "      bestelldatum\n",
    "      gesamtpreis\n",
    "    }\n",
    "  }\n",
    "}\n",
    "\"\"\")"
   ],
   "outputs": [
    {
     "name": "stdout",
     "output_type": "stream",
     "text": [
      "\n",
      "definition 0: <Query: selections=[<Field: name=kunde, arguments=[<Argument: name=kid, value=10001>], selections=[<Field: name=name>, <Field: name=bestellung, selections=[<Field: name=produkte, selections=[<Field: name=bez>, <Field: name=laenge>]>, <Field: name=bestelldatum>, <Field: name=gesamtpreis>]>]>]>\n",
      "\n",
      "selections[0]: <Field: name=kunde, arguments=[<Argument: name=kid, value=10001>], selections=[<Field: name=name>, <Field: name=bestellung, selections=[<Field: name=produkte, selections=[<Field: name=bez>, <Field: name=laenge>]>, <Field: name=bestelldatum>, <Field: name=gesamtpreis>]>]>\n",
      "\n",
      "underselections: [<Field: name=name>, <Field: name=bestellung, selections=[<Field: name=produkte, selections=[<Field: name=bez>, <Field: name=laenge>]>, <Field: name=bestelldatum>, <Field: name=gesamtpreis>]>]\n",
      "\n",
      "arguments: [<Argument: name=kid, value=10001>]\n",
      "\n",
      "selection:<Field: name=name>\n",
      "\n",
      "selection:<Field: name=bestellung, selections=[<Field: name=produkte, selections=[<Field: name=bez>, <Field: name=laenge>]>, <Field: name=bestelldatum>, <Field: name=gesamtpreis>]>\n"
     ]
    }
   ],
   "execution_count": 162
  },
  {
   "cell_type": "code",
   "metadata": {
    "ExecuteTime": {
     "end_time": "2024-11-13T11:58:14.607082Z",
     "start_time": "2024-11-13T11:58:14.603861Z"
    }
   },
   "source": [
    "ast1 = parser.parse(\"\"\"\n",
    "query {\n",
    "  kunde(kid: \"10001\") {\n",
    "    name\n",
    "    titel\n",
    "  }\n",
    "}\n",
    "\"\"\")\n",
    "q1 = ast1.definitions[0].selections[0]\n",
    "print(q1)"
   ],
   "outputs": [
    {
     "name": "stdout",
     "output_type": "stream",
     "text": [
      "<Field: name=kunde, arguments=[<Argument: name=kid, value=10001>], selections=[<Field: name=name>, <Field: name=titel>]>\n"
     ]
    }
   ],
   "execution_count": 163
  },
  {
   "cell_type": "raw",
   "metadata": {},
   "source": [
    "<Field: name=kunde, arguments=[<Argument: name=kid, value=10001>], \n",
    "    selections=[\n",
    "        <Field: name=name>, \n",
    "        <Field: name=titel>\n",
    "    ]\n",
    ">"
   ]
  },
  {
   "cell_type": "code",
   "metadata": {
    "ExecuteTime": {
     "end_time": "2024-11-13T11:58:14.655130Z",
     "start_time": "2024-11-13T11:58:14.652637Z"
    }
   },
   "source": [
    "ast2 = parser.parse(\"\"\"\n",
    "query {\n",
    "  kunde(kid: \"10001\") {\n",
    "    name\n",
    "    bestellung {\n",
    "      bestelldatum\n",
    "      gesamtpreis\n",
    "    }\n",
    "  }\n",
    "}\n",
    "\"\"\")\n",
    "q2 = ast2.definitions[0].selections[0]\n",
    "print(q2)"
   ],
   "outputs": [
    {
     "name": "stdout",
     "output_type": "stream",
     "text": [
      "<Field: name=kunde, arguments=[<Argument: name=kid, value=10001>], selections=[<Field: name=name>, <Field: name=bestellung, selections=[<Field: name=bestelldatum>, <Field: name=gesamtpreis>]>]>\n"
     ]
    }
   ],
   "execution_count": 164
  },
  {
   "cell_type": "raw",
   "metadata": {},
   "source": [
    "<Field: name=kunde, arguments=[<Argument: name=kid, value=10001>], \n",
    "    selections=[\n",
    "        <Field: name=name>, \n",
    "        <Field: name=bestellung, \n",
    "            selections=[\n",
    "                <Field: name=bestelldatum>, \n",
    "                <Field: name=gesamtpreis>\n",
    "            ]\n",
    "        >\n",
    "    ]\n",
    ">"
   ]
  },
  {
   "cell_type": "code",
   "metadata": {
    "ExecuteTime": {
     "end_time": "2024-11-13T11:58:14.703256Z",
     "start_time": "2024-11-13T11:58:14.700543Z"
    }
   },
   "source": [
    "ast3 = parser.parse(\"\"\"\n",
    "query {\n",
    "  kunde(kid: \"10001\") {\n",
    "    name\n",
    "    bestellung (bestelldatum: \"2019-01-31\") {\n",
    "      bestelldatum\n",
    "      gesamtpreis\n",
    "    }\n",
    "  }\n",
    "}\n",
    "\"\"\")\n",
    "q3 = ast3.definitions[0].selections[0]\n",
    "print(q3)"
   ],
   "outputs": [
    {
     "name": "stdout",
     "output_type": "stream",
     "text": [
      "<Field: name=kunde, arguments=[<Argument: name=kid, value=10001>], selections=[<Field: name=name>, <Field: name=bestellung, arguments=[<Argument: name=bestelldatum, value=2019-01-31>], selections=[<Field: name=bestelldatum>, <Field: name=gesamtpreis>]>]>\n"
     ]
    }
   ],
   "execution_count": 165
  },
  {
   "cell_type": "raw",
   "metadata": {},
   "source": [
    "<Field: name=kunde, arguments=[<Argument: name=kid, value=10001>], \n",
    "    selections=[\n",
    "        <Field: name=name>, \n",
    "        <Field: name=bestellung, arguments=[<Argument: name=bestelldatum, value=2019-01-31>], \n",
    "            selections=[\n",
    "                <Field: name=bestelldatum>, \n",
    "                <Field: name=gesamtpreis>\n",
    "            ]\n",
    "        >\n",
    "    ]\n",
    ">"
   ]
  },
  {
   "cell_type": "code",
   "metadata": {
    "ExecuteTime": {
     "end_time": "2024-11-13T11:58:14.757589Z",
     "start_time": "2024-11-13T11:58:14.753943Z"
    }
   },
   "source": [
    "ast4 = parser.parse(\"\"\"\n",
    "query {\n",
    "  kunde(kid: \"10001\") {\n",
    "    name\n",
    "    bestellung {\n",
    "      produkte {\n",
    "          bez\n",
    "          laenge\n",
    "      }\n",
    "      bestelldatum\n",
    "      gesamtpreis\n",
    "    }\n",
    "  }\n",
    "}\n",
    "\"\"\")\n",
    "q4 = ast4.definitions[0].selections[0]\n",
    "print(q4)"
   ],
   "outputs": [
    {
     "name": "stdout",
     "output_type": "stream",
     "text": [
      "<Field: name=kunde, arguments=[<Argument: name=kid, value=10001>], selections=[<Field: name=name>, <Field: name=bestellung, selections=[<Field: name=produkte, selections=[<Field: name=bez>, <Field: name=laenge>]>, <Field: name=bestelldatum>, <Field: name=gesamtpreis>]>]>\n"
     ]
    }
   ],
   "execution_count": 166
  },
  {
   "cell_type": "raw",
   "metadata": {},
   "source": [
    "<Field: name=kunde, arguments=[<Argument: name=kid, value=10001>], \n",
    "    selections=[\n",
    "        <Field: name=name>, \n",
    "        <Field: name=bestellung, \n",
    "            selections=[\n",
    "                <Field: name=produkte, \n",
    "                    selections=[\n",
    "                        <Field: name=bez>, \n",
    "                        <Field: name=laenge>\n",
    "                    ]\n",
    "                >, \n",
    "                <Field: name=bestelldatum>, \n",
    "                <Field: name=gesamtpreis>\n",
    "            ]\n",
    "        >\n",
    "    ]\n",
    ">"
   ]
  }
 ],
 "metadata": {
  "kernelspec": {
   "display_name": "Python 3.9.13 ('work')",
   "language": "python",
   "name": "python3"
  },
  "language_info": {
   "codemirror_mode": {
    "name": "ipython",
    "version": 3
   },
   "file_extension": ".py",
   "mimetype": "text/x-python",
   "name": "python",
   "nbconvert_exporter": "python",
   "pygments_lexer": "ipython3",
   "version": "3.10.9"
  },
  "orig_nbformat": 4,
  "vscode": {
   "interpreter": {
    "hash": "2d6fa041adfecd6e27df7d45c6447a3fc1437381c85a5efcc15b960708d9d702"
   }
  }
 },
 "nbformat": 4,
 "nbformat_minor": 2
}
