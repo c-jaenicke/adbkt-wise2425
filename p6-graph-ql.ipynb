{
 "cells": [
  {
   "metadata": {
    "ExecuteTime": {
     "end_time": "2024-11-23T13:27:31.587082Z",
     "start_time": "2024-11-23T13:27:31.138142Z"
    }
   },
   "cell_type": "code",
   "source": [
    "import cred_pg as c\n",
    "import pandas as pd\n",
    "from sqlalchemy import create_engine, text\n",
    "from graphql.language import parse\n",
    "\n",
    "engine_postgres = create_engine(\n",
    "    f'postgresql+psycopg://{c.pg_userid}:{c.pg_password}@{c.pg_host}/{c.pg_db}',\n",
    "    connect_args={'options': '-c search_path=$user,ugeobln,umisc,umobility,usozmed,public', 'keepalives_idle': 120},\n",
    "    pool_size=1,\n",
    "    max_overflow=0,\n",
    "    execution_options={'isolation_level': 'AUTOCOMMIT'}\n",
    ")\n",
    "\n",
    "\n",
    "def perform_query(query):\n",
    "    with engine_postgres.connect() as con:\n",
    "        df = pd.read_sql_query(query, con)\n",
    "        return df\n",
    "\n",
    "\n",
    "def perform_query_json(query):\n",
    "    with engine_postgres.connect() as con:\n",
    "        from sqlalchemy.sql import text\n",
    "        result = con.execute(text(query))\n",
    "        json_result = result.fetchone()[0]\n",
    "        return json_result\n",
    "\n",
    "\n",
    "def get_foreign_keys():\n",
    "    query = \"\"\"\n",
    "    SELECT con.conname AS constraint_name,\n",
    "        nsp.nspname AS schema_name,\n",
    "        conrel.relname AS table_name,\n",
    "        att2.attname AS column_name,\n",
    "        confrel.relname AS referenced_table,\n",
    "        att.attname AS referenced_column\n",
    "    FROM pg_constraint con\n",
    "    INNER JOIN pg_class conrel ON con.conrelid = conrel.oid\n",
    "    INNER JOIN pg_namespace nsp ON conrel.relnamespace = nsp.oid\n",
    "    INNER JOIN pg_attribute att2 ON att2.attnum = ANY (con.conkey) AND att2.attrelid = conrel.oid\n",
    "    INNER JOIN pg_class confrel ON con.confrelid = confrel.oid\n",
    "    INNER JOIN pg_attribute att ON att.attnum = ANY (con.confkey) AND att.attrelid = confrel.oid\n",
    "    WHERE con.contype = 'f'  -- Foreign key constraint\n",
    "        AND nsp.nspname = 'ugm';  -- Replace with your schema name\n",
    "    \"\"\"\n",
    "    df = perform_query(query)\n",
    "\n",
    "    # Dataframe zu Dict, deduplizieren und einfache lookups\n",
    "    dict_fk = {}\n",
    "    for _, row in df.iterrows():\n",
    "        source_table = row['table_name']\n",
    "        target_table = row['referenced_table']\n",
    "        target_column = row['referenced_column']\n",
    "\n",
    "        if source_table not in dict_fk:\n",
    "            dict_fk[source_table] = []\n",
    "\n",
    "        dict_fk[source_table].append((target_table, target_column))\n",
    "\n",
    "    return dict_fk\n",
    "\n",
    "\n",
    "def get_selections_join(field, root_table=None, fk_dict=None):\n",
    "    fields = []\n",
    "    join_clauses = []\n",
    "\n",
    "    # Teste ob Field selections hat\n",
    "    if not hasattr(field, 'selection_set') or not field.selection_set or not field.selection_set.selections:\n",
    "        return fields, join_clauses\n",
    "\n",
    "    # Wenn keine root_table gesetzt, ist derzeitiges Element oberstes Element\n",
    "    if not root_table:\n",
    "        # Iteriere ueber sections\n",
    "        for sub_field in field.selection_set.selections:\n",
    "            # Wenn sub_field selbst keine sections hat, ist es einfache selection\n",
    "            if not hasattr(sub_field,\n",
    "                           'selection_set') or not sub_field.selection_set or not sub_field.selection_set.selections:\n",
    "                fields.append(f\"{field.name.value}.{sub_field.name.value}\")\n",
    "            # Wenn sub_field selbst sections hat, ist unter selection vorhanden\n",
    "            else:\n",
    "                # REKURSION!\n",
    "                nested_fields, nested_joins = get_selections_join(sub_field, root_table=field.name.value,\n",
    "                                                                  fk_dict=fk_dict)\n",
    "                fields.extend(nested_fields)\n",
    "                join_clauses.extend(nested_joins)\n",
    "\n",
    "    # root_table ist gesetzt, hier Rekursion durchführen!\n",
    "    else:\n",
    "        join_table = field.name.value\n",
    "        join_fields = [f\"{join_table}.{sub_field.name.value}\" for sub_field in field.selection_set.selections]\n",
    "\n",
    "        # versuchen korrekte JOIN zu finden\n",
    "        fk_found = False\n",
    "        for source_table, fks in fk_dict.items():\n",
    "            for target_table, target_column in fks:\n",
    "                if source_table == root_table and target_table == join_table:\n",
    "                    join_clauses.append(\n",
    "                        f\"LEFT JOIN ugm.{join_table} ON ugm.{root_table}.{target_column} = ugm.{join_table}.{target_column}\")\n",
    "                    fk_found = True\n",
    "                    break\n",
    "                elif source_table == join_table and target_table == root_table:\n",
    "                    join_clauses.append(\n",
    "                        f\"LEFT JOIN ugm.{join_table} ON ugm.{root_table}.{target_column} = ugm.{join_table}.{target_column}\")\n",
    "                    fk_found = True\n",
    "                    break\n",
    "\n",
    "            if fk_found:\n",
    "                break\n",
    "\n",
    "        fields.extend(join_fields)\n",
    "\n",
    "    return fields, join_clauses\n",
    "\n",
    "\n",
    "def get_wheres(arguments, table_name):\n",
    "    where_conditions = []\n",
    "    for arg in arguments:\n",
    "        value = arg.value.value\n",
    "        where_conditions.append(f\"ugm.{table_name}.{arg.name.value}='{value}'\")\n",
    "    return where_conditions\n",
    "\n",
    "\n",
    "def graphql_eval(query):\n",
    "    ast = parse(query)\n",
    "    fk_dict = get_foreign_keys()\n",
    "\n",
    "    table_name = \"\"\n",
    "    fields = []\n",
    "    where_conditions = []\n",
    "    join_clauses = []\n",
    "\n",
    "    for definition in ast.definitions:\n",
    "        if not hasattr(definition, 'selection_set') or not definition.selection_set.selections:\n",
    "            continue\n",
    "\n",
    "        for selection in definition.selection_set.selections:\n",
    "            table_name = selection.name.value\n",
    "\n",
    "            selection_fields, selection_joins = get_selections_join(selection, fk_dict=fk_dict)\n",
    "            fields.extend(selection_fields)\n",
    "            join_clauses.extend(selection_joins)\n",
    "\n",
    "            if selection.arguments:\n",
    "                where_conditions.extend(get_wheres(selection.arguments, table_name))\n",
    "\n",
    "            # Hier genestete selections und argumente\n",
    "            for sub_selection in selection.selection_set.selections:\n",
    "                if sub_selection.arguments:\n",
    "                    where_conditions.extend(get_wheres(sub_selection.arguments, sub_selection.name.value))\n",
    "\n",
    "    # SQL query bauen\n",
    "    fields_str = \", \".join(fields)\n",
    "    where_str = \" AND \".join(where_conditions)\n",
    "    join_str = \" \".join(join_clauses)\n",
    "    query = f\"\"\"SELECT jsonb_pretty(\n",
    "                jsonb_agg(to_jsonb(t))\n",
    "                )\n",
    "                FROM (\n",
    "                    SELECT {fields_str}\n",
    "                    FROM ugm.{table_name} {join_str}\"\"\"\n",
    "    if where_str:\n",
    "        query += f\" WHERE {where_str}\"\n",
    "    query += \") t\"\n",
    "\n",
    "    result = perform_query_json(query)\n",
    "    print(result)\n",
    "    # return result\n",
    "    # return query"
   ],
   "outputs": [],
   "execution_count": 1
  },
  {
   "metadata": {
    "ExecuteTime": {
     "end_time": "2024-11-23T13:27:32.254314Z",
     "start_time": "2024-11-23T13:27:31.657990Z"
    }
   },
   "cell_type": "code",
   "source": [
    "# Query 1\n",
    "graphql_eval(\"\"\"\n",
    "query {\n",
    "  kunde(kid: \"10001\") {\n",
    "    name\n",
    "    titel\n",
    "  }\n",
    "}\n",
    "\"\"\")"
   ],
   "outputs": [
    {
     "name": "stdout",
     "output_type": "stream",
     "text": [
      "[\n",
      "    {\n",
      "        \"name\": \"Eck\",\n",
      "        \"titel\": \"Dr.\"\n",
      "    }\n",
      "]\n"
     ]
    }
   ],
   "execution_count": 2
  },
  {
   "metadata": {
    "ExecuteTime": {
     "end_time": "2024-11-23T13:27:32.328210Z",
     "start_time": "2024-11-23T13:27:32.263105Z"
    }
   },
   "cell_type": "code",
   "source": [
    "# Query 2\n",
    "graphql_eval(\"\"\"\n",
    "query {\n",
    "  kunde(kid: \"10001\") {\n",
    "    name\n",
    "    bestellung {\n",
    "      bestelldatum\n",
    "      gesamtpreis\n",
    "    }\n",
    "  }\n",
    "}\n",
    "\"\"\")"
   ],
   "outputs": [
    {
     "name": "stdout",
     "output_type": "stream",
     "text": [
      "[\n",
      "    {\n",
      "        \"name\": \"Eck\",\n",
      "        \"gesamtpreis\": 725.25,\n",
      "        \"bestelldatum\": \"2018-06-27\"\n",
      "    },\n",
      "    {\n",
      "        \"name\": \"Eck\",\n",
      "        \"gesamtpreis\": 145.99,\n",
      "        \"bestelldatum\": \"2019-01-31\"\n",
      "    },\n",
      "    {\n",
      "        \"name\": \"Eck\",\n",
      "        \"gesamtpreis\": 28.00,\n",
      "        \"bestelldatum\": \"2019-04-17\"\n",
      "    },\n",
      "    {\n",
      "        \"name\": \"Eck\",\n",
      "        \"gesamtpreis\": 871.66,\n",
      "        \"bestelldatum\": \"2019-06-28\"\n",
      "    },\n",
      "    {\n",
      "        \"name\": \"Eck\",\n",
      "        \"gesamtpreis\": 343.94,\n",
      "        \"bestelldatum\": \"2019-10-28\"\n",
      "    },\n",
      "    {\n",
      "        \"name\": \"Eck\",\n",
      "        \"gesamtpreis\": 36.00,\n",
      "        \"bestelldatum\": \"2019-11-01\"\n",
      "    }\n",
      "]\n"
     ]
    }
   ],
   "execution_count": 3
  },
  {
   "metadata": {
    "ExecuteTime": {
     "end_time": "2024-11-23T13:27:32.398107Z",
     "start_time": "2024-11-23T13:27:32.332495Z"
    }
   },
   "cell_type": "code",
   "source": [
    "# Query 3\n",
    "graphql_eval(\"\"\"\n",
    "query {\n",
    "  kunde(kid: \"10001\") {\n",
    "    name\n",
    "    bestellung (bestelldatum: \"2019-01-31\") {\n",
    "      bestelldatum\n",
    "      gesamtpreis\n",
    "    }\n",
    "  }\n",
    "}\n",
    "\"\"\")"
   ],
   "outputs": [
    {
     "name": "stdout",
     "output_type": "stream",
     "text": [
      "[\n",
      "    {\n",
      "        \"name\": \"Eck\",\n",
      "        \"gesamtpreis\": 145.99,\n",
      "        \"bestelldatum\": \"2019-01-31\"\n",
      "    }\n",
      "]\n"
     ]
    }
   ],
   "execution_count": 4
  },
  {
   "metadata": {
    "ExecuteTime": {
     "end_time": "2024-11-23T13:27:32.995891Z",
     "start_time": "2024-11-23T13:27:32.405341Z"
    }
   },
   "cell_type": "code",
   "source": [
    "# Query 4\n",
    "graphql_eval(\"\"\"\n",
    "query {\n",
    "  kunde(kid: \"10001\") {\n",
    "    name\n",
    "    bestellung {\n",
    "      produkt {\n",
    "          bez\n",
    "          laenge\n",
    "      }\n",
    "      bestelldatum\n",
    "      gesamtpreis\n",
    "    }\n",
    "  }\n",
    "}\n",
    "\"\"\")"
   ],
   "outputs": [
    {
     "ename": "ProgrammingError",
     "evalue": "(psycopg.errors.UndefinedColumn) column bestellung.produkt does not exist\nLINE 5:                     SELECT kunde.name, bestellung.produkt, b...\n                                               ^\n[SQL: SELECT jsonb_pretty(\n                jsonb_agg(to_jsonb(t))\n                )\n                FROM (\n                    SELECT kunde.name, bestellung.produkt, bestellung.bestelldatum, bestellung.gesamtpreis\n                    FROM ugm.kunde LEFT JOIN ugm.bestellung ON ugm.kunde.kid = ugm.bestellung.kid WHERE ugm.kunde.kid='10001') t]\n(Background on this error at: https://sqlalche.me/e/20/f405)",
     "output_type": "error",
     "traceback": [
      "\u001B[0;31m---------------------------------------------------------------------------\u001B[0m",
      "\u001B[0;31mUndefinedColumn\u001B[0m                           Traceback (most recent call last)",
      "File \u001B[0;32m~/GitHub/adbkt-wise2425/venv/lib/python3.12/site-packages/sqlalchemy/engine/base.py:1967\u001B[0m, in \u001B[0;36mConnection._exec_single_context\u001B[0;34m(self, dialect, context, statement, parameters)\u001B[0m\n\u001B[1;32m   1966\u001B[0m     \u001B[38;5;28;01mif\u001B[39;00m \u001B[38;5;129;01mnot\u001B[39;00m evt_handled:\n\u001B[0;32m-> 1967\u001B[0m         \u001B[38;5;28;43mself\u001B[39;49m\u001B[38;5;241;43m.\u001B[39;49m\u001B[43mdialect\u001B[49m\u001B[38;5;241;43m.\u001B[39;49m\u001B[43mdo_execute\u001B[49m\u001B[43m(\u001B[49m\n\u001B[1;32m   1968\u001B[0m \u001B[43m            \u001B[49m\u001B[43mcursor\u001B[49m\u001B[43m,\u001B[49m\u001B[43m \u001B[49m\u001B[43mstr_statement\u001B[49m\u001B[43m,\u001B[49m\u001B[43m \u001B[49m\u001B[43meffective_parameters\u001B[49m\u001B[43m,\u001B[49m\u001B[43m \u001B[49m\u001B[43mcontext\u001B[49m\n\u001B[1;32m   1969\u001B[0m \u001B[43m        \u001B[49m\u001B[43m)\u001B[49m\n\u001B[1;32m   1971\u001B[0m \u001B[38;5;28;01mif\u001B[39;00m \u001B[38;5;28mself\u001B[39m\u001B[38;5;241m.\u001B[39m_has_events \u001B[38;5;129;01mor\u001B[39;00m \u001B[38;5;28mself\u001B[39m\u001B[38;5;241m.\u001B[39mengine\u001B[38;5;241m.\u001B[39m_has_events:\n",
      "File \u001B[0;32m~/GitHub/adbkt-wise2425/venv/lib/python3.12/site-packages/sqlalchemy/engine/default.py:941\u001B[0m, in \u001B[0;36mDefaultDialect.do_execute\u001B[0;34m(self, cursor, statement, parameters, context)\u001B[0m\n\u001B[1;32m    940\u001B[0m \u001B[38;5;28;01mdef\u001B[39;00m \u001B[38;5;21mdo_execute\u001B[39m(\u001B[38;5;28mself\u001B[39m, cursor, statement, parameters, context\u001B[38;5;241m=\u001B[39m\u001B[38;5;28;01mNone\u001B[39;00m):\n\u001B[0;32m--> 941\u001B[0m     \u001B[43mcursor\u001B[49m\u001B[38;5;241;43m.\u001B[39;49m\u001B[43mexecute\u001B[49m\u001B[43m(\u001B[49m\u001B[43mstatement\u001B[49m\u001B[43m,\u001B[49m\u001B[43m \u001B[49m\u001B[43mparameters\u001B[49m\u001B[43m)\u001B[49m\n",
      "File \u001B[0;32m~/GitHub/adbkt-wise2425/venv/lib/python3.12/site-packages/psycopg/cursor.py:97\u001B[0m, in \u001B[0;36mCursor.execute\u001B[0;34m(self, query, params, prepare, binary)\u001B[0m\n\u001B[1;32m     96\u001B[0m \u001B[38;5;28;01mexcept\u001B[39;00m e\u001B[38;5;241m.\u001B[39m_NO_TRACEBACK \u001B[38;5;28;01mas\u001B[39;00m ex:\n\u001B[0;32m---> 97\u001B[0m     \u001B[38;5;28;01mraise\u001B[39;00m ex\u001B[38;5;241m.\u001B[39mwith_traceback(\u001B[38;5;28;01mNone\u001B[39;00m)\n\u001B[1;32m     98\u001B[0m \u001B[38;5;28;01mreturn\u001B[39;00m \u001B[38;5;28mself\u001B[39m\n",
      "\u001B[0;31mUndefinedColumn\u001B[0m: column bestellung.produkt does not exist\nLINE 5:                     SELECT kunde.name, bestellung.produkt, b...\n                                               ^",
      "\nThe above exception was the direct cause of the following exception:\n",
      "\u001B[0;31mProgrammingError\u001B[0m                          Traceback (most recent call last)",
      "Cell \u001B[0;32mIn[5], line 2\u001B[0m\n\u001B[1;32m      1\u001B[0m \u001B[38;5;66;03m# Query 4\u001B[39;00m\n\u001B[0;32m----> 2\u001B[0m \u001B[43mgraphql_eval\u001B[49m\u001B[43m(\u001B[49m\u001B[38;5;124;43m\"\"\"\u001B[39;49m\n\u001B[1;32m      3\u001B[0m \u001B[38;5;124;43mquery \u001B[39;49m\u001B[38;5;124;43m{\u001B[39;49m\n\u001B[1;32m      4\u001B[0m \u001B[38;5;124;43m  kunde(kid: \u001B[39;49m\u001B[38;5;124;43m\"\u001B[39;49m\u001B[38;5;124;43m10001\u001B[39;49m\u001B[38;5;124;43m\"\u001B[39;49m\u001B[38;5;124;43m) \u001B[39;49m\u001B[38;5;124;43m{\u001B[39;49m\n\u001B[1;32m      5\u001B[0m \u001B[38;5;124;43m    name\u001B[39;49m\n\u001B[1;32m      6\u001B[0m \u001B[38;5;124;43m    bestellung \u001B[39;49m\u001B[38;5;124;43m{\u001B[39;49m\n\u001B[1;32m      7\u001B[0m \u001B[38;5;124;43m      produkt \u001B[39;49m\u001B[38;5;124;43m{\u001B[39;49m\n\u001B[1;32m      8\u001B[0m \u001B[38;5;124;43m          bez\u001B[39;49m\n\u001B[1;32m      9\u001B[0m \u001B[38;5;124;43m          laenge\u001B[39;49m\n\u001B[1;32m     10\u001B[0m \u001B[38;5;124;43m      }\u001B[39;49m\n\u001B[1;32m     11\u001B[0m \u001B[38;5;124;43m      bestelldatum\u001B[39;49m\n\u001B[1;32m     12\u001B[0m \u001B[38;5;124;43m      gesamtpreis\u001B[39;49m\n\u001B[1;32m     13\u001B[0m \u001B[38;5;124;43m    }\u001B[39;49m\n\u001B[1;32m     14\u001B[0m \u001B[38;5;124;43m  }\u001B[39;49m\n\u001B[1;32m     15\u001B[0m \u001B[38;5;124;43m}\u001B[39;49m\n\u001B[1;32m     16\u001B[0m \u001B[38;5;124;43m\"\"\"\u001B[39;49m\u001B[43m)\u001B[49m\n",
      "Cell \u001B[0;32mIn[1], line 165\u001B[0m, in \u001B[0;36mgraphql_eval\u001B[0;34m(query)\u001B[0m\n\u001B[1;32m    162\u001B[0m     query \u001B[38;5;241m+\u001B[39m\u001B[38;5;241m=\u001B[39m \u001B[38;5;124mf\u001B[39m\u001B[38;5;124m\"\u001B[39m\u001B[38;5;124m WHERE \u001B[39m\u001B[38;5;132;01m{\u001B[39;00mwhere_str\u001B[38;5;132;01m}\u001B[39;00m\u001B[38;5;124m\"\u001B[39m\n\u001B[1;32m    163\u001B[0m query \u001B[38;5;241m+\u001B[39m\u001B[38;5;241m=\u001B[39m \u001B[38;5;124m\"\u001B[39m\u001B[38;5;124m) t\u001B[39m\u001B[38;5;124m\"\u001B[39m\n\u001B[0;32m--> 165\u001B[0m result \u001B[38;5;241m=\u001B[39m \u001B[43mperform_query_json\u001B[49m\u001B[43m(\u001B[49m\u001B[43mquery\u001B[49m\u001B[43m)\u001B[49m\n\u001B[1;32m    166\u001B[0m \u001B[38;5;28mprint\u001B[39m(result)\n",
      "Cell \u001B[0;32mIn[1], line 24\u001B[0m, in \u001B[0;36mperform_query_json\u001B[0;34m(query)\u001B[0m\n\u001B[1;32m     22\u001B[0m \u001B[38;5;28;01mwith\u001B[39;00m engine_postgres\u001B[38;5;241m.\u001B[39mconnect() \u001B[38;5;28;01mas\u001B[39;00m con:\n\u001B[1;32m     23\u001B[0m     \u001B[38;5;28;01mfrom\u001B[39;00m \u001B[38;5;21;01msqlalchemy\u001B[39;00m\u001B[38;5;21;01m.\u001B[39;00m\u001B[38;5;21;01msql\u001B[39;00m \u001B[38;5;28;01mimport\u001B[39;00m text\n\u001B[0;32m---> 24\u001B[0m     result \u001B[38;5;241m=\u001B[39m \u001B[43mcon\u001B[49m\u001B[38;5;241;43m.\u001B[39;49m\u001B[43mexecute\u001B[49m\u001B[43m(\u001B[49m\u001B[43mtext\u001B[49m\u001B[43m(\u001B[49m\u001B[43mquery\u001B[49m\u001B[43m)\u001B[49m\u001B[43m)\u001B[49m\n\u001B[1;32m     25\u001B[0m     json_result \u001B[38;5;241m=\u001B[39m result\u001B[38;5;241m.\u001B[39mfetchone()[\u001B[38;5;241m0\u001B[39m]\n\u001B[1;32m     26\u001B[0m     \u001B[38;5;28;01mreturn\u001B[39;00m json_result\n",
      "File \u001B[0;32m~/GitHub/adbkt-wise2425/venv/lib/python3.12/site-packages/sqlalchemy/engine/base.py:1418\u001B[0m, in \u001B[0;36mConnection.execute\u001B[0;34m(self, statement, parameters, execution_options)\u001B[0m\n\u001B[1;32m   1416\u001B[0m     \u001B[38;5;28;01mraise\u001B[39;00m exc\u001B[38;5;241m.\u001B[39mObjectNotExecutableError(statement) \u001B[38;5;28;01mfrom\u001B[39;00m \u001B[38;5;21;01merr\u001B[39;00m\n\u001B[1;32m   1417\u001B[0m \u001B[38;5;28;01melse\u001B[39;00m:\n\u001B[0;32m-> 1418\u001B[0m     \u001B[38;5;28;01mreturn\u001B[39;00m \u001B[43mmeth\u001B[49m\u001B[43m(\u001B[49m\n\u001B[1;32m   1419\u001B[0m \u001B[43m        \u001B[49m\u001B[38;5;28;43mself\u001B[39;49m\u001B[43m,\u001B[49m\n\u001B[1;32m   1420\u001B[0m \u001B[43m        \u001B[49m\u001B[43mdistilled_parameters\u001B[49m\u001B[43m,\u001B[49m\n\u001B[1;32m   1421\u001B[0m \u001B[43m        \u001B[49m\u001B[43mexecution_options\u001B[49m\u001B[43m \u001B[49m\u001B[38;5;129;43;01mor\u001B[39;49;00m\u001B[43m \u001B[49m\u001B[43mNO_OPTIONS\u001B[49m\u001B[43m,\u001B[49m\n\u001B[1;32m   1422\u001B[0m \u001B[43m    \u001B[49m\u001B[43m)\u001B[49m\n",
      "File \u001B[0;32m~/GitHub/adbkt-wise2425/venv/lib/python3.12/site-packages/sqlalchemy/sql/elements.py:515\u001B[0m, in \u001B[0;36mClauseElement._execute_on_connection\u001B[0;34m(self, connection, distilled_params, execution_options)\u001B[0m\n\u001B[1;32m    513\u001B[0m     \u001B[38;5;28;01mif\u001B[39;00m TYPE_CHECKING:\n\u001B[1;32m    514\u001B[0m         \u001B[38;5;28;01massert\u001B[39;00m \u001B[38;5;28misinstance\u001B[39m(\u001B[38;5;28mself\u001B[39m, Executable)\n\u001B[0;32m--> 515\u001B[0m     \u001B[38;5;28;01mreturn\u001B[39;00m \u001B[43mconnection\u001B[49m\u001B[38;5;241;43m.\u001B[39;49m\u001B[43m_execute_clauseelement\u001B[49m\u001B[43m(\u001B[49m\n\u001B[1;32m    516\u001B[0m \u001B[43m        \u001B[49m\u001B[38;5;28;43mself\u001B[39;49m\u001B[43m,\u001B[49m\u001B[43m \u001B[49m\u001B[43mdistilled_params\u001B[49m\u001B[43m,\u001B[49m\u001B[43m \u001B[49m\u001B[43mexecution_options\u001B[49m\n\u001B[1;32m    517\u001B[0m \u001B[43m    \u001B[49m\u001B[43m)\u001B[49m\n\u001B[1;32m    518\u001B[0m \u001B[38;5;28;01melse\u001B[39;00m:\n\u001B[1;32m    519\u001B[0m     \u001B[38;5;28;01mraise\u001B[39;00m exc\u001B[38;5;241m.\u001B[39mObjectNotExecutableError(\u001B[38;5;28mself\u001B[39m)\n",
      "File \u001B[0;32m~/GitHub/adbkt-wise2425/venv/lib/python3.12/site-packages/sqlalchemy/engine/base.py:1640\u001B[0m, in \u001B[0;36mConnection._execute_clauseelement\u001B[0;34m(self, elem, distilled_parameters, execution_options)\u001B[0m\n\u001B[1;32m   1628\u001B[0m compiled_cache: Optional[CompiledCacheType] \u001B[38;5;241m=\u001B[39m execution_options\u001B[38;5;241m.\u001B[39mget(\n\u001B[1;32m   1629\u001B[0m     \u001B[38;5;124m\"\u001B[39m\u001B[38;5;124mcompiled_cache\u001B[39m\u001B[38;5;124m\"\u001B[39m, \u001B[38;5;28mself\u001B[39m\u001B[38;5;241m.\u001B[39mengine\u001B[38;5;241m.\u001B[39m_compiled_cache\n\u001B[1;32m   1630\u001B[0m )\n\u001B[1;32m   1632\u001B[0m compiled_sql, extracted_params, cache_hit \u001B[38;5;241m=\u001B[39m elem\u001B[38;5;241m.\u001B[39m_compile_w_cache(\n\u001B[1;32m   1633\u001B[0m     dialect\u001B[38;5;241m=\u001B[39mdialect,\n\u001B[1;32m   1634\u001B[0m     compiled_cache\u001B[38;5;241m=\u001B[39mcompiled_cache,\n\u001B[0;32m   (...)\u001B[0m\n\u001B[1;32m   1638\u001B[0m     linting\u001B[38;5;241m=\u001B[39m\u001B[38;5;28mself\u001B[39m\u001B[38;5;241m.\u001B[39mdialect\u001B[38;5;241m.\u001B[39mcompiler_linting \u001B[38;5;241m|\u001B[39m compiler\u001B[38;5;241m.\u001B[39mWARN_LINTING,\n\u001B[1;32m   1639\u001B[0m )\n\u001B[0;32m-> 1640\u001B[0m ret \u001B[38;5;241m=\u001B[39m \u001B[38;5;28;43mself\u001B[39;49m\u001B[38;5;241;43m.\u001B[39;49m\u001B[43m_execute_context\u001B[49m\u001B[43m(\u001B[49m\n\u001B[1;32m   1641\u001B[0m \u001B[43m    \u001B[49m\u001B[43mdialect\u001B[49m\u001B[43m,\u001B[49m\n\u001B[1;32m   1642\u001B[0m \u001B[43m    \u001B[49m\u001B[43mdialect\u001B[49m\u001B[38;5;241;43m.\u001B[39;49m\u001B[43mexecution_ctx_cls\u001B[49m\u001B[38;5;241;43m.\u001B[39;49m\u001B[43m_init_compiled\u001B[49m\u001B[43m,\u001B[49m\n\u001B[1;32m   1643\u001B[0m \u001B[43m    \u001B[49m\u001B[43mcompiled_sql\u001B[49m\u001B[43m,\u001B[49m\n\u001B[1;32m   1644\u001B[0m \u001B[43m    \u001B[49m\u001B[43mdistilled_parameters\u001B[49m\u001B[43m,\u001B[49m\n\u001B[1;32m   1645\u001B[0m \u001B[43m    \u001B[49m\u001B[43mexecution_options\u001B[49m\u001B[43m,\u001B[49m\n\u001B[1;32m   1646\u001B[0m \u001B[43m    \u001B[49m\u001B[43mcompiled_sql\u001B[49m\u001B[43m,\u001B[49m\n\u001B[1;32m   1647\u001B[0m \u001B[43m    \u001B[49m\u001B[43mdistilled_parameters\u001B[49m\u001B[43m,\u001B[49m\n\u001B[1;32m   1648\u001B[0m \u001B[43m    \u001B[49m\u001B[43melem\u001B[49m\u001B[43m,\u001B[49m\n\u001B[1;32m   1649\u001B[0m \u001B[43m    \u001B[49m\u001B[43mextracted_params\u001B[49m\u001B[43m,\u001B[49m\n\u001B[1;32m   1650\u001B[0m \u001B[43m    \u001B[49m\u001B[43mcache_hit\u001B[49m\u001B[38;5;241;43m=\u001B[39;49m\u001B[43mcache_hit\u001B[49m\u001B[43m,\u001B[49m\n\u001B[1;32m   1651\u001B[0m \u001B[43m\u001B[49m\u001B[43m)\u001B[49m\n\u001B[1;32m   1652\u001B[0m \u001B[38;5;28;01mif\u001B[39;00m has_events:\n\u001B[1;32m   1653\u001B[0m     \u001B[38;5;28mself\u001B[39m\u001B[38;5;241m.\u001B[39mdispatch\u001B[38;5;241m.\u001B[39mafter_execute(\n\u001B[1;32m   1654\u001B[0m         \u001B[38;5;28mself\u001B[39m,\n\u001B[1;32m   1655\u001B[0m         elem,\n\u001B[0;32m   (...)\u001B[0m\n\u001B[1;32m   1659\u001B[0m         ret,\n\u001B[1;32m   1660\u001B[0m     )\n",
      "File \u001B[0;32m~/GitHub/adbkt-wise2425/venv/lib/python3.12/site-packages/sqlalchemy/engine/base.py:1846\u001B[0m, in \u001B[0;36mConnection._execute_context\u001B[0;34m(self, dialect, constructor, statement, parameters, execution_options, *args, **kw)\u001B[0m\n\u001B[1;32m   1844\u001B[0m     \u001B[38;5;28;01mreturn\u001B[39;00m \u001B[38;5;28mself\u001B[39m\u001B[38;5;241m.\u001B[39m_exec_insertmany_context(dialect, context)\n\u001B[1;32m   1845\u001B[0m \u001B[38;5;28;01melse\u001B[39;00m:\n\u001B[0;32m-> 1846\u001B[0m     \u001B[38;5;28;01mreturn\u001B[39;00m \u001B[38;5;28;43mself\u001B[39;49m\u001B[38;5;241;43m.\u001B[39;49m\u001B[43m_exec_single_context\u001B[49m\u001B[43m(\u001B[49m\n\u001B[1;32m   1847\u001B[0m \u001B[43m        \u001B[49m\u001B[43mdialect\u001B[49m\u001B[43m,\u001B[49m\u001B[43m \u001B[49m\u001B[43mcontext\u001B[49m\u001B[43m,\u001B[49m\u001B[43m \u001B[49m\u001B[43mstatement\u001B[49m\u001B[43m,\u001B[49m\u001B[43m \u001B[49m\u001B[43mparameters\u001B[49m\n\u001B[1;32m   1848\u001B[0m \u001B[43m    \u001B[49m\u001B[43m)\u001B[49m\n",
      "File \u001B[0;32m~/GitHub/adbkt-wise2425/venv/lib/python3.12/site-packages/sqlalchemy/engine/base.py:1986\u001B[0m, in \u001B[0;36mConnection._exec_single_context\u001B[0;34m(self, dialect, context, statement, parameters)\u001B[0m\n\u001B[1;32m   1983\u001B[0m     result \u001B[38;5;241m=\u001B[39m context\u001B[38;5;241m.\u001B[39m_setup_result_proxy()\n\u001B[1;32m   1985\u001B[0m \u001B[38;5;28;01mexcept\u001B[39;00m \u001B[38;5;167;01mBaseException\u001B[39;00m \u001B[38;5;28;01mas\u001B[39;00m e:\n\u001B[0;32m-> 1986\u001B[0m     \u001B[38;5;28;43mself\u001B[39;49m\u001B[38;5;241;43m.\u001B[39;49m\u001B[43m_handle_dbapi_exception\u001B[49m\u001B[43m(\u001B[49m\n\u001B[1;32m   1987\u001B[0m \u001B[43m        \u001B[49m\u001B[43me\u001B[49m\u001B[43m,\u001B[49m\u001B[43m \u001B[49m\u001B[43mstr_statement\u001B[49m\u001B[43m,\u001B[49m\u001B[43m \u001B[49m\u001B[43meffective_parameters\u001B[49m\u001B[43m,\u001B[49m\u001B[43m \u001B[49m\u001B[43mcursor\u001B[49m\u001B[43m,\u001B[49m\u001B[43m \u001B[49m\u001B[43mcontext\u001B[49m\n\u001B[1;32m   1988\u001B[0m \u001B[43m    \u001B[49m\u001B[43m)\u001B[49m\n\u001B[1;32m   1990\u001B[0m \u001B[38;5;28;01mreturn\u001B[39;00m result\n",
      "File \u001B[0;32m~/GitHub/adbkt-wise2425/venv/lib/python3.12/site-packages/sqlalchemy/engine/base.py:2355\u001B[0m, in \u001B[0;36mConnection._handle_dbapi_exception\u001B[0;34m(self, e, statement, parameters, cursor, context, is_sub_exec)\u001B[0m\n\u001B[1;32m   2353\u001B[0m \u001B[38;5;28;01melif\u001B[39;00m should_wrap:\n\u001B[1;32m   2354\u001B[0m     \u001B[38;5;28;01massert\u001B[39;00m sqlalchemy_exception \u001B[38;5;129;01mis\u001B[39;00m \u001B[38;5;129;01mnot\u001B[39;00m \u001B[38;5;28;01mNone\u001B[39;00m\n\u001B[0;32m-> 2355\u001B[0m     \u001B[38;5;28;01mraise\u001B[39;00m sqlalchemy_exception\u001B[38;5;241m.\u001B[39mwith_traceback(exc_info[\u001B[38;5;241m2\u001B[39m]) \u001B[38;5;28;01mfrom\u001B[39;00m \u001B[38;5;21;01me\u001B[39;00m\n\u001B[1;32m   2356\u001B[0m \u001B[38;5;28;01melse\u001B[39;00m:\n\u001B[1;32m   2357\u001B[0m     \u001B[38;5;28;01massert\u001B[39;00m exc_info[\u001B[38;5;241m1\u001B[39m] \u001B[38;5;129;01mis\u001B[39;00m \u001B[38;5;129;01mnot\u001B[39;00m \u001B[38;5;28;01mNone\u001B[39;00m\n",
      "File \u001B[0;32m~/GitHub/adbkt-wise2425/venv/lib/python3.12/site-packages/sqlalchemy/engine/base.py:1967\u001B[0m, in \u001B[0;36mConnection._exec_single_context\u001B[0;34m(self, dialect, context, statement, parameters)\u001B[0m\n\u001B[1;32m   1965\u001B[0m                 \u001B[38;5;28;01mbreak\u001B[39;00m\n\u001B[1;32m   1966\u001B[0m     \u001B[38;5;28;01mif\u001B[39;00m \u001B[38;5;129;01mnot\u001B[39;00m evt_handled:\n\u001B[0;32m-> 1967\u001B[0m         \u001B[38;5;28;43mself\u001B[39;49m\u001B[38;5;241;43m.\u001B[39;49m\u001B[43mdialect\u001B[49m\u001B[38;5;241;43m.\u001B[39;49m\u001B[43mdo_execute\u001B[49m\u001B[43m(\u001B[49m\n\u001B[1;32m   1968\u001B[0m \u001B[43m            \u001B[49m\u001B[43mcursor\u001B[49m\u001B[43m,\u001B[49m\u001B[43m \u001B[49m\u001B[43mstr_statement\u001B[49m\u001B[43m,\u001B[49m\u001B[43m \u001B[49m\u001B[43meffective_parameters\u001B[49m\u001B[43m,\u001B[49m\u001B[43m \u001B[49m\u001B[43mcontext\u001B[49m\n\u001B[1;32m   1969\u001B[0m \u001B[43m        \u001B[49m\u001B[43m)\u001B[49m\n\u001B[1;32m   1971\u001B[0m \u001B[38;5;28;01mif\u001B[39;00m \u001B[38;5;28mself\u001B[39m\u001B[38;5;241m.\u001B[39m_has_events \u001B[38;5;129;01mor\u001B[39;00m \u001B[38;5;28mself\u001B[39m\u001B[38;5;241m.\u001B[39mengine\u001B[38;5;241m.\u001B[39m_has_events:\n\u001B[1;32m   1972\u001B[0m     \u001B[38;5;28mself\u001B[39m\u001B[38;5;241m.\u001B[39mdispatch\u001B[38;5;241m.\u001B[39mafter_cursor_execute(\n\u001B[1;32m   1973\u001B[0m         \u001B[38;5;28mself\u001B[39m,\n\u001B[1;32m   1974\u001B[0m         cursor,\n\u001B[0;32m   (...)\u001B[0m\n\u001B[1;32m   1978\u001B[0m         context\u001B[38;5;241m.\u001B[39mexecutemany,\n\u001B[1;32m   1979\u001B[0m     )\n",
      "File \u001B[0;32m~/GitHub/adbkt-wise2425/venv/lib/python3.12/site-packages/sqlalchemy/engine/default.py:941\u001B[0m, in \u001B[0;36mDefaultDialect.do_execute\u001B[0;34m(self, cursor, statement, parameters, context)\u001B[0m\n\u001B[1;32m    940\u001B[0m \u001B[38;5;28;01mdef\u001B[39;00m \u001B[38;5;21mdo_execute\u001B[39m(\u001B[38;5;28mself\u001B[39m, cursor, statement, parameters, context\u001B[38;5;241m=\u001B[39m\u001B[38;5;28;01mNone\u001B[39;00m):\n\u001B[0;32m--> 941\u001B[0m     \u001B[43mcursor\u001B[49m\u001B[38;5;241;43m.\u001B[39;49m\u001B[43mexecute\u001B[49m\u001B[43m(\u001B[49m\u001B[43mstatement\u001B[49m\u001B[43m,\u001B[49m\u001B[43m \u001B[49m\u001B[43mparameters\u001B[49m\u001B[43m)\u001B[49m\n",
      "File \u001B[0;32m~/GitHub/adbkt-wise2425/venv/lib/python3.12/site-packages/psycopg/cursor.py:97\u001B[0m, in \u001B[0;36mCursor.execute\u001B[0;34m(self, query, params, prepare, binary)\u001B[0m\n\u001B[1;32m     93\u001B[0m         \u001B[38;5;28mself\u001B[39m\u001B[38;5;241m.\u001B[39m_conn\u001B[38;5;241m.\u001B[39mwait(\n\u001B[1;32m     94\u001B[0m             \u001B[38;5;28mself\u001B[39m\u001B[38;5;241m.\u001B[39m_execute_gen(query, params, prepare\u001B[38;5;241m=\u001B[39mprepare, binary\u001B[38;5;241m=\u001B[39mbinary)\n\u001B[1;32m     95\u001B[0m         )\n\u001B[1;32m     96\u001B[0m \u001B[38;5;28;01mexcept\u001B[39;00m e\u001B[38;5;241m.\u001B[39m_NO_TRACEBACK \u001B[38;5;28;01mas\u001B[39;00m ex:\n\u001B[0;32m---> 97\u001B[0m     \u001B[38;5;28;01mraise\u001B[39;00m ex\u001B[38;5;241m.\u001B[39mwith_traceback(\u001B[38;5;28;01mNone\u001B[39;00m)\n\u001B[1;32m     98\u001B[0m \u001B[38;5;28;01mreturn\u001B[39;00m \u001B[38;5;28mself\u001B[39m\n",
      "\u001B[0;31mProgrammingError\u001B[0m: (psycopg.errors.UndefinedColumn) column bestellung.produkt does not exist\nLINE 5:                     SELECT kunde.name, bestellung.produkt, b...\n                                               ^\n[SQL: SELECT jsonb_pretty(\n                jsonb_agg(to_jsonb(t))\n                )\n                FROM (\n                    SELECT kunde.name, bestellung.produkt, bestellung.bestelldatum, bestellung.gesamtpreis\n                    FROM ugm.kunde LEFT JOIN ugm.bestellung ON ugm.kunde.kid = ugm.bestellung.kid WHERE ugm.kunde.kid='10001') t]\n(Background on this error at: https://sqlalche.me/e/20/f405)"
     ]
    }
   ],
   "execution_count": 5
  }
 ],
 "metadata": {
  "kernelspec": {
   "display_name": "Python 3.9.13 ('work')",
   "language": "python",
   "name": "python3"
  },
  "language_info": {
   "codemirror_mode": {
    "name": "ipython",
    "version": 3
   },
   "file_extension": ".py",
   "mimetype": "text/x-python",
   "name": "python",
   "nbconvert_exporter": "python",
   "pygments_lexer": "ipython3",
   "version": "3.10.9"
  },
  "orig_nbformat": 4,
  "vscode": {
   "interpreter": {
    "hash": "2d6fa041adfecd6e27df7d45c6447a3fc1437381c85a5efcc15b960708d9d702"
   }
  }
 },
 "nbformat": 4,
 "nbformat_minor": 2
}
