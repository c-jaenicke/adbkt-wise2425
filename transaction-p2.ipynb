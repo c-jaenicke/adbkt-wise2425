{
 "cells": [
  {
   "cell_type": "markdown",
   "id": "72a952bd-0aa2-4789-82f6-e3aa875ab2e2",
   "metadata": {},
   "source": [
    "# Init"
   ]
  },
  {
   "cell_type": "markdown",
   "id": "cc15fdf7-2d9d-457e-af98-44410feaab6c",
   "metadata": {},
   "source": [
    "## Import "
   ]
  },
  {
   "cell_type": "code",
   "id": "e450f088-9d36-4dfe-bb4b-bce4346ce995",
   "metadata": {
    "ExecuteTime": {
     "end_time": "2024-10-18T09:47:06.177175Z",
     "start_time": "2024-10-18T09:47:06.171345Z"
    }
   },
   "source": [
    "import asyncio\n",
    "# import psycopg as driver\n",
    "# import mysql.connector as driver\n",
    "import mariadb as driver\n",
    "\n",
    "import cred_mariap2 as c"
   ],
   "outputs": [],
   "execution_count": 1
  },
  {
   "cell_type": "markdown",
   "id": "7d718e90-898e-464a-866d-255255adb38c",
   "metadata": {},
   "source": [
    "## Functions"
   ]
  },
  {
   "cell_type": "markdown",
   "id": "c38292bc-792f-4358-8aed-e95bffadacab",
   "metadata": {},
   "source": [
    "### Transaction Prefix"
   ]
  },
  {
   "cell_type": "code",
   "id": "50fbb6d2-967e-4976-afb0-f94d1c7d5a96",
   "metadata": {
    "ExecuteTime": {
     "end_time": "2024-10-18T09:47:06.223927Z",
     "start_time": "2024-10-18T09:47:06.220838Z"
    }
   },
   "source": [
    "def t_prefix(tname, il):\n",
    "    return f\"{\" \" * il}{tname}: \""
   ],
   "outputs": [],
   "execution_count": 2
  },
  {
   "cell_type": "markdown",
   "id": "d88db61e-fa48-47d4-8ba3-f7529f90ba92",
   "metadata": {},
   "source": [
    "### Conditional Newline Printer"
   ]
  },
  {
   "cell_type": "code",
   "id": "cfad054c-1ff2-43cf-bfea-196e890c19f8",
   "metadata": {
    "ExecuteTime": {
     "end_time": "2024-10-18T09:47:06.321056Z",
     "start_time": "2024-10-18T09:47:06.319124Z"
    }
   },
   "source": [
    "def print_nl(nl):\n",
    "    if nl: print(\"\")"
   ],
   "outputs": [],
   "execution_count": 3
  },
  {
   "cell_type": "markdown",
   "id": "3845044a-91f6-4420-b1b0-1da388d6daa2",
   "metadata": {},
   "source": [
    "### Print Separator"
   ]
  },
  {
   "cell_type": "code",
   "id": "034e9663-afab-4e81-9ecd-73fba7497254",
   "metadata": {
    "ExecuteTime": {
     "end_time": "2024-10-18T09:47:06.367521Z",
     "start_time": "2024-10-18T09:47:06.364555Z"
    }
   },
   "source": [
    "def sep(nl=True):\n",
    "    print(f\"{'*' * 10}\")\n",
    "    print_nl(nl)"
   ],
   "outputs": [],
   "execution_count": 4
  },
  {
   "cell_type": "markdown",
   "id": "3424acc5-7c1d-4e7a-bbf8-3baa3c0ef637",
   "metadata": {},
   "source": [
    "## Database"
   ]
  },
  {
   "cell_type": "markdown",
   "id": "14a901af-3b6f-44e2-9782-2e2bae47f1d0",
   "metadata": {},
   "source": [
    "### Table Contents"
   ]
  },
  {
   "cell_type": "code",
   "id": "25dddf34-ac91-492f-b23e-33ca19bcdbbf",
   "metadata": {
    "ExecuteTime": {
     "end_time": "2024-10-18T09:47:06.417223Z",
     "start_time": "2024-10-18T09:47:06.413198Z"
    }
   },
   "source": [
    "def tc(con_par, tn, ordering):\n",
    "    with driver.connect(user=c.pg_userid, password=c.pg_password, host=c.pg_host, port=c.pg_port,\n",
    "                        database=c.pg_db) as con:\n",
    "        with con.cursor() as cur:\n",
    "            records = cur.execute(f\"select * from {tn} order by {ordering}\")\n",
    "    return records\n",
    "\n",
    "\n",
    "def show_tc(con_par, tn, ordering, msg, nl=True):\n",
    "    print(f\"{msg}: {tc(con_par, tn, ordering)}\")\n",
    "    print_nl(nl)"
   ],
   "outputs": [],
   "execution_count": 5
  },
  {
   "cell_type": "markdown",
   "id": "cfb677c9-7bae-4734-8af6-8369032ff712",
   "metadata": {},
   "source": [
    "### DB Exception Handling"
   ]
  },
  {
   "cell_type": "code",
   "id": "2b88bfda-d156-4c37-8772-aaf2362cb433",
   "metadata": {
    "ExecuteTime": {
     "end_time": "2024-10-18T09:47:06.463054Z",
     "start_time": "2024-10-18T09:47:06.459907Z"
    }
   },
   "source": [
    "def handle_db_exc(tname, il, con, e, clear_con=True, nl=True):\n",
    "    print(f\"{t_prefix(tname, il)}{type(e).__name__}\")\n",
    "    if clear_con:\n",
    "        con.rollback()\n",
    "        con.close()\n",
    "    print_nl(nl)"
   ],
   "outputs": [],
   "execution_count": 6
  },
  {
   "cell_type": "markdown",
   "id": "03a908e2-08a2-422f-97bb-23548531d997",
   "metadata": {},
   "source": [
    "### ClassValue"
   ]
  },
  {
   "metadata": {
    "ExecuteTime": {
     "end_time": "2024-10-18T09:47:06.511392Z",
     "start_time": "2024-10-18T09:47:06.506801Z"
    }
   },
   "cell_type": "code",
   "source": [
    "def create_cv(con_par):\n",
    "    sql1 = \"drop table if exists cv\"\n",
    "    sql2 = \"\"\" \n",
    "    create table cv (\n",
    "      cls integer not null,\n",
    "      val integer not null\n",
    "    )\n",
    "    \"\"\"\n",
    "    with driver.connect(user=c.pg_userid, password=c.pg_password, host=c.pg_host, port=c.pg_port,\n",
    "                        database=c.pg_db) as con:\n",
    "        with con.cursor() as cur:\n",
    "            cur.execute(sql1)\n",
    "            cur.execute(sql2)\n",
    "\n",
    "\n",
    "def reset_cv(con_par):\n",
    "    sql1 = \"delete from cv\"\n",
    "    sql2 = \"insert into cv values (1, 10), (1, 20), (2, 100), (2, 200)\"\n",
    "    with driver.connect(user=c.pg_userid, password=c.pg_password, host=c.pg_host, port=c.pg_port,\n",
    "                        database=c.pg_db) as con:\n",
    "        with con.cursor() as cur:\n",
    "            cur.execute(sql1)\n",
    "            cur.execute(sql2)"
   ],
   "id": "8a3f5af614f24bed",
   "outputs": [],
   "execution_count": 7
  },
  {
   "metadata": {
    "ExecuteTime": {
     "end_time": "2024-10-18T09:47:06.559467Z",
     "start_time": "2024-10-18T09:47:06.557341Z"
    }
   },
   "cell_type": "code",
   "source": [
    "TBL_CV = \"cv\"\n",
    "ORD_CV = \"cls, val\"\n",
    "\n",
    "MSG_BEFORE_CV = \"Before (cls, val)\"\n",
    "MSG_AFTER_CV = \"After  (cls, val)\"\n",
    "\n",
    "CV_ALL_SEL = \"select * from cv order by cls, val\"\n",
    "CV_INS_2 = \"insert into cv select 2, sum(val) from cv where cls=1\"\n",
    "CV_INS_1 = \"insert into cv select 1, sum(val) from cv where cls=2\""
   ],
   "id": "9b57a6153420d6bf",
   "outputs": [],
   "execution_count": 8
  },
  {
   "metadata": {},
   "cell_type": "markdown",
   "source": "### Konto",
   "id": "99e04f773835ee09"
  },
  {
   "metadata": {
    "ExecuteTime": {
     "end_time": "2024-10-18T09:47:06.613081Z",
     "start_time": "2024-10-18T09:47:06.607901Z"
    }
   },
   "cell_type": "code",
   "source": [
    "def create_konto(con_par):\n",
    "    sql1 = \"drop table if exists konto\"\n",
    "    sql2 = \"\"\" \n",
    "    create table konto (\n",
    "      kid integer not null primary key,\n",
    "      betrag integer not null\n",
    "    )\n",
    "    \"\"\"\n",
    "    with driver.connect(user=c.pg_userid, password=c.pg_password, host=c.pg_host, port=c.pg_port,\n",
    "                        database=c.pg_db) as con:\n",
    "        with con.cursor() as cur:\n",
    "            cur.execute(sql1)\n",
    "            cur.execute(sql2)\n",
    "\n",
    "\n",
    "def reset1_konto(con_par):\n",
    "    reset_konto(con_par, \"(100, 2), (200, 6)\")\n",
    "\n",
    "\n",
    "def reset2_konto(con_par):\n",
    "    reset_konto(con_par, \"(100, 80), (200, 50)\")\n",
    "\n",
    "\n",
    "def reset_konto(con_par, values):\n",
    "    sql1 = \"delete from konto\"\n",
    "    sql2 = f\"insert into konto values {values}\"\n",
    "    with driver.connect(user=c.pg_userid, password=c.pg_password, host=c.pg_host, port=c.pg_port,\n",
    "                        database=c.pg_db) as con:\n",
    "        with con.cursor() as cur:\n",
    "            cur.execute(sql1)\n",
    "            cur.execute(sql2)"
   ],
   "id": "e0724709e32ba12f",
   "outputs": [],
   "execution_count": 9
  },
  {
   "metadata": {
    "ExecuteTime": {
     "end_time": "2024-10-18T09:47:06.664210Z",
     "start_time": "2024-10-18T09:47:06.660453Z"
    }
   },
   "cell_type": "code",
   "source": [
    "TBL_KTO = \"konto\"\n",
    "ORD_KTO = \"kid\"\n",
    "\n",
    "MSG_BEFORE_KTO = \"Before (kid, betrag)\"\n",
    "MSG_AFTER_KTO = \"After  (kid, betrag)\"\n",
    "\n",
    "KTO_ALL_SEL = \"select * from konto order by kid\"\n",
    "KTO_ALL_SEL_FOR_UPDATE = \"select * from konto order by kid for update\"\n",
    "KTO_100_SEL = \"select * from konto where kid=100\"\n",
    "KTO_200_SEL = \"select * from konto where kid=200\"\n",
    "KTO_100_UPD_3 = \"update konto set betrag = 3 where kid=100\"\n",
    "KTO_100_UPD_MINUS10 = \"update konto set betrag = -10 where kid=100\"\n",
    "KTO_100_UPD_WITHDRAW90 = \"update konto set betrag = betrag -90 where kid=100\"\n",
    "KTO_200_UPD_0 = \"update konto set betrag = 0 where kid=200\"\n",
    "KTO_200_UPD_WITHDRAW50 = \"update konto set betrag = betrag -50 where kid=200\"\n",
    "KTO_200_UPD_7 = \"update konto set betrag = 7 where kid=200\"\n",
    "KTO_300_INS_1 = \"insert into konto values (300, 1)\""
   ],
   "id": "3ec2d6c6c8a817a8",
   "outputs": [],
   "execution_count": 10
  },
  {
   "metadata": {},
   "cell_type": "markdown",
   "source": "### Personal",
   "id": "8a23cc83437ace14"
  },
  {
   "metadata": {
    "ExecuteTime": {
     "end_time": "2024-10-18T09:47:06.714845Z",
     "start_time": "2024-10-18T09:47:06.710405Z"
    }
   },
   "cell_type": "code",
   "source": [
    "def create_personal(con_par):\n",
    "    sql1 = \"drop table if exists personal\"\n",
    "    sql2 = \"\"\" \n",
    "    create table personal (\n",
    "      pid integer not null primary key,\n",
    "      gehalt integer not null\n",
    "    )\n",
    "    \"\"\"\n",
    "    with driver.connect(user=c.pg_userid, password=c.pg_password, host=c.pg_host, port=c.pg_port,\n",
    "                        database=c.pg_db) as con:\n",
    "        with con.cursor() as cur:\n",
    "            cur.execute(sql1)\n",
    "            cur.execute(sql2)\n",
    "\n",
    "\n",
    "def reset_personal(con_par):\n",
    "    sql1 = \"delete from personal\"\n",
    "    sql2 = \"insert into personal values (100, 40000), (200, 50000)\"\n",
    "    with driver.connect(user=c.pg_userid, password=c.pg_password, host=c.pg_host, port=c.pg_port,\n",
    "                        database=c.pg_db) as con:\n",
    "        with con.cursor() as cur:\n",
    "            cur.execute(sql1)\n",
    "            cur.execute(sql2)"
   ],
   "id": "4ee1ffd0ad621b37",
   "outputs": [],
   "execution_count": 11
  },
  {
   "metadata": {
    "ExecuteTime": {
     "end_time": "2024-10-18T09:47:06.764382Z",
     "start_time": "2024-10-18T09:47:06.760682Z"
    }
   },
   "cell_type": "code",
   "source": [
    "TBL_PERS = \"personal\"\n",
    "ORD_PERS = \"pid\"\n",
    "\n",
    "MSG_BEFORE_PERS = \"Before (pid, gehalt)\"\n",
    "MSG_AFTER_PERS = \"After  (pid, gehalt)\"\n",
    "\n",
    "PERS_ALL_SEL = \"select * from personal order by pid\"\n",
    "PERS_100_SEL = \"select * from personal where pid=100\"\n",
    "PERS_200_SEL = \"select * from personal where pid=200\"\n",
    "PERS_ALL_SEL_FOR_SHARE = \"select * from personal order by pid for share\"\n",
    "PERS_ALL_SEL_FOR_UPDATE = \"select * from personal order by pid for update\"\n",
    "PERS_100_UPD_41000 = \"update personal set gehalt=41000 where pid=100\"\n",
    "PERS_100_UPD_ADD1000 = \"update personal set gehalt= gehalt + 1000 where pid=100\"\n",
    "PERS_100_UPD_42000 = \"update personal set gehalt=42000 where pid=100\"\n",
    "PERS_100_UPD_ADD2000 = \"update personal set gehalt= gehalt + 2000 where pid=100\"\n",
    "PERS_200_UPD_51000 = \"update personal set gehalt=51000 where pid=200\"\n",
    "PERS_100_DEL = \"delete from personal where pid=100\""
   ],
   "id": "822b185934421ca0",
   "outputs": [],
   "execution_count": 12
  },
  {
   "metadata": {},
   "cell_type": "markdown",
   "source": "### Website",
   "id": "1d8f02179d58bbb1"
  },
  {
   "metadata": {
    "ExecuteTime": {
     "end_time": "2024-10-18T09:47:06.813071Z",
     "start_time": "2024-10-18T09:47:06.810041Z"
    }
   },
   "cell_type": "code",
   "source": [
    "def create_website(con_par):\n",
    "    sql1 = \"drop table if exists website\"\n",
    "    sql2 = \"\"\" \n",
    "    create table website (\n",
    "      wsid integer not null primary key,\n",
    "      hits integer not null\n",
    "    )\n",
    "    \"\"\"\n",
    "    with driver.connect(user=c.pg_userid, password=c.pg_password, host=c.pg_host, port=c.pg_port,\n",
    "                        database=c.pg_db) as con:\n",
    "        with con.cursor() as cur:\n",
    "            cur.execute(sql1)\n",
    "            cur.execute(sql2)\n",
    "\n",
    "\n",
    "def reset_website(con_par):\n",
    "    sql1 = \"delete from website\"\n",
    "    sql2 = \"insert into website values (100, 9), (200, 10)\"\n",
    "    with driver.connect(user=c.pg_userid, password=c.pg_password, host=c.pg_host, port=c.pg_port,\n",
    "                        database=c.pg_db) as con:\n",
    "        with con.cursor() as cur:\n",
    "            cur.execute(sql1)\n",
    "            cur.execute(sql2)"
   ],
   "id": "fb17a96891c52b8d",
   "outputs": [],
   "execution_count": 13
  },
  {
   "cell_type": "code",
   "id": "498d6c14-3098-46e6-86e4-697fc8c4feb6",
   "metadata": {
    "ExecuteTime": {
     "end_time": "2024-10-18T09:47:06.860682Z",
     "start_time": "2024-10-18T09:47:06.857718Z"
    }
   },
   "source": [
    "TBL_WS = \"website\"\n",
    "ORD_WS = \"wsid\"\n",
    "\n",
    "MSG_BEFORE_WS = \"Before (wsid, hits)\"\n",
    "MSG_AFTER_WS = \"After  (wsid, hits)\"\n",
    "\n",
    "WS_ALL_SEL = \"select * from website order by wsid\"\n",
    "WS_ALL_UPD = \"update website set hits = hits + 1\"\n",
    "WS_HITS10_DEL = \"delete from website where hits = 10\""
   ],
   "outputs": [],
   "execution_count": 14
  },
  {
   "cell_type": "markdown",
   "id": "8cd44d5a-7699-4110-8196-ba414b310d78",
   "metadata": {},
   "source": [
    "## Transaction Code"
   ]
  },
  {
   "cell_type": "markdown",
   "id": "2a4ebc8d-b390-4b08-94c1-1d5185594494",
   "metadata": {},
   "source": [
    "### Synchronous"
   ]
  },
  {
   "cell_type": "code",
   "id": "16f03faa-1ff4-4b48-a67a-fc120ccb6cfb",
   "metadata": {
    "ExecuteTime": {
     "end_time": "2024-10-18T09:47:06.913744Z",
     "start_time": "2024-10-18T09:47:06.910226Z"
    }
   },
   "source": [
    "def t_complete(tname, il, con_par, iso, sql, sel=\"\", rollback=False, print_pre=False, print_post=True, nl=True):\n",
    "    prefix = t_prefix(tname, il)\n",
    "    print(f\"{prefix}START: {iso}\")\n",
    "\n",
    "    with driver.connect(user=c.pg_userid, password=c.pg_password, host=c.pg_host, port=c.pg_port,\n",
    "                        database=c.pg_db) as con:\n",
    "        with con.cursor() as cur:\n",
    "            cur.execute(f\"SET SESSION TRANSACTION ISOLATION LEVEL {iso}\")\n",
    "            if print_pre: print(f\"{prefix}{cur.execute(sel)}\")\n",
    "            cur.execute(sql)\n",
    "            print(f\"{prefix}{sql}\")\n",
    "            if print_post: print(f\"{prefix}{cur.execute(sel)}\")\n",
    "            if rollback:\n",
    "                con.rollback()\n",
    "                print(f\"{prefix}rollback and close\")\n",
    "            else:\n",
    "                print(f\"{prefix}commit and close\")\n",
    "        print_nl(nl)"
   ],
   "outputs": [],
   "execution_count": 15
  },
  {
   "metadata": {
    "ExecuteTime": {
     "end_time": "2024-10-18T09:47:06.961371Z",
     "start_time": "2024-10-18T09:47:06.956812Z"
    }
   },
   "cell_type": "code",
   "source": [
    "def t_start(tname, il, con_par, iso, sql, sel=\"\", print_pre=False, print_post=True, nl=True):\n",
    "    prefix = t_prefix(tname, il)\n",
    "    print(f\"{prefix}START: {iso}\")\n",
    "\n",
    "    con = driver.connect(user=c.pg_userid, password=c.pg_password, host=c.pg_host, port=c.pg_port, database=c.pg_db)\n",
    "    with con.cursor() as cur:\n",
    "        cur.execute(f\"SET SESSION TRANSACTION ISOLATION LEVEL {iso}\")\n",
    "        if print_pre: print(f\"{prefix}{cur.execute(sel)}\")\n",
    "        cur.execute(sql)\n",
    "        print(f\"{prefix}{sql}\")\n",
    "        if print_post: print(f\"{prefix}{cur.execute(sel)}\")\n",
    "        print_nl(nl)\n",
    "    return con"
   ],
   "id": "357973d1-92dc-4517-bfd5-95cb0d95a7b4",
   "outputs": [],
   "execution_count": 16
  },
  {
   "cell_type": "code",
   "id": "7be97ed8-939b-4833-a36b-d1f17430c5b1",
   "metadata": {
    "ExecuteTime": {
     "end_time": "2024-10-18T09:47:07.009234Z",
     "start_time": "2024-10-18T09:47:07.006610Z"
    }
   },
   "source": [
    "def t_next(tname, il, con, sql, sel=\"\", print_pre=False, print_post=True, nl=True):\n",
    "    prefix = t_prefix(tname, il)\n",
    "\n",
    "    with con.cursor() as cur:\n",
    "        if print_pre: print(f\"{prefix}{cur.execute(sel)}\")\n",
    "        print(f\"{prefix}{sql}\")\n",
    "        cur.execute(sql)\n",
    "        if print_post: print(f\"{prefix}{cur.execute(sel)}\")\n",
    "    print_nl(nl)"
   ],
   "outputs": [],
   "execution_count": 17
  },
  {
   "metadata": {
    "ExecuteTime": {
     "end_time": "2024-10-18T09:47:07.064138Z",
     "start_time": "2024-10-18T09:47:07.060388Z"
    }
   },
   "cell_type": "code",
   "source": [
    "def t_finish(tname, il, con, sel=\"\", rollback=False, print_state=False, nl=True):\n",
    "    prefix = t_prefix(tname, il)\n",
    "    with con.cursor() as cur:\n",
    "        if print_state: print(f\"{prefix}{cur.execute(sel)}\")\n",
    "        if rollback:\n",
    "            con.rollback()\n",
    "            print(f\"{prefix}rollback and close\")\n",
    "        else:\n",
    "            con.commit()\n",
    "            print(f\"{prefix}commit and close\")\n",
    "    con.close()\n",
    "    print_nl(nl)"
   ],
   "id": "4d0b338a-2928-4b08-8c78-d615f79cfbe8",
   "outputs": [],
   "execution_count": 18
  },
  {
   "cell_type": "markdown",
   "id": "4ff13eed-2850-482c-a462-46486971c8ab",
   "metadata": {},
   "source": [
    "### Asynchronous"
   ]
  },
  {
   "cell_type": "code",
   "id": "d231fd46-d07c-4759-9495-9c8412bca5fc",
   "metadata": {
    "ExecuteTime": {
     "end_time": "2024-10-18T09:47:07.111467Z",
     "start_time": "2024-10-18T09:47:07.106684Z"
    }
   },
   "source": [
    "async def t_async_complete(tname, il, con_par, iso, sql, sel=\"\", rollback=False, print_pre=False, print_post=True,\n",
    "                           nl=True):\n",
    "    prefix = t_prefix(tname, il)\n",
    "    print(f\"{prefix}START: {iso.name}\")\n",
    "    async with await driver.AsyncConnection.connect(con_par) as con:\n",
    "        await con.set_isolation_level(iso)\n",
    "        if print_pre:\n",
    "            cur = await con.execute(sel)\n",
    "            print(f\"{prefix}{await cur.fetchall()}\")\n",
    "        await con.execute(sql)\n",
    "        print(f\"{prefix}{sql}\")\n",
    "        if print_post:\n",
    "            cur = await con.execute(sel)\n",
    "            print(f\"{prefix}{await cur.fetchall()}\")\n",
    "        if rollback:\n",
    "            await con.rollback()\n",
    "            print(f\"{prefix}rollback and close\")\n",
    "        else:\n",
    "            print(f\"{prefix}commit and close\")\n",
    "        print_nl(nl)"
   ],
   "outputs": [],
   "execution_count": 19
  },
  {
   "cell_type": "code",
   "id": "46510223-ce6f-47ba-a1e3-c11a8b6757dd",
   "metadata": {
    "ExecuteTime": {
     "end_time": "2024-10-18T09:47:07.161541Z",
     "start_time": "2024-10-18T09:47:07.157112Z"
    }
   },
   "source": [
    "async def t_async_start(tname, il, con_par, iso, sql, sel=\"\", print_pre=False, print_post=True, nl=True):\n",
    "    prefix = t_prefix(tname, il)\n",
    "    print(f\"{prefix}START: {iso.name}\")\n",
    "    con = await driver.AsyncConnection.connect(con_par)\n",
    "    await con.set_isolation_level(iso)\n",
    "    if print_pre:\n",
    "        cur = await con.execute(sel)\n",
    "        print(f\"{prefix}{await cur.fetchall()}\")\n",
    "    await con.execute(sql)\n",
    "    print(f\"{prefix}{sql}\")\n",
    "    if print_post:\n",
    "        cur = await con.execute(sel)\n",
    "        print(f\"{prefix}{await cur.fetchall()}\")\n",
    "        print_nl(nl)\n",
    "    return con"
   ],
   "outputs": [],
   "execution_count": 20
  },
  {
   "cell_type": "code",
   "id": "ded13643-f093-4439-aa76-fe68ee11736e",
   "metadata": {
    "ExecuteTime": {
     "end_time": "2024-10-18T09:47:07.213060Z",
     "start_time": "2024-10-18T09:47:07.210120Z"
    }
   },
   "source": [
    "async def t_async_next(tname, il, con, sql, sel=\"\", print_pre=False, print_post=True, nl=True):\n",
    "    prefix = t_prefix(tname, il)\n",
    "    if print_pre:\n",
    "        cur = await con.execute(sel)\n",
    "        print(f\"{prefix}{await cur.fetchall()}\")\n",
    "    await con.execute(sql)\n",
    "    print(f\"{prefix}{sql}\")\n",
    "    if print_post:\n",
    "        cur = await con.execute(sel)\n",
    "        print(f\"{prefix}{await cur.fetchall()}\")\n",
    "    print_nl(nl)"
   ],
   "outputs": [],
   "execution_count": 21
  },
  {
   "cell_type": "code",
   "id": "5077ae68-7147-4ae6-9899-6c8097adb440",
   "metadata": {
    "ExecuteTime": {
     "end_time": "2024-10-18T09:47:07.259678Z",
     "start_time": "2024-10-18T09:47:07.256983Z"
    }
   },
   "source": [
    "async def t_async_finish(tname, il, con, sel=\"\", rollback=False, print_state=False, nl=True):\n",
    "    prefix = t_prefix(tname, il)\n",
    "    if print_state:\n",
    "        cur = await con.execute(sel)\n",
    "        print(f\"{prefix}{await cur.fetchall()}\")\n",
    "    if rollback:\n",
    "        await con.rollback()\n",
    "        print(f\"{prefix}rollback and close\")\n",
    "    else:\n",
    "        await con.commit()\n",
    "        print(f\"{prefix}commit and close\")\n",
    "    await con.close()\n",
    "    print_nl(nl)"
   ],
   "outputs": [],
   "execution_count": 22
  },
  {
   "cell_type": "markdown",
   "id": "4a99699f-107f-42c8-8593-4a869294e8bf",
   "metadata": {},
   "source": [
    "# Config"
   ]
  },
  {
   "cell_type": "markdown",
   "id": "814315d9-52b3-409e-8909-9c16eed2bb63",
   "metadata": {},
   "source": [
    "## Globals"
   ]
  },
  {
   "cell_type": "code",
   "id": "f36d3db3-7bcf-4692-a8f4-7e7a54a327f5",
   "metadata": {
    "ExecuteTime": {
     "end_time": "2024-10-18T09:47:07.307626Z",
     "start_time": "2024-10-18T09:47:07.303987Z"
    }
   },
   "source": [
    "CON_PAR = \" \".join([\n",
    "    f\"host={c.pg_host}\",\n",
    "    f\"dbname={c.pg_db}\",\n",
    "    f\"user={c.pg_userid}\",\n",
    "    f\"password={c.pg_password}\",\n",
    "    f\"options='-c search_path={c.pg_userid},ugeobln,ugm,uinsta,umisc,umobility,usozmed,public'\"\n",
    "])\n",
    "# print(CON_PAR)\n",
    "# RC, RR, SER = driver.IsolationLevel.READ_COMMITTED, driver.IsolationLevel.REPEATABLE_READ, driver.IsolationLevel.SERIALIZABLE\n",
    "RC, RR, SER = \"READ COMMITTED\", \"REPEATABLE READ\", \"SERIALIZABLE\"\n",
    "IL1, IL2, IL3, IL4 = 0, 10, 20, 30\n",
    "TREAD, T1, T2, T3, T4 = \"TRead\", \"T1\", \"T2\", \"T3\", \"T4\""
   ],
   "outputs": [],
   "execution_count": 23
  },
  {
   "cell_type": "markdown",
   "id": "648a255f-717f-49d7-802d-1bb0f9a5fe8d",
   "metadata": {},
   "source": [
    "## Create Tables"
   ]
  },
  {
   "cell_type": "code",
   "id": "42222313-2e35-4897-97b2-553e59c24c7c",
   "metadata": {
    "ExecuteTime": {
     "end_time": "2024-10-18T09:47:08.473647Z",
     "start_time": "2024-10-18T09:47:07.353258Z"
    }
   },
   "source": [
    "create_cv(CON_PAR)\n",
    "create_konto(CON_PAR)\n",
    "create_personal(CON_PAR)\n",
    "create_website(CON_PAR)"
   ],
   "outputs": [],
   "execution_count": 24
  },
  {
   "cell_type": "markdown",
   "id": "49dae717-4782-4be2-9d6a-7b656b82b33f",
   "metadata": {},
   "source": [
    "# Benutzung Transaktionscode"
   ]
  },
  {
   "cell_type": "markdown",
   "id": "638f1861-5249-413a-8b3b-bc2e57949c01",
   "metadata": {},
   "source": [
    "## Commit, Rolllback"
   ]
  },
  {
   "cell_type": "code",
   "id": "f2abee64-c84d-44f1-8e38-70ad9c031fbc",
   "metadata": {
    "ExecuteTime": {
     "end_time": "2024-10-18T09:47:11.479349Z",
     "start_time": "2024-10-18T09:47:08.484371Z"
    }
   },
   "source": [
    "reset_personal(CON_PAR)\n",
    "show_tc(CON_PAR, TBL_PERS, ORD_PERS, MSG_BEFORE_PERS)\n",
    "con1 = t_start(\"T1\", IL1, CON_PAR, RC, PERS_100_UPD_41000, PERS_ALL_SEL)\n",
    "print(con1)\n",
    "t_finish(\"T1\", IL1, con1)\n",
    "show_tc(CON_PAR, TBL_PERS, ORD_PERS, MSG_AFTER_PERS)\n",
    "sep()\n",
    "reset_personal(CON_PAR)\n",
    "show_tc(CON_PAR, TBL_PERS, ORD_PERS, MSG_BEFORE_PERS)\n",
    "con1 = t_start(\"T1\", IL1, CON_PAR, RC, PERS_100_UPD_41000, PERS_ALL_SEL)\n",
    "t_finish(\"T1\", IL1, con1, rollback=True)\n",
    "show_tc(CON_PAR, TBL_PERS, ORD_PERS, MSG_AFTER_PERS)\n"
   ],
   "outputs": [
    {
     "name": "stdout",
     "output_type": "stream",
     "text": [
      "Before (pid, gehalt): None\n",
      "\n",
      "T1: START: READ COMMITTED\n",
      "T1: update personal set gehalt=41000 where pid=100\n",
      "T1: None\n",
      "\n",
      "<mariadb.connection connected to 'widb005l.f4.htw-berlin.de' at 0x7cd8eff3ccd0>\n",
      "T1: commit and close\n",
      "\n",
      "After  (pid, gehalt): None\n",
      "\n",
      "**********\n",
      "\n",
      "Before (pid, gehalt): None\n",
      "\n",
      "T1: START: READ COMMITTED\n",
      "T1: update personal set gehalt=41000 where pid=100\n",
      "T1: None\n",
      "\n",
      "T1: rollback and close\n",
      "\n",
      "After  (pid, gehalt): None\n",
      "\n"
     ]
    }
   ],
   "execution_count": 25
  },
  {
   "cell_type": "code",
   "id": "11af81d2-239c-4c0a-a456-74caacb9446e",
   "metadata": {
    "ExecuteTime": {
     "end_time": "2024-10-18T09:47:12.293026Z",
     "start_time": "2024-10-18T09:47:11.486819Z"
    }
   },
   "source": [
    "reset_personal(CON_PAR)\n",
    "show_tc(CON_PAR, TBL_PERS, ORD_PERS, MSG_BEFORE_PERS)\n",
    "t_complete(\"T1\", IL1, CON_PAR, RC, PERS_100_UPD_41000, PERS_ALL_SEL)\n",
    "show_tc(CON_PAR, TBL_PERS, ORD_PERS, MSG_AFTER_PERS)"
   ],
   "outputs": [
    {
     "name": "stdout",
     "output_type": "stream",
     "text": [
      "Before (pid, gehalt): None\n",
      "\n",
      "T1: START: READ COMMITTED\n",
      "T1: update personal set gehalt=41000 where pid=100\n",
      "T1: None\n",
      "T1: commit and close\n",
      "\n",
      "After  (pid, gehalt): None\n",
      "\n"
     ]
    }
   ],
   "execution_count": 26
  },
  {
   "cell_type": "markdown",
   "id": "4cb74bec-d009-4aa4-860c-167287fe0993",
   "metadata": {},
   "source": [
    "# Szenarien"
   ]
  },
  {
   "cell_type": "markdown",
   "id": "bf393cd5-fe5e-49ae-b2f3-edd99ee60ef2",
   "metadata": {},
   "source": [
    "## Snapshot - Read Committed"
   ]
  },
  {
   "cell_type": "code",
   "id": "8efd367f-7dfa-4977-bd05-eb9945b30aa5",
   "metadata": {
    "ExecuteTime": {
     "end_time": "2024-10-18T09:47:12.303770Z",
     "start_time": "2024-10-18T09:47:12.301601Z"
    }
   },
   "source": [],
   "outputs": [],
   "execution_count": null
  },
  {
   "cell_type": "markdown",
   "id": "f81ff1b9-f413-4896-808f-10d80c3dd446",
   "metadata": {},
   "source": [
    "## Snapshot - Repeatble Read"
   ]
  },
  {
   "cell_type": "code",
   "id": "87eb6998-1d0a-4d8d-8b75-4e39c0020048",
   "metadata": {
    "ExecuteTime": {
     "end_time": "2024-10-18T09:47:14.143378Z",
     "start_time": "2024-10-18T09:47:12.345724Z"
    }
   },
   "source": [
    "reset1_konto(CON_PAR)\n",
    "show_tc(CON_PAR, TBL_KTO, ORD_KTO, MSG_BEFORE_KTO)\n",
    "\n",
    "t_complete(T1, IL1, CON_PAR, RC, KTO_100_UPD_3, KTO_ALL_SEL)\n",
    "\n",
    "con1 = t_start(TREAD, IL3, CON_PAR, RR, KTO_ALL_SEL, KTO_ALL_SEL)\n",
    "\n",
    "t_complete(T2, IL2, CON_PAR, RC, KTO_200_UPD_7, KTO_ALL_SEL)\n",
    "t_complete(T3, IL1, CON_PAR, RC, KTO_300_INS_1, KTO_ALL_SEL)\n",
    "\n",
    "t_next(TREAD, IL3, con1, KTO_ALL_SEL, KTO_ALL_SEL)\n",
    "t_finish(TREAD, IL3, con1)\n",
    "\n",
    "show_tc(CON_PAR, TBL_KTO, ORD_KTO, MSG_AFTER_KTO)"
   ],
   "outputs": [
    {
     "name": "stdout",
     "output_type": "stream",
     "text": [
      "Before (kid, betrag): None\n",
      "\n",
      "T1: START: READ COMMITTED\n",
      "T1: update konto set betrag = 3 where kid=100\n",
      "T1: None\n",
      "T1: commit and close\n",
      "\n",
      "                    TRead: START: REPEATABLE READ\n",
      "                    TRead: select * from konto order by kid\n",
      "                    TRead: None\n",
      "\n",
      "          T2: START: READ COMMITTED\n",
      "          T2: update konto set betrag = 7 where kid=200\n",
      "          T2: None\n",
      "          T2: commit and close\n",
      "\n",
      "T3: START: READ COMMITTED\n",
      "T3: insert into konto values (300, 1)\n",
      "T3: None\n",
      "T3: commit and close\n",
      "\n",
      "                    TRead: select * from konto order by kid\n",
      "                    TRead: None\n",
      "\n",
      "                    TRead: commit and close\n",
      "\n",
      "After  (kid, betrag): None\n",
      "\n"
     ]
    }
   ],
   "execution_count": 27
  },
  {
   "cell_type": "markdown",
   "id": "b201e816-099d-426a-8260-9105d4e947f8",
   "metadata": {},
   "source": [
    "## Lost Update"
   ]
  },
  {
   "cell_type": "code",
   "id": "f1b432f2-89f0-4a73-b8c7-3a6a1730f702",
   "metadata": {
    "ExecuteTime": {
     "end_time": "2024-10-18T09:47:14.155633Z",
     "start_time": "2024-10-18T09:47:14.153285Z"
    }
   },
   "source": [],
   "outputs": [],
   "execution_count": null
  },
  {
   "cell_type": "markdown",
   "id": "aaba209c-4684-41f6-a272-592fafd1e96f",
   "metadata": {},
   "source": [
    "## Write Skew"
   ]
  },
  {
   "cell_type": "code",
   "id": "9c83b2dd-c59e-40c8-9a76-5b43817dbd82",
   "metadata": {
    "ExecuteTime": {
     "end_time": "2024-10-18T09:47:16.888558Z",
     "start_time": "2024-10-18T09:47:14.198698Z"
    }
   },
   "source": [
    "reset2_konto(CON_PAR)\n",
    "show_tc(CON_PAR, TBL_KTO, ORD_KTO, MSG_BEFORE_KTO)\n",
    "con1 = t_start(T1, IL1, CON_PAR, RR, KTO_ALL_SEL, KTO_ALL_SEL)\n",
    "\n",
    "con2 = t_start(T2, IL2, CON_PAR, RR, KTO_ALL_SEL, KTO_ALL_SEL)\n",
    "\n",
    "t_next(T1, IL1, con1, KTO_100_UPD_WITHDRAW90, KTO_ALL_SEL)\n",
    "t_finish(T1, IL1, con1)\n",
    "\n",
    "t_next(T2, IL2, con2, KTO_200_UPD_WITHDRAW50, KTO_ALL_SEL)\n",
    "t_finish(T1, IL2, con2)\n",
    "show_tc(CON_PAR, TBL_KTO, ORD_KTO, MSG_AFTER_KTO)\n",
    "\n",
    "sep()\n",
    "\n",
    "reset2_konto(CON_PAR)\n",
    "show_tc(CON_PAR, TBL_KTO, ORD_KTO, MSG_BEFORE_KTO)\n",
    "con1 = t_start(T1, IL1, CON_PAR, SER, KTO_ALL_SEL, KTO_ALL_SEL)\n",
    "\n",
    "con2 = t_start(T2, IL2, CON_PAR, SER, KTO_ALL_SEL, KTO_ALL_SEL)\n",
    "\n",
    "t_next(T1, IL1, con1, KTO_100_UPD_WITHDRAW90, KTO_ALL_SEL)\n",
    "t_finish(T1, IL1, con1)\n",
    "\n",
    "try:\n",
    "    t_next(T2, IL2, con2, KTO_200_UPD_WITHDRAW50, KTO_ALL_SEL)\n",
    "    t_finish(T2, IL2, con2)\n",
    "except Exception as e:\n",
    "    handle_db_exc(T2, IL2, con2, e)\n",
    "\n",
    "show_tc(CON_PAR, TBL_KTO, ORD_KTO, MSG_AFTER_KTO)\n"
   ],
   "outputs": [
    {
     "name": "stdout",
     "output_type": "stream",
     "text": [
      "Before (kid, betrag): None\n",
      "\n",
      "T1: START: REPEATABLE READ\n",
      "T1: select * from konto order by kid\n",
      "T1: None\n",
      "\n",
      "          T2: START: REPEATABLE READ\n",
      "          T2: select * from konto order by kid\n",
      "          T2: None\n",
      "\n",
      "T1: update konto set betrag = betrag -90 where kid=100\n",
      "T1: None\n",
      "\n",
      "T1: commit and close\n",
      "\n",
      "          T2: update konto set betrag = betrag -50 where kid=200\n",
      "          T2: None\n",
      "\n",
      "          T1: commit and close\n",
      "\n",
      "After  (kid, betrag): None\n",
      "\n",
      "**********\n",
      "\n",
      "Before (kid, betrag): None\n",
      "\n",
      "T1: START: SERIALIZABLE\n",
      "T1: select * from konto order by kid\n",
      "T1: None\n",
      "\n",
      "          T2: START: SERIALIZABLE\n",
      "          T2: select * from konto order by kid\n",
      "          T2: None\n",
      "\n",
      "T1: update konto set betrag = betrag -90 where kid=100\n",
      "T1: None\n",
      "\n",
      "T1: commit and close\n",
      "\n",
      "          T2: update konto set betrag = betrag -50 where kid=200\n",
      "          T2: None\n",
      "\n",
      "          T2: commit and close\n",
      "\n",
      "After  (kid, betrag): None\n",
      "\n"
     ]
    }
   ],
   "execution_count": 28
  },
  {
   "cell_type": "markdown",
   "id": "04535b5c-bc21-49e8-81ee-7bc9bb788c37",
   "metadata": {},
   "source": [
    "## Update Conflicts 1 - READ COMMITTED"
   ]
  },
  {
   "cell_type": "code",
   "id": "0ab8039e-2f7f-4db2-be41-6b3e1a03885a",
   "metadata": {
    "ExecuteTime": {
     "end_time": "2024-10-18T09:47:16.899271Z",
     "start_time": "2024-10-18T09:47:16.897369Z"
    }
   },
   "source": [],
   "outputs": [],
   "execution_count": null
  },
  {
   "cell_type": "markdown",
   "id": "cac48a19-a816-4c86-a65a-cd587d6fbee8",
   "metadata": {},
   "source": [
    "## Update Conflicts 1 - REPEATABLE READ"
   ]
  },
  {
   "cell_type": "code",
   "id": "6e7b7fee-2a5b-4ee7-a2fd-5c2b79b34ad7",
   "metadata": {
    "ExecuteTime": {
     "end_time": "2024-10-18T09:47:16.942654Z",
     "start_time": "2024-10-18T09:47:16.940414Z"
    }
   },
   "source": [],
   "outputs": [],
   "execution_count": null
  },
  {
   "cell_type": "markdown",
   "id": "5bc507b8-8295-4e4a-918e-3d893bb31be1",
   "metadata": {},
   "source": [
    "## Update Conflicts 2 - READ COMMITTED"
   ]
  },
  {
   "cell_type": "code",
   "id": "e80b9036-24ea-4b33-a480-710ad6e1d280",
   "metadata": {
    "ExecuteTime": {
     "end_time": "2024-10-18T09:47:16.992903Z",
     "start_time": "2024-10-18T09:47:16.990329Z"
    }
   },
   "source": [],
   "outputs": [],
   "execution_count": null
  },
  {
   "cell_type": "markdown",
   "id": "7674617f-0da1-402b-9770-61562036ec02",
   "metadata": {},
   "source": [
    "## Update Conflicts 2 - REPEATABLE READ"
   ]
  },
  {
   "cell_type": "code",
   "id": "3569ecfe-542d-43c7-862e-be2e8c9e0e11",
   "metadata": {
    "ExecuteTime": {
     "end_time": "2024-10-18T09:47:17.039165Z",
     "start_time": "2024-10-18T09:47:17.036928Z"
    }
   },
   "source": [],
   "outputs": [],
   "execution_count": null
  },
  {
   "cell_type": "markdown",
   "id": "ade48d10-21f1-48db-8ad8-afe7008f88f8",
   "metadata": {},
   "source": [
    "## Serialisierungsfehler"
   ]
  },
  {
   "cell_type": "code",
   "id": "dc4d5363-e597-4ac3-8dbe-6b5002821fe7",
   "metadata": {
    "ExecuteTime": {
     "end_time": "2024-10-18T09:47:17.085600Z",
     "start_time": "2024-10-18T09:47:17.083333Z"
    }
   },
   "source": [],
   "outputs": [],
   "execution_count": null
  },
  {
   "cell_type": "markdown",
   "id": "fab231ee-f6a7-4385-8103-b18530364c16",
   "metadata": {},
   "source": [
    "## Write Skew Avoidance- with Locks"
   ]
  },
  {
   "cell_type": "code",
   "id": "f233e82b-d2d2-417b-8adb-9700c6ea4552",
   "metadata": {
    "ExecuteTime": {
     "end_time": "2024-10-18T09:47:17.132764Z",
     "start_time": "2024-10-18T09:47:17.130416Z"
    }
   },
   "source": [],
   "outputs": [],
   "execution_count": null
  },
  {
   "cell_type": "markdown",
   "id": "991374de-0bde-4c22-bcae-60319c5eb75c",
   "metadata": {},
   "source": [
    "## PostgreSQL Paper: Fig 1"
   ]
  },
  {
   "cell_type": "code",
   "id": "5342190b-88bd-493d-bdad-194234e6cf33",
   "metadata": {
    "ExecuteTime": {
     "end_time": "2024-10-18T09:47:17.178639Z",
     "start_time": "2024-10-18T09:47:17.176473Z"
    }
   },
   "source": [],
   "outputs": [],
   "execution_count": null
  },
  {
   "cell_type": "markdown",
   "id": "ebf3acdb-3688-4cdd-80d4-13bc240b0845",
   "metadata": {},
   "source": [
    "## PostgreSQL Paper: Fig 2"
   ]
  },
  {
   "cell_type": "code",
   "id": "5578f619-784b-4b55-9e64-8a3d8d07adf0",
   "metadata": {
    "ExecuteTime": {
     "end_time": "2024-10-18T09:47:17.225657Z",
     "start_time": "2024-10-18T09:47:17.223417Z"
    }
   },
   "source": [],
   "outputs": [],
   "execution_count": null
  }
 ],
 "metadata": {
  "kernelspec": {
   "display_name": "Python 3 (ipykernel)",
   "language": "python",
   "name": "python3"
  },
  "language_info": {
   "codemirror_mode": {
    "name": "ipython",
    "version": 3
   },
   "file_extension": ".py",
   "mimetype": "text/x-python",
   "name": "python",
   "nbconvert_exporter": "python",
   "pygments_lexer": "ipython3",
   "version": "3.12.6"
  }
 },
 "nbformat": 4,
 "nbformat_minor": 5
}
